{
 "cells": [
  {
   "cell_type": "markdown",
   "metadata": {},
   "source": [
    "# Strategy Details\n",
    "This strategy is based on the followin paper:  Klaus Grobys, Veda Fatmy and Topias Rajalin, Combining low-volatility and momentum: recent evidence from the Nordic equities, Applied Economics, 2024\n",
    "The idea is that: Low volatility anomaly can be combined with the momentum anomaly to enhance risk-adjusted returns.\n",
    "\n",
    "The research on combined low-volatility and momentum investment strategies has primarily focused on the Nordic stock markets. However, it would be valuable to explore whether these combined strategies can also improve the performance of a pure-play momentum strategy in the context of the S&P 500."
   ]
  },
  {
   "cell_type": "code",
   "execution_count": 1,
   "metadata": {},
   "outputs": [],
   "source": [
    "# Collect the list of the S&P 500 companies from Wikipedia and save it to a file\n",
    "import os\n",
    "import requests\n",
    "import pandas as pd\n",
    "import numpy as np\n",
    "\n",
    "import warnings\n",
    "warnings.filterwarnings(\"ignore\")\n",
    "\n",
    "# Get the list of S&P 500 companies from Wikipedia\n",
    "url = 'https://en.wikipedia.org/wiki/List_of_S%26P_500_companies'\n",
    "response = requests.get(url)\n",
    "html = response.content\n",
    "\n",
    "df = pd.read_html(html, header=0)[0]\n",
    "\n",
    "tickers = df['Symbol'].tolist()"
   ]
  },
  {
   "cell_type": "code",
   "execution_count": 2,
   "metadata": {},
   "outputs": [
    {
     "name": "stderr",
     "output_type": "stream",
     "text": [
      "BRK.B: No timezone found, symbol may be delisted\n",
      "BF.B: No price data found, symbol may be delisted (1d 2005-01-01 -> 2023-12-31)\n",
      "GEV: Data doesn't exist for startDate = 1104555600, endDate = 1703998800\n",
      "SOLV: Data doesn't exist for startDate = 1104555600, endDate = 1703998800\n"
     ]
    },
    {
     "name": "stdout",
     "output_type": "stream",
     "text": [
      "Loaded data for 495 companies\n"
     ]
    }
   ],
   "source": [
    "# Load the data from yahoo finance\n",
    "import os\n",
    "import yfinance as yf\n",
    "\n",
    "def load_data(symbol):\n",
    "\n",
    "    direc = 'data/'\n",
    "    os.makedirs(direc, exist_ok=True)\n",
    "\n",
    "    file_name = os.path.join(direc, symbol + '.csv')\n",
    "\n",
    "    if not os.path.exists(file_name):\n",
    "\n",
    "        ticker = yf.Ticker(symbol)\n",
    "        df = ticker.history(start='2005-01-01', end='2023-12-31')\n",
    "\n",
    "        df.to_csv(file_name)\n",
    "\n",
    "    df = pd.read_csv(file_name, index_col=0)\n",
    "    df.index = pd.to_datetime(df.index, utc=True).tz_convert('US/Eastern')\n",
    "    df['date'] = df.index\n",
    "\n",
    "    if len(df) == 0:\n",
    "        os.remove(file_name)\n",
    "        return None\n",
    "\n",
    "    return df\n",
    "\n",
    "holder = []\n",
    "ticker_with_data = []\n",
    "for symbol in tickers:\n",
    "    df = load_data(symbol)\n",
    "    if df is not None:\n",
    "        if len(df) > 3*252:\n",
    "            holder.append(df)\n",
    "            ticker_with_data.append(symbol)\n",
    "\n",
    "tickers = ticker_with_data[:]\n",
    "\n",
    "print (f'Loaded data for {len(tickers)} companies')"
   ]
  },
  {
   "cell_type": "code",
   "execution_count": 3,
   "metadata": {},
   "outputs": [],
   "source": [
    "# Get the monthly data as we use the monthly data to calculate the momentum\n",
    "monthly_data = []\n",
    "for data in holder:\n",
    "    df = data.resample('M').agg({\n",
    "        'date': 'first',\n",
    "        'Open': 'first',\n",
    "        'High': 'max',\n",
    "        'Low': 'min',\n",
    "        'Close': 'last',\n",
    "        'Volume': 'sum'\n",
    "    })\n",
    "\n",
    "    df.set_index('date', inplace=True)\n",
    "\n",
    "    # convert the date time to year-month\n",
    "    df.index = df.index.to_period('M')\n",
    "\n",
    "    monthly_data.append(df)\n"
   ]
  },
  {
   "cell_type": "markdown",
   "metadata": {},
   "source": [
    "## Add the monthly returns and the volatilties"
   ]
  },
  {
   "cell_type": "markdown",
   "metadata": {},
   "source": [
    "Assume we will open at the monthly open price and will close at the monthly close."
   ]
  },
  {
   "cell_type": "code",
   "execution_count": 4,
   "metadata": {},
   "outputs": [],
   "source": [
    "# Calculate the monthly returns\n",
    "temp = []\n",
    "for df in monthly_data:\n",
    "    df['intra_month_return'] = df['Close'] / df['Open'] - 1\n",
    "    df['next_intra_month_return'] = df['intra_month_return'].shift(-1)\n",
    "    df['monthly_return'] = df['Close'].pct_change()\n",
    "    \n",
    "    # Last 12 months return except the current month\n",
    "    df['rolling_12_months_return'] = df['monthly_return'].rolling(11).sum().shift()\n",
    "\n",
    "    temp.append(df)\n",
    "\n",
    "monthly_data = temp"
   ]
  },
  {
   "cell_type": "markdown",
   "metadata": {},
   "source": [
    "In the research paper, weekly data are used to calculated the volatility. Here, we use daily returns to calculate the standard deviation of 3 years historical data"
   ]
  },
  {
   "cell_type": "code",
   "execution_count": 5,
   "metadata": {},
   "outputs": [],
   "source": [
    "# Calculate the volatility using historical data of the last 3 years\n",
    "for df in holder:\n",
    "    df['daily_return'] = df['Close'].pct_change()\n",
    "    df['rolling_3_years_volatility'] =df['daily_return'].rolling(3*252).std()\n",
    "    df['last_month_rolling_3_years_volatility'] = df['rolling_3_years_volatility'].shift()\n",
    "\n",
    "monthly_3_years_volatility_data = []\n",
    "for df in holder:\n",
    "    temp = df.copy()\n",
    "    temp = temp.resample('M').agg({'date': 'first','last_month_rolling_3_years_volatility': 'first'})\n",
    "    temp.set_index('date', inplace=True)\n",
    "    temp.dropna(inplace=True)\n",
    "    # Convert the date time to year-month format\n",
    "    temp.index = temp.index.to_period('M')\n",
    "    monthly_3_years_volatility_data.append(temp)"
   ]
  },
  {
   "cell_type": "code",
   "execution_count": 6,
   "metadata": {},
   "outputs": [],
   "source": [
    "# Add the last_month_rolling_3_years_volatilityto monthly data\n",
    "for i in range(len(monthly_data)):\n",
    "    monthly_data[i] = pd.concat([monthly_data[i], monthly_3_years_volatility_data[i]], axis=1)\n",
    "\n",
    "    #The backtesting period start from 2008-01-02\n",
    "    monthly_data[i] = monthly_data[i].loc['2008-01-01':]"
   ]
  },
  {
   "cell_type": "markdown",
   "metadata": {},
   "source": [
    "## Strategy Implementation"
   ]
  },
  {
   "cell_type": "markdown",
   "metadata": {},
   "source": [
    "Firstly, convert the dataframes into a new dataframe with column names being tickers and row index being the datetime."
   ]
  },
  {
   "cell_type": "code",
   "execution_count": 7,
   "metadata": {},
   "outputs": [
    {
     "name": "stdout",
     "output_type": "stream",
     "text": [
      "              MMM       AOS       ABT  ABBV\n",
      "date                                       \n",
      "2008-01  0.165248 -0.037589  0.081723   NaN\n",
      "2008-02  0.105294 -0.041811  0.057131   NaN\n",
      "2008-03  0.065304  0.010470 -0.011287   NaN\n",
      "              MMM       AOS       ABT  ABBV\n",
      "date                                       \n",
      "2008-01 -0.010007  0.037006 -0.055389   NaN\n",
      "2008-02  0.012667 -0.094490  0.033352   NaN\n",
      "2008-03 -0.034041 -0.069337 -0.037960   NaN\n",
      "              MMM       AOS       ABT  ABBV\n",
      "date                                       \n",
      "2008-01  0.011269  0.021270  0.011481   NaN\n",
      "2008-02  0.011350  0.021901  0.011652   NaN\n",
      "2008-03  0.011437  0.022053  0.011725   NaN\n"
     ]
    }
   ],
   "source": [
    "rolling_12_months_return_holder = []\n",
    "next_intra_month_return_holder = []\n",
    "last_month_rolling_3_years_std_holder = []\n",
    "intra_month_reutrn_holder = []\n",
    "\n",
    "# Creating tables with symbols as columns and the date as rows\n",
    "for symbol, df in zip(tickers, monthly_data):\n",
    "\n",
    "    rolling_12_months_return_series = df['rolling_12_months_return'].copy()\n",
    "    next_intra_month_return_series = df['next_intra_month_return'].copy()\n",
    "    last_month_rolling_3_years_std_series = df['last_month_rolling_3_years_volatility'].copy()\n",
    "    \n",
    "    rolling_12_months_return_series.name = symbol\n",
    "    next_intra_month_return_series.name = symbol\n",
    "    last_month_rolling_3_years_std_series.name = symbol\n",
    "\n",
    "    rolling_12_months_return_holder.append(rolling_12_months_return_series)\n",
    "    next_intra_month_return_holder.append(next_intra_month_return_series)\n",
    "    last_month_rolling_3_years_std_holder.append(last_month_rolling_3_years_std_series)\n",
    "  \n",
    "# Create the final dataframes \n",
    "rolling_12_months_return_df = pd.concat(rolling_12_months_return_holder, axis=1, ignore_index=False)\n",
    "next_intra_month_return_df = pd.concat(next_intra_month_return_holder, axis=1, ignore_index=False)\n",
    "last_month_rolling_3_years_std_df = pd.concat(last_month_rolling_3_years_std_holder, axis=1, ignore_index=False)\n",
    "\n",
    "\n",
    "print (rolling_12_months_return_df.iloc[:3, :4])\n",
    "print (next_intra_month_return_df.iloc[:3, :4])\n",
    "print (last_month_rolling_3_years_std_df.iloc[:3, :4])\n"
   ]
  },
  {
   "cell_type": "code",
   "execution_count": 8,
   "metadata": {},
   "outputs": [],
   "source": [
    "# Build a table to store the results from 4 portfolios using portfolio name as rows and metrics as columns\n",
    "columns = ['Total Return', 'Annualized Return', 'Annualized Volatility', 'Sharpe Ratio', 'VaR']\n",
    "index = ['High Momentum Portfolio', 'Low Volatility Portfolio', 'High Momentum First Low Volatility Portfolio', 'Low Volatility First High Momentum Portfolio']\n",
    "results_df = pd.DataFrame(index=index, columns=columns)"
   ]
  },
  {
   "cell_type": "markdown",
   "metadata": {},
   "source": [
    "### Pure-play High Momentum Portfolio"
   ]
  },
  {
   "cell_type": "markdown",
   "metadata": {},
   "source": [
    "To build a pure-play high mometum portfolio, first, calculate a momentum score for each stock based on its recent 12 month returns exculding the nearest month. Then, identify the stocks with the highest momentum scores. Construct the portfolio by taking a long position in the high momentum stocks. \n",
    "Rebalance the portfolio monthly by recalculating the momentum scores and adjusting the long positions accordingly. "
   ]
  },
  {
   "cell_type": "code",
   "execution_count": 9,
   "metadata": {},
   "outputs": [],
   "source": [
    "# Get the high momentum stocks based on the rolling 12 months return\n",
    "pure_high_momentum_df = pd.DataFrame(index=rolling_12_months_return_df.index, columns=rolling_12_months_return_df.columns)\n",
    "pure_high_momentum_df.iloc[:, :] = np.nan\n",
    "\n",
    "N = len(tickers) // 2\n",
    "high_momentum_mask = rolling_12_months_return_df.rank(axis=1, method='dense', ascending=False) <= N\n",
    "\n",
    "pure_high_momentum_df[high_momentum_mask] = 1\n",
    "\n",
    "returns_df_for_pure_high_momentum = next_intra_month_return_df [high_momentum_mask]\n",
    "\n",
    "equal_weight_portfolio_pure_high_momentum = returns_df_for_pure_high_momentum.mean(axis=1).shift()\n"
   ]
  },
  {
   "cell_type": "code",
   "execution_count": 10,
   "metadata": {},
   "outputs": [
    {
     "name": "stdout",
     "output_type": "stream",
     "text": [
      "The accumulative return of the high momentum portfolio is: 6.619423594210827\n",
      "The annualized return of the high momentum portfolio is: 0.12538535917049032\n",
      "The annualized volatility of the high momentum portfolio is: 0.16916506631800504\n",
      "The Sharpe ratio of the high momentum portfolio is: 0.7412012533059549\n",
      "The VaR at 95% confidence level of the high momentum portfolio is: -0.08084419975535029\n"
     ]
    },
    {
     "data": {
      "image/png": "[encoded data removed]",
      "text/plain": [
       "<Figure size 500x300 with 1 Axes>"
      ]
     },
     "metadata": {},
     "output_type": "display_data"
    }
   ],
   "source": [
    "# calculate the cumulative return\n",
    "cumulative_return_high_momentum = (1 + equal_weight_portfolio_pure_high_momentum).cumprod()\n",
    "print(\"The accumulative return of the high momentum portfolio is:\", cumulative_return_high_momentum[-1])\n",
    "\n",
    "# Calculate the annualized return\n",
    "annualized_return_high_momentum = cumulative_return_high_momentum[-1] ** (12 / len(cumulative_return_high_momentum)) - 1\n",
    "print(\"The annualized return of the high momentum portfolio is:\", annualized_return_high_momentum)\n",
    "\n",
    "# Calculate the annualized volatility\n",
    "annualized_volatility_high_momentum = equal_weight_portfolio_pure_high_momentum.std() * np.sqrt(12)\n",
    "print(\"The annualized volatility of the high momentum portfolio is:\", annualized_volatility_high_momentum)\n",
    "\n",
    "# Calculate the Sharpe ratio\n",
    "sharpe_ratio_high_momentum = annualized_return_high_momentum / annualized_volatility_high_momentum\n",
    "print(\"The Sharpe ratio of the high momentum portfolio is:\", sharpe_ratio_high_momentum)\n",
    "\n",
    "# Calculate the VaR at 95% confidence level\n",
    "VaR_95_high_momentum = equal_weight_portfolio_pure_high_momentum.quantile(0.05)\n",
    "print(\"The VaR at 95% confidence level of the high momentum portfolio is:\", VaR_95_high_momentum)\n",
    "\n",
    "# Store the results in the results table\n",
    "results_df.loc['High Momentum Portfolio', 'Total Return'] = cumulative_return_high_momentum[-1]\n",
    "results_df.loc['High Momentum Portfolio', 'Annualized Return'] = annualized_return_high_momentum\n",
    "results_df.loc['High Momentum Portfolio', 'Annualized Volatility'] = annualized_volatility_high_momentum\n",
    "results_df.loc['High Momentum Portfolio', 'Sharpe Ratio'] = sharpe_ratio_high_momentum\n",
    "results_df.loc['High Momentum Portfolio', 'VaR'] = VaR_95_high_momentum\n",
    "\n",
    "# Plot the cumulative return of the high momentum portfolio\n",
    "import matplotlib.pyplot as plt\n",
    "plt.figure(figsize=(5, 3))\n",
    "cumulative_return_high_momentum.plot(label='High Momentum Portfolio')\n",
    "plt.title('Cumulative Return of the High Momentum Portfolio')\n",
    "plt.legend()\n",
    "plt.show()\n"
   ]
  },
  {
   "cell_type": "markdown",
   "metadata": {},
   "source": [
    "### Pure Low-Volatility Portfolios"
   ]
  },
  {
   "cell_type": "markdown",
   "metadata": {},
   "source": [
    "Similar to pure high momentum portfolio, but this time returns are only obtained by taking short position on low volatility stocks "
   ]
  },
  {
   "cell_type": "code",
   "execution_count": 11,
   "metadata": {},
   "outputs": [
    {
     "name": "stdout",
     "output_type": "stream",
     "text": [
      "The accumulative return of the low volatility portfolio is: 5.254434565249174\n",
      "The Sharpe ratio of the low volatility portfolio is: 0.767549091006001\n",
      "The annualized volatility of the low volatility portfolio is: 0.15139769967240854\n",
      "The annualized return of the low volatility portfolio is: 0.11695342935756736\n",
      "The VaR of the low volatility portfolio is: -0.06717084992194747\n"
     ]
    },
    {
     "data": {
      "text/plain": [
       "<Axes: title={'center': 'Pure Low Volatility Portfolio Accumulative Return'}, xlabel='date'>"
      ]
     },
     "execution_count": 11,
     "metadata": {},
     "output_type": "execute_result"
    },
    {
     "data": {
      "image/png": "[encoded data removed]",
      "text/plain": [
       "<Figure size 500x300 with 1 Axes>"
      ]
     },
     "metadata": {},
     "output_type": "display_data"
    }
   ],
   "source": [
    "# Get the high momentum and low momentum stocks based on the rolling 3 years volatility\n",
    "pure_low_volatility_df = pd.DataFrame(index=rolling_12_months_return_df.index, columns=rolling_12_months_return_df.columns)\n",
    "pure_low_volatility_df.iloc[:, :] = np.nan\n",
    "\n",
    "N = len(tickers) // 2\n",
    "low_volatility_mask = last_month_rolling_3_years_std_df.rank(axis=1, method='dense', ascending=True) <= N\n",
    "\n",
    "pure_low_volatility_df[low_volatility_mask] = 1\n",
    "\n",
    "returns_df_for_pure_low_volatility = next_intra_month_return_df[low_volatility_mask]\n",
    "\n",
    "equal_weight_portfolio_pure_low_volatility = returns_df_for_pure_low_volatility.mean(axis=1).shift()\n",
    "\n",
    "# calculate the cumulative return\n",
    "cumulative_return_low_volatility = (1 + equal_weight_portfolio_pure_low_volatility).cumprod()\n",
    "print(\"The accumulative return of the low volatility portfolio is:\", cumulative_return_low_volatility[-1])\n",
    "\n",
    "# Calculate the Sharpe ratio\n",
    "sharpe_ratio = equal_weight_portfolio_pure_low_volatility.mean() / equal_weight_portfolio_pure_low_volatility.std()* np.sqrt(12)\n",
    "print(\"The Sharpe ratio of the low volatility portfolio is:\", sharpe_ratio)\n",
    "\n",
    "# Calculate the annualized volatility\n",
    "annualized_volatility = equal_weight_portfolio_pure_low_volatility.std() * np.sqrt(12)\n",
    "print(\"The annualized volatility of the low volatility portfolio is:\", annualized_volatility)\n",
    "\n",
    "# Calculate the annualized return\n",
    "annualized_return = (cumulative_return_low_volatility[-1]) ** (1/15) - 1\n",
    "print(\"The annualized return of the low volatility portfolio is:\", annualized_return)\n",
    "\n",
    "# Calculate the VaR\n",
    "VaR = equal_weight_portfolio_pure_low_volatility.quantile(0.05)\n",
    "print(\"The VaR of the low volatility portfolio is:\", VaR)\n",
    "\n",
    "# Store the results in the results table\n",
    "results_df.loc['Low Volatility Portfolio', 'Total Return'] = cumulative_return_low_volatility[-1]\n",
    "results_df.loc['Low Volatility Portfolio', 'Annualized Return'] = annualized_return\n",
    "results_df.loc['Low Volatility Portfolio', 'Annualized Volatility'] = annualized_volatility\n",
    "results_df.loc['Low Volatility Portfolio', 'Sharpe Ratio'] = sharpe_ratio\n",
    "results_df.loc['Low Volatility Portfolio', 'VaR'] = VaR\n",
    "\n",
    "# Plot the cumulative return\n",
    "plt.figure(figsize=(5, 3))\n",
    "cumulative_return_low_volatility.plot(title='Pure Low Volatility Portfolio Accumulative Return')\n"
   ]
  },
  {
   "cell_type": "markdown",
   "metadata": {},
   "source": [
    "### Double Screening: Combined Strategy"
   ]
  },
  {
   "cell_type": "markdown",
   "metadata": {},
   "source": [
    "combination portfolios are created by double-screening stocks by volatility and momentum, and using both volatility-first and momentum-first sorting. For example, in the volatility-first double-screened combination portfolio, stocks are first sorted into two halves by volatility, and then by momentum. This process generates the high momentum stocks from the low volatility universe. This allocation procedure is repeated vice versa for the momentum-first dobble-screened combination portfolios."
   ]
  },
  {
   "cell_type": "markdown",
   "metadata": {},
   "source": [
    "#### 1. Low-Volatility Stocks from High Momentum Universe"
   ]
  },
  {
   "cell_type": "markdown",
   "metadata": {},
   "source": [
    "We first perform momentum first combined strategy"
   ]
  },
  {
   "cell_type": "code",
   "execution_count": 12,
   "metadata": {},
   "outputs": [
    {
     "name": "stdout",
     "output_type": "stream",
     "text": [
      "date\n",
      "2023-08   -0.016264\n",
      "2023-09   -0.048198\n",
      "2023-10   -0.031554\n",
      "2023-11    0.080999\n",
      "2023-12    0.053152\n",
      "Freq: M, dtype: object\n"
     ]
    }
   ],
   "source": [
    "HighMomentumFirst_LowVolatility_df = pd.DataFrame(index = rolling_12_months_return_df.index, columns=rolling_12_months_return_df.columns)\n",
    "HighMomentumFirst_LowVolatility_df.iloc[:, :] = np.nan\n",
    "\n",
    "# Copy the rolling 12 months return dataframe to avoid changing the original dataframe\n",
    "rolling_12_months_return_df_copy = rolling_12_months_return_df.copy()\n",
    "\n",
    "# Firstly selecte the high momentum stocks\n",
    "N_high_momentum = len(tickers) // 2\n",
    "high_momentum_mask =rolling_12_months_return_df_copy.rank(axis=1, method='dense', ascending=False) <= N_high_momentum\n",
    "HighMomentumFirst_LowVolatility_df[high_momentum_mask] = 1\n",
    "\n",
    "# Set the low momentum stocks to be nan so that we can only select the high momentum stocks\n",
    "rolling_12_months_return_df_copy[~high_momentum_mask] = np.nan\n",
    "\n",
    "# Select the low volatility stocks from the high momentum stocks\n",
    "\n",
    "# Set the number of low volatility stocks to be half of the high momentum stocks number\n",
    "N_low_volatility = N_high_momentum // 2\n",
    "low_volatility_mask = rolling_12_months_return_df_copy.rank(axis=1, method='dense', ascending=True) <= N_low_volatility\n",
    "# Denote the low volatility stocks to be 1 and the high volatility stocks to be nan\n",
    "HighMomentumFirst_LowVolatility_df[low_volatility_mask] = 1\n",
    "HighMomentumFirst_LowVolatility_df[~low_volatility_mask] = np.nan\n",
    "\n",
    "# Copy the next intra month return dataframe to avoid changing the original dataframe\n",
    "next_intra_month_return_df_copy = next_intra_month_return_df.copy()\n",
    "\n",
    "returns_df_for_high_momentumFirst_low_volatility = pd.DataFrame(index=rolling_12_months_return_df.index, columns=rolling_12_months_return_df.columns)\n",
    "returns_df_for_high_momentumFirst_low_volatility.iloc[:, :] = np.nan\n",
    "\n",
    "# Perform element-wise multiplication to get the returns of the low volatility first high momentum portfolio\n",
    "returns_df_for_high_momentumFirst_low_volatility = next_intra_month_return_df_copy*HighMomentumFirst_LowVolatility_df\n",
    "\n",
    "# Get the equal weighted portfolio\n",
    "equal_weight_portfolio_high_momentumFirst_low_volatility = returns_df_for_high_momentumFirst_low_volatility.mean(axis=1, skipna=True).shift()\n",
    "\n",
    "print(equal_weight_portfolio_high_momentumFirst_low_volatility.tail(5))\n"
   ]
  },
  {
   "cell_type": "code",
   "execution_count": 13,
   "metadata": {},
   "outputs": [
    {
     "name": "stdout",
     "output_type": "stream",
     "text": [
      "Total return of the high momentum first low volatility portfolio is: 6.005266388158963\n",
      "The annualized return of the high momentum first low volatility portfolio is: 0.12694352291780264\n",
      "The annualized volatility of the high momentum first low volatility portfolio is: 0.16476212620466918\n",
      "The Sharpe ratio of the high momentum first low volatility portfolio is: 0.7693707635082248\n",
      "The VaR of the high momentum first low volatility portfolio is: -0.07396594096007536\n"
     ]
    },
    {
     "data": {
      "text/plain": [
       "<Axes: title={'center': 'High Momentum First Low Volatility Portfolio Accumulative Return'}, xlabel='date'>"
      ]
     },
     "execution_count": 13,
     "metadata": {},
     "output_type": "execute_result"
    },
    {
     "data": {
      "image/png": "[encoded data removed]",
      "text/plain": [
       "<Figure size 500x300 with 1 Axes>"
      ]
     },
     "metadata": {},
     "output_type": "display_data"
    }
   ],
   "source": [
    "# Calculate the cumulative return\n",
    "cumulative_return = (1 + equal_weight_portfolio_high_momentumFirst_low_volatility).cumprod()\n",
    "print(\"Total return of the high momentum first low volatility portfolio is:\", cumulative_return[-1])\n",
    "\n",
    "# Calculate the annualized return\n",
    "annualized_return = (cumulative_return[-1]) ** (1/15) - 1\n",
    "print(\"The annualized return of the high momentum first low volatility portfolio is:\", annualized_return)\n",
    "\n",
    "# Calculate the annualized volatility\n",
    "annualized_volatility = equal_weight_portfolio_high_momentumFirst_low_volatility.std() * np.sqrt(12)\n",
    "print(\"The annualized volatility of the high momentum first low volatility portfolio is:\", annualized_volatility)\n",
    "\n",
    "# Cacluate the Sharpe ratio\n",
    "sharpe_ratio = equal_weight_portfolio_high_momentumFirst_low_volatility.mean() / equal_weight_portfolio_high_momentumFirst_low_volatility.std() * np.sqrt(12)\n",
    "print(\"The Sharpe ratio of the high momentum first low volatility portfolio is:\", sharpe_ratio)\n",
    "\n",
    "# Calculate the VaR\n",
    "VaR = equal_weight_portfolio_high_momentumFirst_low_volatility.quantile(0.05)\n",
    "print(\"The VaR of the high momentum first low volatility portfolio is:\", VaR)\n",
    "\n",
    "# Store the results in the results table\n",
    "results_df.loc['High Momentum First Low Volatility Portfolio', 'Total Return'] = cumulative_return[-1]\n",
    "results_df.loc['High Momentum First Low Volatility Portfolio', 'Annualized Return'] = annualized_return\n",
    "results_df.loc['High Momentum First Low Volatility Portfolio', 'Annualized Volatility'] = annualized_volatility\n",
    "results_df.loc['High Momentum First Low Volatility Portfolio', 'Sharpe Ratio'] = sharpe_ratio\n",
    "results_df.loc['High Momentum First Low Volatility Portfolio', 'VaR'] = VaR\n",
    "\n",
    "# Plot the cumulative return\n",
    "plt.figure(figsize=(5, 3))\n",
    "cumulative_return.plot(title='High Momentum First Low Volatility Portfolio Accumulative Return')\n"
   ]
  },
  {
   "cell_type": "markdown",
   "metadata": {},
   "source": [
    "#### 2. High Momentum Stock from Low Volatility Universe"
   ]
  },
  {
   "cell_type": "code",
   "execution_count": 14,
   "metadata": {},
   "outputs": [
    {
     "name": "stdout",
     "output_type": "stream",
     "text": [
      "date\n",
      "2023-08   -0.025596\n",
      "2023-09   -0.052451\n",
      "2023-10   -0.028387\n",
      "2023-11    0.077703\n",
      "2023-12     0.05997\n",
      "Freq: M, dtype: object\n"
     ]
    }
   ],
   "source": [
    "# Firstly selecte the low volatility stocks\n",
    "LowVolatilityFirst_HighMomentum_df = pd.DataFrame(index = rolling_12_months_return_df.index, columns=rolling_12_months_return_df.columns)\n",
    "LowVolatilityFirst_HighMomentum_df.iloc[:, :] = np.nan\n",
    "\n",
    "# Copy the rolling 12 months return dataframe to avoid changing the original dataframe\n",
    "rolling_12_months_return_df_copy = rolling_12_months_return_df.copy()\n",
    "\n",
    "N_low_volatility = len(tickers) // 2\n",
    "low_volatility_mask =rolling_12_months_return_df_copy.rank(axis=1, method='dense', ascending=True) <= N_low_volatility\n",
    "\n",
    "LowVolatilityFirst_HighMomentum_df[low_volatility_mask] = 1\n",
    "# Set the high momentum stocks to be nan so that we can only select the low volatility stocks\n",
    "rolling_12_months_return_df_copy[~low_volatility_mask] = np.nan\n",
    "\n",
    "N_high_momentum = N_low_volatility // 2\n",
    "# only select the high momentum stocks from the low volatility stocks\n",
    "high_momentum_mask = rolling_12_months_return_df_copy.rank(axis=1, method='dense', ascending=False) <= N_high_momentum\n",
    "LowVolatilityFirst_HighMomentum_df[high_momentum_mask] = 1\n",
    "LowVolatilityFirst_HighMomentum_df[~high_momentum_mask] = np.nan\n",
    "\n",
    "# Copy the next_intra_month_return_df to avoid changing the original dataframe\n",
    "next_intra_month_return_df_copy = next_intra_month_return_df.copy()\n",
    "\n",
    "returns_df_for_low_volatilityFirst_high_momentum = pd.DataFrame(index=rolling_12_months_return_df.index, columns=rolling_12_months_return_df.columns)\n",
    "returns_df_for_low_volatilityFirst_high_momentum.iloc[:, :] = np.nan\n",
    "\n",
    "# Perform element-wise multiplication to get the returns of the low volatility first high momentum portfolio\n",
    "returns_df_for_low_volatilityFirst_high_momentum = next_intra_month_return_df_copy*LowVolatilityFirst_HighMomentum_df\n",
    "\n",
    "# Get the equal weighted portfolio\n",
    "equal_weight_portfolio_low_volatilityFirst_high_momentum = returns_df_for_low_volatilityFirst_high_momentum.mean(axis=1, skipna=True).shift()\n",
    "\n",
    "print(equal_weight_portfolio_low_volatilityFirst_high_momentum.tail(5))\n"
   ]
  },
  {
   "cell_type": "code",
   "execution_count": 15,
   "metadata": {},
   "outputs": [
    {
     "name": "stdout",
     "output_type": "stream",
     "text": [
      "Total return of the low volatility first high momentum portfolio is: 7.297453978086025\n",
      "The annualized return of the low volatility first high momentum portfolio is: 0.1416809582538856\n",
      "The annualized volatility of the low volatility first high momentum portfolio is: 0.1709408309230835\n",
      "The Sharpe ratio of the low volatility first high momentum portfolio is: 0.8195338904209629\n",
      "The VaR of the low volatility first high momentum portfolio is: -0.07433242312469168\n"
     ]
    },
    {
     "data": {
      "text/plain": [
       "<Axes: title={'center': 'Low Volatility First High Momentum Portfolio Accumulative Return'}, xlabel='date'>"
      ]
     },
     "execution_count": 15,
     "metadata": {},
     "output_type": "execute_result"
    },
    {
     "data": {
      "image/png": "[encoded data removed]",
      "text/plain": [
       "<Figure size 500x300 with 1 Axes>"
      ]
     },
     "metadata": {},
     "output_type": "display_data"
    }
   ],
   "source": [
    "# Calculate the cumulative return\n",
    "cumulative_return = (1 + equal_weight_portfolio_low_volatilityFirst_high_momentum).cumprod()\n",
    "print(\"Total return of the low volatility first high momentum portfolio is:\", cumulative_return[-1])\n",
    "\n",
    "# Calculate the annualized return\n",
    "annualized_return = (cumulative_return[-1]) ** (1/15) - 1\n",
    "print(\"The annualized return of the low volatility first high momentum portfolio is:\", annualized_return)\n",
    "\n",
    "# Calculate the annualized volatility\n",
    "annualized_volatility = equal_weight_portfolio_low_volatilityFirst_high_momentum.std() * np.sqrt(12)\n",
    "print(\"The annualized volatility of the low volatility first high momentum portfolio is:\", annualized_volatility)\n",
    "\n",
    "# Cacluate the Sharpe ratio\n",
    "sharpe_ratio = equal_weight_portfolio_low_volatilityFirst_high_momentum.mean() / equal_weight_portfolio_low_volatilityFirst_high_momentum.std() * np.sqrt(12)\n",
    "print(\"The Sharpe ratio of the low volatility first high momentum portfolio is:\", sharpe_ratio)\n",
    "\n",
    "# Calculate the VaR\n",
    "VaR = equal_weight_portfolio_low_volatilityFirst_high_momentum.quantile(0.05)\n",
    "print(\"The VaR of the low volatility first high momentum portfolio is:\", VaR)\n",
    "\n",
    "# Store the results in the results table\n",
    "results_df.loc['Low Volatility First High Momentum Portfolio', 'Total Return'] = cumulative_return[-1]\n",
    "results_df.loc['Low Volatility First High Momentum Portfolio', 'Annualized Return'] = annualized_return\n",
    "results_df.loc['Low Volatility First High Momentum Portfolio', 'Annualized Volatility'] = annualized_volatility\n",
    "results_df.loc['Low Volatility First High Momentum Portfolio', 'Sharpe Ratio'] = sharpe_ratio\n",
    "results_df.loc['Low Volatility First High Momentum Portfolio', 'VaR'] = VaR\n",
    "\n",
    "# Plot the cumulative return\n",
    "plt.figure(figsize=(5, 3))\n",
    "cumulative_return.plot(title='Low Volatility First High Momentum Portfolio Accumulative Return')\n"
   ]
  },
  {
   "cell_type": "markdown",
   "metadata": {},
   "source": [
    "# Resulte Analysis"
   ]
  },
  {
   "cell_type": "code",
   "execution_count": 16,
   "metadata": {},
   "outputs": [
    {
     "data": {
      "text/html": [
       "<div>\n",
       "<style scoped>\n",
       "    .dataframe tbody tr th:only-of-type {\n",
       "        vertical-align: middle;\n",
       "    }\n",
       "\n",
       "    .dataframe tbody tr th {\n",
       "        vertical-align: top;\n",
       "    }\n",
       "\n",
       "    .dataframe thead th {\n",
       "        text-align: right;\n",
       "    }\n",
       "</style>\n",
       "<table border=\"1\" class=\"dataframe\">\n",
       "  <thead>\n",
       "    <tr style=\"text-align: right;\">\n",
       "      <th></th>\n",
       "      <th>Total Return</th>\n",
       "      <th>Annualized Return</th>\n",
       "      <th>Annualized Volatility</th>\n",
       "      <th>Sharpe Ratio</th>\n",
       "      <th>VaR</th>\n",
       "    </tr>\n",
       "  </thead>\n",
       "  <tbody>\n",
       "    <tr>\n",
       "      <th>High Momentum Portfolio</th>\n",
       "      <td>6.619424</td>\n",
       "      <td>0.125385</td>\n",
       "      <td>0.169165</td>\n",
       "      <td>0.741201</td>\n",
       "      <td>-0.080844</td>\n",
       "    </tr>\n",
       "    <tr>\n",
       "      <th>Low Volatility Portfolio</th>\n",
       "      <td>5.254435</td>\n",
       "      <td>0.116953</td>\n",
       "      <td>0.151398</td>\n",
       "      <td>0.767549</td>\n",
       "      <td>-0.067171</td>\n",
       "    </tr>\n",
       "    <tr>\n",
       "      <th>High Momentum First Low Volatility Portfolio</th>\n",
       "      <td>6.005266</td>\n",
       "      <td>0.126944</td>\n",
       "      <td>0.164762</td>\n",
       "      <td>0.769371</td>\n",
       "      <td>-0.073966</td>\n",
       "    </tr>\n",
       "    <tr>\n",
       "      <th>Low Volatility First High Momentum Portfolio</th>\n",
       "      <td>7.297454</td>\n",
       "      <td>0.141681</td>\n",
       "      <td>0.170941</td>\n",
       "      <td>0.819534</td>\n",
       "      <td>-0.074332</td>\n",
       "    </tr>\n",
       "  </tbody>\n",
       "</table>\n",
       "</div>"
      ],
      "text/plain": [
       "                                             Total Return Annualized Return  \\\n",
       "High Momentum Portfolio                          6.619424          0.125385   \n",
       "Low Volatility Portfolio                         5.254435          0.116953   \n",
       "High Momentum First Low Volatility Portfolio     6.005266          0.126944   \n",
       "Low Volatility First High Momentum Portfolio     7.297454          0.141681   \n",
       "\n",
       "                                             Annualized Volatility  \\\n",
       "High Momentum Portfolio                                   0.169165   \n",
       "Low Volatility Portfolio                                  0.151398   \n",
       "High Momentum First Low Volatility Portfolio              0.164762   \n",
       "Low Volatility First High Momentum Portfolio              0.170941   \n",
       "\n",
       "                                             Sharpe Ratio       VaR  \n",
       "High Momentum Portfolio                          0.741201 -0.080844  \n",
       "Low Volatility Portfolio                         0.767549 -0.067171  \n",
       "High Momentum First Low Volatility Portfolio     0.769371 -0.073966  \n",
       "Low Volatility First High Momentum Portfolio     0.819534 -0.074332  "
      ]
     },
     "execution_count": 16,
     "metadata": {},
     "output_type": "execute_result"
    }
   ],
   "source": [
    "results_df"
   ]
  },
  {
   "cell_type": "markdown",
   "metadata": {},
   "source": [
    "From the table above:\n",
    "- the Low Volatility First High Momentum Portfolio appears to have the best overall performance, with the highest returns, Sharpe Ratio, and relatively lower risk as measured by annualized volatility and VaR.\n",
    "- Compared to pure-play high momentum portfolio, the 2 combined portfolio both has higher Sharpe ratio. \n",
    "- Compared to the pure-play high mometum portfolio, the Low Volatility First High Momentum Portfolio has higher total return but smaller VaR. "
   ]
  }
 ],
 "metadata": {
  "kernelspec": {
   "display_name": "Python 3",
   "language": "python",
   "name": "python3"
  },
  "language_info": {
   "codemirror_mode": {
    "name": "ipython",
    "version": 3
   },
   "file_extension": ".py",
   "mimetype": "text/x-python",
   "name": "python",
   "nbconvert_exporter": "python",
   "pygments_lexer": "ipython3",
   "version": "3.10.7"
  }
 },
 "nbformat": 4,
 "nbformat_minor": 2
}
