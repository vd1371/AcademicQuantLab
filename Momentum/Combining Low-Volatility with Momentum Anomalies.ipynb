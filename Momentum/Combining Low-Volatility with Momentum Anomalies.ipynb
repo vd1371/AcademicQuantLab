{
 "cells": [
  {
   "cell_type": "markdown",
   "metadata": {},
   "source": [
    "Low volatility anomaly can be combined with the momentum anomaly to enhance risk-adjusted returns.\n",
    "\n",
    "- The paper shows that incorporating both momentum and low volatility anomalies yields positive exposure to factors like value and profitability.\n",
    "\n",
    "- Returns from these strategies are consistent over time and are more pronounced in later subsamples, with higher robust Sharpe Ratios.\n",
    "\n",
    "- Plain momentum portfolios exhibit the highest robust Sharpe Ratio.\n",
    "\n",
    "- For long-only investors, the DS strategy, which sorts stocks by momentum first and then by low volatility, seems superior to other strategies.\n",
    "\n",
    "Note that the research has been conducted in the Nordic stock markets."
   ]
  },
  {
   "cell_type": "markdown",
   "metadata": {},
   "source": [
    "This paper investigates the profitability of combined low-volatility and momentum investment strategies in the Nordic stock markets from January 1999 to September 2022. Confirming earlier studies, our results first indicate that both the volatility and momentum effects persist as pure-play strategies. Further, we explore combined strategies using 50/50, double screening, and ranking strategies. Among the long-only portfolios, the momentum-first strategy generates the best Sharpe ratio using the double screening method−slightly outperforming the ranking method. Additionally, all long-only combination portfolios outperform the market in terms of risk-adjusted returns. Combination long-short strategies produce significantly higher risk-adjusted returns than pure-play strategies. Surprisingly, novel evidence suggests that none of the combination long- short strategies outperforms the pure momentum strategy after risk-adjusting the returns using the Fama and French five-factor model, implying that while momentum may enhance the returns from the low-volatility strategy, the reverse is not true for the Nordic stock markets."
   ]
  },
  {
   "cell_type": "markdown",
   "metadata": {},
   "source": [
    "As I encounter some problem with finding nordic stock markets, I use S&P500 to do backtesting first"
   ]
  },
  {
   "cell_type": "code",
   "execution_count": 36,
   "metadata": {},
   "outputs": [],
   "source": [
    "# Collect the list of the S&P 500 companies from Wikipedia and save it to a file\n",
    "import os\n",
    "import requests\n",
    "import pandas as pd\n",
    "import numpy as np\n",
    "\n",
    "# Get the list of S&P 500 companies from Wikipedia\n",
    "url = 'https://en.wikipedia.org/wiki/List_of_S%26P_500_companies'\n",
    "response = requests.get(url)\n",
    "html = response.content\n",
    "df = pd.read_html(html, header=0)[0]\n",
    "\n",
    "tickers = df['Symbol'].tolist()"
   ]
  },
  {
   "cell_type": "code",
   "execution_count": 78,
   "metadata": {},
   "outputs": [
    {
     "name": "stdout",
     "output_type": "stream",
     "text": [
      "Loaded data for 499 companies\n"
     ]
    }
   ],
   "source": [
    "# Load the data from yahoo finance\n",
    "import os\n",
    "import yfinance as yf\n",
    "\n",
    "def load_data(symbol):\n",
    "\n",
    "    direc = 'data/'\n",
    "    os.makedirs(direc, exist_ok=True)\n",
    "\n",
    "    file_name = os.path.join(direc, symbol + '.csv')\n",
    "\n",
    "    if not os.path.exists(file_name):\n",
    "\n",
    "        ticker = yf.Ticker(symbol)\n",
    "        df = ticker.history(start='2005-01-01', end='2023-12-31')\n",
    "\n",
    "        df.to_csv(file_name)\n",
    "\n",
    "    df = pd.read_csv(file_name, index_col=0)\n",
    "    df.index = pd.to_datetime(df.index, utc=True).tz_convert('US/Eastern')\n",
    "    df['date'] = df.index\n",
    "\n",
    "    if len(df) == 0:\n",
    "        os.remove(file_name)\n",
    "        return None\n",
    "\n",
    "    return df\n",
    "\n",
    "holder = []\n",
    "ticker_with_data = []\n",
    "for symbol in tickers:\n",
    "    df = load_data(symbol)\n",
    "    if df is not None:\n",
    "        holder.append(df)\n",
    "        ticker_with_data.append(symbol)\n",
    "\n",
    "tickers = ticker_with_data[:]\n",
    "\n",
    "print (f'Loaded data for {len(tickers)} companies')"
   ]
  },
  {
   "cell_type": "code",
   "execution_count": 38,
   "metadata": {},
   "outputs": [
    {
     "name": "stdout",
     "output_type": "stream",
     "text": [
      "499 499\n"
     ]
    }
   ],
   "source": [
    "print(len(tickers),len(holder))"
   ]
  },
  {
   "cell_type": "code",
   "execution_count": 96,
   "metadata": {},
   "outputs": [],
   "source": [
    "# Get the monthly data\n",
    "monthly_data = []\n",
    "for data in holder:\n",
    "    df = data.resample('M').agg({\n",
    "        'date': 'first',\n",
    "        'Open': 'first',\n",
    "        'High': 'max',\n",
    "        'Low': 'min',\n",
    "        'Close': 'last',\n",
    "        'Volume': 'sum'\n",
    "    })\n",
    "\n",
    "    df.set_index('date', inplace=True)\n",
    "\n",
    "    monthly_data.append(df)\n"
   ]
  },
  {
   "cell_type": "code",
   "execution_count": null,
   "metadata": {},
   "outputs": [],
   "source": []
  },
  {
   "cell_type": "code",
   "execution_count": null,
   "metadata": {},
   "outputs": [],
   "source": [
    "# Get the weekly data\n",
    "weekly_data = []\n",
    "\n",
    "for data in holder:\n",
    "    df = data.resample('W').agg({\n",
    "        'date': 'last',\n",
    "        'Open': 'first',\n",
    "        'High': 'max',\n",
    "        'Low': 'min',\n",
    "        'Close': 'last',\n",
    "        'Volume': 'sum'\n",
    "    })\n",
    "\n",
    "    df.set_index('date', inplace=True)\n",
    "\n",
    "    weekly_data.append(df)\n"
   ]
  },
  {
   "cell_type": "markdown",
   "metadata": {},
   "source": [
    "## Add the monthly & weekly returns and the volatilties"
   ]
  },
  {
   "cell_type": "markdown",
   "metadata": {},
   "source": [
    "Assume we will open at the monthly open price and will close at the monthly close. Or we will open at the weekly open price and will close at the weekly close"
   ]
  },
  {
   "cell_type": "code",
   "execution_count": 247,
   "metadata": {},
   "outputs": [],
   "source": [
    "# Calculate the monthly returns\n",
    "temp = []\n",
    "for df in monthly_data:\n",
    "    df['month'] = df.index.month\n",
    "    df['year'] = df.index.year\n",
    "    df['intra_month_return'] = df['Close'] / df['Open'] - 1\n",
    "    df['next_intra_month_return'] = df['intra_month_return'].shift(-1)\n",
    "    df['monthly_return'] = df['Close'].pct_change()\n",
    "    df['next_month_return'] = df['monthly_return'].shift(-1)\n",
    "\n",
    "    # Last 12 months return except the current month\n",
    "    df['rolling_12_months_return'] = df['Close'].pct_change().rolling(11).sum().shift()\n",
    "\n",
    "\n",
    "    temp.append(df)\n",
    "\n",
    "monthly_data = temp"
   ]
  },
  {
   "cell_type": "code",
   "execution_count": null,
   "metadata": {},
   "outputs": [],
   "source": [
    "# Calculate the weekly returns\n",
    "temp = []\n",
    "\n",
    "for df in weekly_data:\n",
    "    df['intra_week_return'] = df['Close'] / df['Open'] - 1\n",
    "    df['next_intra_week_return'] = df['intra_week_return'].shift(-1)\n",
    "    df['weekly_return'] = df['Close'].pct_change()\n",
    "    df['next_weekly_return'] = df['weekly_return'].shift(-1)\n",
    "    #df['rolling_12_weeks_return'] = df['Close'].pct_change().rolling(11).sum().shift()\n",
    "    temp.append(df)\n",
    "\n",
    "weekly_data = temp\n"
   ]
  },
  {
   "cell_type": "code",
   "execution_count": 344,
   "metadata": {},
   "outputs": [],
   "source": [
    "# Calculate the standard deviation of weekly returns for each stock using the 3 years of historical data, recalculated every month\n",
    "temp = []\n",
    "for i in range(len(holder)):\n",
    "    iteration = 52*3-1\n",
    "    monthly_data[i]['rolling_36months_std'] = np.nan\n",
    "    for row in range(len(monthly_data[i])):\n",
    "        if row > 35:\n",
    "            \n",
    "            for j in range(iteration, len(weekly_data[i])):\n",
    "                if weekly_data[i].index[j] >= monthly_data[i].index[row]:\n",
    "                    #print(weekly_data[i].index[j],monthly_data[i].index[row])\n",
    "                    #print(row)\n",
    "                    #print(weekly_data[i].index[j],monthly_data[i].index[row])\n",
    "                    iteration = j - 1\n",
    "                    break\n",
    "            monthly_data[i].at[monthly_data[i].index[row],'rolling_36months_std'] = weekly_data[i].iloc[iteration-156:iteration]['weekly_return'].std() \n",
    "            #print(monthly_data[i].iloc[row]['rolling_36months_std'], iteration)"
   ]
  },
  {
   "cell_type": "markdown",
   "metadata": {},
   "source": [
    "# 8 Combinations"
   ]
  },
  {
   "cell_type": "markdown",
   "metadata": {},
   "source": [
    "## 50/50"
   ]
  },
  {
   "cell_type": "markdown",
   "metadata": {},
   "source": [
    "#### Momentum Portfolios"
   ]
  },
  {
   "cell_type": "code",
   "execution_count": 307,
   "metadata": {},
   "outputs": [
    {
     "name": "stdout",
     "output_type": "stream",
     "text": [
      "                                MMM       AOS       ABT  ABBV\n",
      "date                                                         \n",
      "2006-01-03 00:00:00-05:00 -0.047072  0.314975 -0.099370   NaN\n",
      "2006-02-01 00:00:00-05:00 -0.109366  0.577854 -0.019359   NaN\n",
      "2006-03-01 00:00:00-05:00 -0.111008  0.553794 -0.009187   NaN\n",
      "                                MMM       AOS       ABT  ABBV\n",
      "date                                                         \n",
      "2005-01-03 00:00:00-05:00  0.001122 -0.032401  0.021546   NaN\n",
      "2005-01-21 00:00:00-05:00       NaN       NaN       NaN   NaN\n",
      "2005-02-01 00:00:00-05:00  0.020726  0.096468  0.013699   NaN\n",
      "                                MMM       AOS       ABT  ABBV\n",
      "date                                                         \n",
      "2005-02-01 00:00:00-05:00  0.001003 -0.030616  0.021546   NaN\n",
      "2005-03-01 00:00:00-05:00  0.020848  0.098555  0.013699   NaN\n",
      "2005-04-01 00:00:00-05:00 -0.107597 -0.007227  0.060572   NaN\n"
     ]
    }
   ],
   "source": [
    "rolling_12_months_return_holder = []\n",
    "next_intra_month_return_holder = []\n",
    "monthly_return_holder = []\n",
    "\n",
    "# Creating tables with symbols as columns and the date as rows\n",
    "\n",
    "for symbol, df in zip(tickers, monthly_data):\n",
    "\n",
    "    rolling_12_months_return_series = df['rolling_12_months_return'].copy().dropna()\n",
    "    next_intra_month_return_series = df['next_intra_month_return'].copy().dropna()\n",
    "    monthly_return = df['monthly_return'].copy().dropna()\n",
    "\n",
    "    rolling_12_months_return_series.name = symbol\n",
    "    next_intra_month_return_series.name = symbol\n",
    "    monthly_return.name = symbol\n",
    "\n",
    "    rolling_12_months_return_holder.append(rolling_12_months_return_series)\n",
    "    next_intra_month_return_holder.append(next_intra_month_return_series)\n",
    "    monthly_return_holder.append(monthly_return)\n",
    "\n",
    "rolling_12_months_return_df = pd.concat(rolling_12_months_return_holder, axis=1, ignore_index=False)\n",
    "rolling_12_months_return_df.fillna(np.nan, inplace=True)\n",
    "next_intra_month_return_df = pd.concat(next_intra_month_return_holder, axis=1, ignore_index=False)\n",
    "monthly_return_df = pd.concat(monthly_return_holder, axis=1, ignore_index=False)\n",
    "\n",
    "print (rolling_12_months_return_df.iloc[:3, :4])\n",
    "print (next_intra_month_return_df.iloc[:3, :4])\n",
    "print (monthly_return_df.iloc[:3, :4])\n",
    "\n"
   ]
  },
  {
   "cell_type": "code",
   "execution_count": 311,
   "metadata": {},
   "outputs": [],
   "source": [
    "# Get the winner and loser portfolios based on rolling_12_months_return_df using tercile sorting\n",
    "winner_momentum_stocks = {}\n",
    "loser_momentum_stocks = {}\n",
    "for date, row in rolling_12_months_return_df.iterrows():\n",
    "    temp = row.copy()\n",
    "    # Convert temp to a dataframe\n",
    "    temp = pd.Series(row)\n",
    "    temp = temp.to_frame()\n",
    "    \n",
    "    # set the index to numbers\n",
    "    temp = temp.reset_index()\n",
    "    temp.columns = ['symbol','2-12 cumulative returns']\n",
    "\n",
    "    # Sort the series in descending order\n",
    "    temp.sort_values(ascending=False, inplace=True,by='2-12 cumulative returns')\n",
    "\n",
    "    # Drop the nan values\n",
    "    temp.dropna(inplace=True)\n",
    "    #print (temp.tail(10))\n",
    "    winner_momentum_stocks[date] = temp.iloc[:int(len(temp) / 3)]\n",
    "    winner_momentum_stocks[date].reset_index(drop=True, inplace=True)\n",
    "    loser_momentum_stocks[date] = temp.iloc[-int(len(temp) / 3):]\n",
    "    loser_momentum_stocks[date].reset_index(drop=True, inplace=True)\n",
    "\n",
    "    "
   ]
  },
  {
   "cell_type": "code",
   "execution_count": 315,
   "metadata": {},
   "outputs": [
    {
     "name": "stdout",
     "output_type": "stream",
     "text": [
      "                           high_momentum_portfolio_returns\n",
      "date                                                      \n",
      "2006-01-03 00:00:00-05:00                              NaN\n",
      "2006-02-01 00:00:00-05:00                         0.010055\n",
      "2006-03-01 00:00:00-05:00                         0.040111\n",
      "2006-04-03 00:00:00-04:00                         0.005596\n",
      "2006-05-01 00:00:00-04:00                        -0.060606\n"
     ]
    },
    {
     "name": "stderr",
     "output_type": "stream",
     "text": [
      "C:\\Users\\bingy\\AppData\\Local\\Temp\\ipykernel_14952\\2022198152.py:11: FutureWarning: Setting an item of incompatible dtype is deprecated and will raise in a future error of pandas. Value '0.01005501357142311' has dtype incompatible with int64, please explicitly cast to a compatible dtype first.\n",
      "  high_momentum_portfolio_returns.loc[date, 'high_momentum_portfolio_returns'] = returns\n"
     ]
    }
   ],
   "source": [
    "# Build an equal weighted momentum portfolio based on the winner stocks\n",
    "\n",
    "# Create a dataframe to hold the portfolio returns, the returns are obtained through long position. \n",
    "high_momentum_portfolio_returns = pd.DataFrame(index=rolling_12_months_return_df.index, columns=['high_momentum_portfolio_returns'])\n",
    "high_momentum_portfolio_returns['high_momentum_portfolio_returns'] = 0\n",
    "\n",
    "for date, row in winner_momentum_stocks.items():\n",
    "    if date not in next_intra_month_return_df.index:\n",
    "        continue\n",
    "    returns = next_intra_month_return_df.loc[date, row['symbol']].mean()\n",
    "    high_momentum_portfolio_returns.loc[date, 'high_momentum_portfolio_returns'] = returns\n",
    "\n",
    "high_momentum_portfolio_returns['high_momentum_portfolio_returns'] = high_momentum_portfolio_returns['high_momentum_portfolio_returns'].shift()\n",
    "\n",
    "print (high_momentum_portfolio_returns.head(5))\n",
    "    \n"
   ]
  },
  {
   "cell_type": "code",
   "execution_count": 319,
   "metadata": {},
   "outputs": [
    {
     "name": "stdout",
     "output_type": "stream",
     "text": [
      "                           low_momentum_portfolio_returns\n",
      "date                                                     \n",
      "2006-01-03 00:00:00-05:00                             NaN\n",
      "2006-02-01 00:00:00-05:00                        0.021682\n",
      "2006-03-01 00:00:00-05:00                        0.017850\n",
      "2006-04-03 00:00:00-04:00                        0.009199\n",
      "2006-05-01 00:00:00-04:00                       -0.013502\n",
      "2006-06-01 00:00:00-04:00                       -0.010194\n",
      "2006-07-03 00:00:00-04:00                       -0.000378\n",
      "2006-08-01 00:00:00-04:00                        0.055875\n",
      "2006-09-01 00:00:00-04:00                        0.032667\n",
      "2006-10-02 00:00:00-04:00                        0.055086\n"
     ]
    },
    {
     "name": "stderr",
     "output_type": "stream",
     "text": [
      "C:\\Users\\bingy\\AppData\\Local\\Temp\\ipykernel_14952\\1038960962.py:11: FutureWarning: Setting an item of incompatible dtype is deprecated and will raise in a future error of pandas. Value '0.021681519946875973' has dtype incompatible with int64, please explicitly cast to a compatible dtype first.\n",
      "  low_momentum_portfolio_returns.loc[date, 'low_momentum_portfolio_returns'] = returns\n"
     ]
    }
   ],
   "source": [
    "# Build an equal weighted momentum portfolio based on the loser stocks\n",
    "\n",
    "# Create a dataframe to hold the portfolio returns, the returns are obtained through short position. \n",
    "low_momentum_portfolio_returns = pd.DataFrame(index=rolling_12_months_return_df.index, columns=['low_momentum_portfolio_returns'])\n",
    "low_momentum_portfolio_returns['low_momentum_portfolio_returns'] = 0\n",
    "\n",
    "for date, row in loser_momentum_stocks.items():\n",
    "    if date not in next_intra_month_return_df.index:\n",
    "        continue\n",
    "    returns = (-next_intra_month_return_df.loc[date, row['symbol']]).mean()\n",
    "    low_momentum_portfolio_returns.loc[date, 'low_momentum_portfolio_returns'] = returns\n",
    "\n",
    "low_momentum_portfolio_returns['low_momentum_portfolio_returns'] = low_momentum_portfolio_returns['low_momentum_portfolio_returns'].shift()\n",
    "\n",
    "print (low_momentum_portfolio_returns.head(10))\n"
   ]
  },
  {
   "cell_type": "markdown",
   "metadata": {},
   "source": [
    "#### Low-Volatility Portfolios"
   ]
  },
  {
   "cell_type": "code",
   "execution_count": 326,
   "metadata": {},
   "outputs": [
    {
     "name": "stdout",
     "output_type": "stream",
     "text": [
      "                                MMM       AOS       ABT  ABBV\n",
      "date                                                         \n",
      "2008-02-01 00:00:00-05:00  0.024560  0.045382  0.026341   NaN\n",
      "2008-03-03 00:00:00-05:00  0.025347  0.046401  0.027145   NaN\n",
      "2008-04-01 00:00:00-04:00  0.025392  0.046864  0.028078   NaN\n"
     ]
    }
   ],
   "source": [
    "rolling_36months_std_holder = []\n",
    "\n",
    "# Creating tables with symbols as columns and the date as rows\n",
    "\n",
    "for symbol, df in zip(tickers, monthly_data):\n",
    "        \n",
    "        rolling_36months_std_series = df['rolling_36months_std'].copy().dropna()\n",
    "        rolling_36months_std_series.name = symbol\n",
    "        rolling_36months_std_holder.append(rolling_36months_std_series)\n",
    "\n",
    "rolling_36months_std_df = pd.concat(rolling_36months_std_holder, axis=1, ignore_index=False)\n",
    "rolling_36months_std_df.fillna(np.nan, inplace=True)\n",
    "\n",
    "print (rolling_36months_std_df.iloc[:3, :4])\n"
   ]
  },
  {
   "cell_type": "code",
   "execution_count": 368,
   "metadata": {},
   "outputs": [
    {
     "name": "stdout",
     "output_type": "stream",
     "text": [
      "                           low_volatility_portfolio_returns\n",
      "date                                                       \n",
      "2008-02-01 00:00:00-05:00                               NaN\n",
      "2008-03-03 00:00:00-05:00                          0.004810\n",
      "2008-04-01 00:00:00-04:00                          0.029943\n",
      "2008-05-01 00:00:00-04:00                          0.016431\n",
      "2008-06-02 00:00:00-04:00                         -0.066477\n",
      "                           high_volatility_portfolio_returns\n",
      "date                                                        \n",
      "2008-02-01 00:00:00-05:00                                NaN\n",
      "2008-03-03 00:00:00-05:00                          -0.012658\n",
      "2008-04-01 00:00:00-04:00                           0.075007\n",
      "2008-05-01 00:00:00-04:00                           0.049648\n",
      "2008-06-02 00:00:00-04:00                          -0.101154\n"
     ]
    }
   ],
   "source": [
    "# Sort the stocks based on the std of 36 weeks returns and get the low volatility stocks and high volatility stocks\n",
    "low_volatility_stocks = {}\n",
    "high_volatility_stocks = {}\n",
    "\n",
    "for date, row in rolling_36months_std_df.iterrows():\n",
    "    if date not in next_intra_month_return_df.index:\n",
    "        continue\n",
    "    temp = row.copy()\n",
    "    # Convert temp to a dataframe\n",
    "    temp = pd.Series(row)\n",
    "    temp = temp.to_frame()\n",
    "\n",
    "    # set the index to numbers\n",
    "    temp = temp.reset_index()\n",
    "    temp.columns = ['symbol','36 weeks std']\n",
    "    \n",
    "    # Sort the series in descending order\n",
    "    temp.sort_values(ascending=True, inplace=True,by='36 weeks std')\n",
    "\n",
    "    # Drop the nan values\n",
    "    temp.dropna(inplace=True)\n",
    "\n",
    "    low_volatility_stocks[date] = temp.iloc[:int(len(temp) / 3)]\n",
    "    high_volatility_stocks[date] = temp.iloc[-int(len(temp) / 3):]\n",
    "\n",
    "# Build an equal weighted momentum portfolio based on the low volatility stocks\n",
    "\n",
    "low_volatility_portfolio_returns = pd.DataFrame(index=rolling_36months_std_df.index, columns=['low_volatility_portfolio_returns'])\n",
    "low_volatility_portfolio_returns['low_volatility_portfolio_returns'] = np.nan\n",
    "\n",
    "for date, row in low_volatility_stocks.items():\n",
    "    if date not in next_intra_month_return_df.index:\n",
    "        continue\n",
    "    returns = next_intra_month_return_df.loc[date, row['symbol']].mean()\n",
    "    low_volatility_portfolio_returns.loc[date, 'low_volatility_portfolio_returns'] = returns\n",
    "\n",
    "low_volatility_portfolio_returns.dropna(inplace=True)\n",
    "low_volatility_portfolio_returns['low_volatility_portfolio_returns'] = low_volatility_portfolio_returns['low_volatility_portfolio_returns'].shift()\n",
    "\n",
    "print (low_volatility_portfolio_returns.head(5))\n",
    "\n",
    "# Build an equal weighted momentum portfolio based on the high volatility stocks\n",
    "\n",
    "\n",
    "high_volatility_portfolio_returns = pd.DataFrame(index=rolling_36months_std_df.index, columns=['high_volatility_portfolio_returns'])\n",
    "high_volatility_portfolio_returns['high_volatility_portfolio_returns'] = np.nan\n",
    "\n",
    "for date, row in high_volatility_stocks.items():\n",
    "    if date not in next_intra_month_return_df.index:\n",
    "        continue\n",
    "    returns = next_intra_month_return_df.loc[date, row['symbol']].mean()\n",
    "    high_volatility_portfolio_returns.loc[date, 'high_volatility_portfolio_returns'] = returns\n",
    "\n",
    "high_volatility_portfolio_returns.dropna(inplace=True)\n",
    "high_volatility_portfolio_returns['high_volatility_portfolio_returns'] = high_volatility_portfolio_returns['high_volatility_portfolio_returns'].shift()\n",
    "\n",
    "print (high_volatility_portfolio_returns.head(5))\n",
    "\n"
   ]
  },
  {
   "cell_type": "markdown",
   "metadata": {},
   "source": [
    "### Long-Only"
   ]
  },
  {
   "cell_type": "code",
   "execution_count": null,
   "metadata": {},
   "outputs": [],
   "source": []
  },
  {
   "cell_type": "code",
   "execution_count": null,
   "metadata": {},
   "outputs": [],
   "source": []
  },
  {
   "cell_type": "code",
   "execution_count": null,
   "metadata": {},
   "outputs": [],
   "source": []
  },
  {
   "cell_type": "markdown",
   "metadata": {},
   "source": [
    "### Long-Short"
   ]
  },
  {
   "cell_type": "code",
   "execution_count": null,
   "metadata": {},
   "outputs": [],
   "source": []
  },
  {
   "cell_type": "code",
   "execution_count": null,
   "metadata": {},
   "outputs": [],
   "source": []
  },
  {
   "cell_type": "code",
   "execution_count": null,
   "metadata": {},
   "outputs": [],
   "source": []
  },
  {
   "cell_type": "code",
   "execution_count": null,
   "metadata": {},
   "outputs": [],
   "source": []
  },
  {
   "cell_type": "code",
   "execution_count": null,
   "metadata": {},
   "outputs": [],
   "source": []
  },
  {
   "cell_type": "markdown",
   "metadata": {},
   "source": [
    "## Double Screening"
   ]
  },
  {
   "cell_type": "markdown",
   "metadata": {},
   "source": [
    "### Winner Stocks from Low-Volatility Universe"
   ]
  },
  {
   "cell_type": "code",
   "execution_count": 363,
   "metadata": {},
   "outputs": [],
   "source": [
    "winners_from_low_volatility = {}\n",
    "for date, stock in low_volatility_stocks.items():\n",
    "    # Get the monthly returns of the low volatility stocks\n",
    "    winners_from_low_volatility[date] = low_volatility_stocks[date]\n",
    "    winners_from_low_volatility[date]['2-12 cumulative returns'] = 0\n",
    "    winners_from_low_volatility[date] = winners_from_low_volatility[date].reset_index()\n",
    "    \n",
    "    temp = rolling_12_months_return_df.loc[date, stock['symbol']].copy()\n",
    "    temp = temp.to_frame()\n",
    "    temp = temp.reset_index()\n",
    "    temp.columns = ['symbol','2-12 cumulative returns']\n",
    "    winners_from_low_volatility[date]['2-12 cumulative returns'] = temp['2-12 cumulative returns']\n",
    "    \n",
    "    # Sort the series in descending order\n",
    "\n",
    "    winners_from_low_volatility[date].sort_values(ascending=False, inplace=True,by='2-12 cumulative returns')\n",
    "    # Keep the half of the stocks with the highest 2-12 cumulative returns\n",
    "    winners_from_low_volatility[date] = winners_from_low_volatility[date].iloc[:int(len(winners_from_low_volatility[date]) / 2)]\n",
    "    winners_from_low_volatility[date].reset_index(drop=True, inplace=True)\n",
    "\n",
    "\n"
   ]
  },
  {
   "cell_type": "code",
   "execution_count": 366,
   "metadata": {},
   "outputs": [
    {
     "name": "stdout",
     "output_type": "stream",
     "text": [
      "                           winners_from_low_volatility_portfolio_returns\n",
      "2008-02-01 00:00:00-05:00                                            NaN\n",
      "2008-03-03 00:00:00-05:00                                       0.005503\n",
      "2008-04-01 00:00:00-04:00                                       0.025398\n",
      "2008-05-01 00:00:00-04:00                                       0.017630\n",
      "2008-06-02 00:00:00-04:00                                      -0.049774\n",
      "2008-07-01 00:00:00-04:00                                       0.018596\n",
      "2008-08-01 00:00:00-04:00                                       0.010984\n",
      "2008-09-02 00:00:00-04:00                                      -0.058655\n",
      "2008-10-01 00:00:00-04:00                                      -0.146239\n",
      "2008-11-03 00:00:00-05:00                                      -0.052642\n"
     ]
    }
   ],
   "source": [
    "# Build an equal weighted momentum portfolio based on the winners_from_low_volatility\n",
    "\n",
    "winners_from_low_volatility_portfolio_returns = pd.DataFrame(rolling_36months_std_df.index, columns=['winners_from_low_volatility_portfolio_returns'])\n",
    "winners_from_low_volatility_portfolio_returns['winners_from_low_volatility_portfolio_returns'] = 0\n",
    "\n",
    "for date, row in winners_from_low_volatility.items():\n",
    "    if date not in next_intra_month_return_df.index:\n",
    "        continue\n",
    "    returns = next_intra_month_return_df.loc[date, row['symbol']].mean()\n",
    "    winners_from_low_volatility_portfolio_returns.loc[date, 'winners_from_low_volatility_portfolio_returns'] = returns\n",
    "\n",
    "winners_from_low_volatility_portfolio_returns['winners_from_low_volatility_portfolio_returns'] = winners_from_low_volatility_portfolio_returns['winners_from_low_volatility_portfolio_returns'].shift()\n",
    "\n",
    "print (winners_from_low_volatility_portfolio_returns.head(10))\n"
   ]
  },
  {
   "cell_type": "code",
   "execution_count": null,
   "metadata": {},
   "outputs": [],
   "source": []
  },
  {
   "cell_type": "markdown",
   "metadata": {},
   "source": [
    "### Loser Stocks from High-Volatility Universe"
   ]
  },
  {
   "cell_type": "code",
   "execution_count": 370,
   "metadata": {},
   "outputs": [],
   "source": [
    "losers_from_high_volatility = {}\n",
    "\n",
    "for date, stock in high_volatility_stocks.items():\n",
    "    # Get the monthly returns of the high volatility stocks\n",
    "    losers_from_high_volatility[date] = high_volatility_stocks[date]\n",
    "    losers_from_high_volatility[date]['2-12 cumulative returns'] = 0\n",
    "    losers_from_high_volatility[date] = losers_from_high_volatility[date].reset_index()\n",
    "    \n",
    "    temp = rolling_12_months_return_df.loc[date, stock['symbol']].copy()\n",
    "    temp = temp.to_frame()\n",
    "    temp = temp.reset_index()\n",
    "    temp.columns = ['symbol','2-12 cumulative returns']\n",
    "    losers_from_high_volatility[date]['2-12 cumulative returns'] = temp['2-12 cumulative returns']\n",
    "    \n",
    "    # Sort the series in descending order\n",
    "\n",
    "    losers_from_high_volatility[date].sort_values(ascending=False, inplace=True,by='2-12 cumulative returns')\n",
    "    # Keep the half of the stocks with the highest 2-12 cumulative returns\n",
    "    losers_from_high_volatility[date] = losers_from_high_volatility[date].iloc[:int(len(losers_from_high_volatility[date]) / 2)]\n",
    "    losers_from_high_volatility[date].reset_index(drop=True, inplace=True)\n"
   ]
  },
  {
   "cell_type": "code",
   "execution_count": 371,
   "metadata": {},
   "outputs": [
    {
     "name": "stdout",
     "output_type": "stream",
     "text": [
      "                           losers_from_high_volatility_portfolio_returns\n",
      "2008-02-01 00:00:00-05:00                                            NaN\n",
      "2008-03-03 00:00:00-05:00                                       0.018891\n",
      "2008-04-01 00:00:00-04:00                                      -0.081978\n",
      "2008-05-01 00:00:00-04:00                                      -0.050750\n",
      "2008-06-02 00:00:00-04:00                                       0.071153\n",
      "2008-07-01 00:00:00-04:00                                      -0.010763\n",
      "2008-08-01 00:00:00-04:00                                       0.015535\n",
      "2008-09-02 00:00:00-04:00                                       0.159534\n",
      "2008-10-01 00:00:00-04:00                                       0.204237\n",
      "2008-11-03 00:00:00-05:00                                       0.116889\n"
     ]
    }
   ],
   "source": [
    "# Build an equal weighted momentum portfolio based on the losers_from_high_volatility\n",
    "\n",
    "losers_from_high_volatility_portfolio_returns = pd.DataFrame(rolling_36months_std_df.index, columns=['losers_from_high_volatility_portfolio_returns'])\n",
    "losers_from_high_volatility_portfolio_returns['losers_from_high_volatility_portfolio_returns'] = 0\n",
    "\n",
    "for date, row in losers_from_high_volatility.items():\n",
    "    if date not in next_intra_month_return_df.index:\n",
    "        continue\n",
    "    returns = -next_intra_month_return_df.loc[date, row['symbol']].mean()\n",
    "    losers_from_high_volatility_portfolio_returns.loc[date, 'losers_from_high_volatility_portfolio_returns'] = returns\n",
    "\n",
    "losers_from_high_volatility_portfolio_returns['losers_from_high_volatility_portfolio_returns'] = losers_from_high_volatility_portfolio_returns['losers_from_high_volatility_portfolio_returns'].shift()\n",
    "\n",
    "print (losers_from_high_volatility_portfolio_returns.head(10))\n"
   ]
  },
  {
   "cell_type": "code",
   "execution_count": null,
   "metadata": {},
   "outputs": [],
   "source": []
  },
  {
   "cell_type": "code",
   "execution_count": null,
   "metadata": {},
   "outputs": [],
   "source": []
  },
  {
   "cell_type": "markdown",
   "metadata": {},
   "source": [
    "### Low-Volatility Stocks from Winners"
   ]
  },
  {
   "cell_type": "code",
   "execution_count": null,
   "metadata": {},
   "outputs": [],
   "source": []
  },
  {
   "cell_type": "code",
   "execution_count": null,
   "metadata": {},
   "outputs": [],
   "source": []
  },
  {
   "cell_type": "code",
   "execution_count": null,
   "metadata": {},
   "outputs": [],
   "source": []
  },
  {
   "cell_type": "markdown",
   "metadata": {},
   "source": [
    "### High-Volatility Stock from Losers"
   ]
  },
  {
   "cell_type": "code",
   "execution_count": null,
   "metadata": {},
   "outputs": [],
   "source": []
  },
  {
   "cell_type": "markdown",
   "metadata": {},
   "source": []
  },
  {
   "cell_type": "markdown",
   "metadata": {},
   "source": [
    "## Ranking"
   ]
  },
  {
   "cell_type": "code",
   "execution_count": null,
   "metadata": {},
   "outputs": [],
   "source": []
  },
  {
   "cell_type": "code",
   "execution_count": null,
   "metadata": {},
   "outputs": [],
   "source": []
  },
  {
   "cell_type": "code",
   "execution_count": null,
   "metadata": {},
   "outputs": [],
   "source": []
  },
  {
   "cell_type": "code",
   "execution_count": null,
   "metadata": {},
   "outputs": [],
   "source": []
  },
  {
   "cell_type": "markdown",
   "metadata": {},
   "source": []
  }
 ],
 "metadata": {
  "kernelspec": {
   "display_name": "Python 3",
   "language": "python",
   "name": "python3"
  },
  "language_info": {
   "codemirror_mode": {
    "name": "ipython",
    "version": 3
   },
   "file_extension": ".py",
   "mimetype": "text/x-python",
   "name": "python",
   "nbconvert_exporter": "python",
   "pygments_lexer": "ipython3",
   "version": "3.10.7"
  }
 },
 "nbformat": 4,
 "nbformat_minor": 2
}
