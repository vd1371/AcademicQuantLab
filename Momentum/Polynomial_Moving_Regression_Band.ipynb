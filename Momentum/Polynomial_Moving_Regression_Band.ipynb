{
 "cells": [
  {
   "cell_type": "markdown",
   "metadata": {},
   "source": [
    "# Strategy Details"
   ]
  },
  {
   "cell_type": "markdown",
   "metadata": {},
   "source": [
    "### Code Author: Beryl ZHENG"
   ]
  },
  {
   "cell_type": "markdown",
   "metadata": {},
   "source": [
    "Reference: Gil Cohen \" Polynomial Moving Regression Band Stocks Trading System\""
   ]
  },
  {
   "cell_type": "markdown",
   "metadata": {},
   "source": [
    "Link to Reference: "
   ]
  },
  {
   "cell_type": "markdown",
   "metadata": {},
   "source": [
    "### The Main Ideas"
   ]
  },
  {
   "cell_type": "markdown",
   "metadata": {},
   "source": [
    "The study develops a trading system using polynomial moving regression models to analyze Nasdaq100 stocks from 2017 to March 2024, demonstrating that these models can effectively identify stock trends and generate profitable trading signals. Among the polynomial models, the fourth-degree polynomial MRB achieved the highest average net profit. Thus, in the code below, I will use the fourth-degree MRB to first test its profitability and then to see if some simple approaches can improve the performances."
   ]
  },
  {
   "cell_type": "markdown",
   "metadata": {},
   "source": [
    "To avoid using future data, in this paper, the strategies will be open at open price and close at open price as well. "
   ]
  },
  {
   "cell_type": "code",
   "execution_count": 3,
   "metadata": {},
   "outputs": [],
   "source": [
    "# Collect the list of the S&P 500 companies from Wikipedia and save it to a file\n",
    "import os\n",
    "import requests\n",
    "import pandas as pd\n",
    "\n",
    "# ignore warnings\n",
    "import warnings\n",
    "warnings.filterwarnings(\"ignore\")\n",
    "\n",
    "# Get the list of S&P 500 companies from Wikipedia\n",
    "url = 'https://en.wikipedia.org/wiki/List_of_S%26P_500_companies'\n",
    "response = requests.get(url)\n",
    "html = response.content\n",
    "df = pd.read_html(html, header=0)[0]\n",
    "\n",
    "tickers = df['Symbol'].tolist()"
   ]
  },
  {
   "cell_type": "code",
   "execution_count": 4,
   "metadata": {},
   "outputs": [
    {
     "name": "stderr",
     "output_type": "stream",
     "text": [
      "BRK.B: No timezone found, symbol may be delisted\n",
      "BF.B: No price data found, symbol may be delisted (1d 2010-01-01 -> 2024-10-31)\n"
     ]
    },
    {
     "name": "stdout",
     "output_type": "stream",
     "text": [
      "Loaded data for 501 companies\n"
     ]
    }
   ],
   "source": [
    "# Load the data from yahoo finance\n",
    "import os\n",
    "import yfinance as yf\n",
    "\n",
    "def load_data(symbol):\n",
    "\n",
    "    direc = 'data_2010_2024/'\n",
    "    os.makedirs(direc, exist_ok=True)\n",
    "\n",
    "    file_name = os.path.join(direc, symbol + '.csv')\n",
    "\n",
    "    if not os.path.exists(file_name):\n",
    "\n",
    "        ticker = yf.Ticker(symbol)\n",
    "        df = ticker.history(start='2010-01-01', end='2024-10-31')\n",
    "\n",
    "        df.to_csv(file_name)\n",
    "\n",
    "    df = pd.read_csv(file_name, index_col=0)\n",
    "    df.index = pd.to_datetime(df.index, utc=True).tz_convert('US/Eastern')\n",
    "    df['date'] = df.index\n",
    "\n",
    "    if len(df) == 0:\n",
    "        os.remove(file_name)\n",
    "        return None\n",
    "\n",
    "    return df\n",
    "\n",
    "holder = {}\n",
    "ticker_with_data = []\n",
    "for symbol in tickers:\n",
    "    df = load_data(symbol)\n",
    "    if df is not None:\n",
    "        holder[symbol] = df\n",
    "        ticker_with_data.append(symbol)\n",
    "\n",
    "tickers = ticker_with_data[:]\n",
    "\n",
    "\n",
    "print (f'Loaded data for {len(tickers)} companies')"
   ]
  },
  {
   "cell_type": "code",
   "execution_count": 5,
   "metadata": {},
   "outputs": [],
   "source": [
    "# Keep columns of 'Open' and 'Close' only\n",
    "for ticker in tickers:\n",
    "   holder[ticker] = holder[ticker][['Open', 'Close']]\n",
    "   holder[ticker].columns = ['open', 'close']\n",
    "   holder[ticker].index = holder[ticker].index.date"
   ]
  },
  {
   "cell_type": "code",
   "execution_count": 6,
   "metadata": {},
   "outputs": [],
   "source": [
    "# Add the 50 days factors using the 'close' price and 50 days standard deviation\n",
    "for ticker in tickers:\n",
    "    holder[ticker]['price change'] = holder[ticker]['open'].pct_change()\n",
    "    holder[ticker]['50 MA'] = holder[ticker]['close'].rolling(window=50).mean()\n",
    "    holder[ticker]['50 STD'] = holder[ticker]['close'].rolling(window=50).std()\n",
    "    holder[ticker]['50 MA^2'] = holder[ticker]['50 MA']**2\n",
    "    holder[ticker]['50 MA^3'] = holder[ticker]['50 MA']**3\n",
    "    holder[ticker]['50 MA^4'] = holder[ticker]['50 MA']**4\n",
    "    holder[ticker].dropna(inplace=True)"
   ]
  },
  {
   "cell_type": "code",
   "execution_count": 7,
   "metadata": {},
   "outputs": [],
   "source": [
    "# Update the list of tickers\n",
    "tickers = [ticker for ticker in tickers if len(holder[ticker]) > 0]"
   ]
  },
  {
   "cell_type": "markdown",
   "metadata": {},
   "source": [
    "# Regression Analysis"
   ]
  },
  {
   "cell_type": "markdown",
   "metadata": {},
   "source": [
    "First, test the significance between the "
   ]
  },
  {
   "cell_type": "code",
   "execution_count": 8,
   "metadata": {},
   "outputs": [
    {
     "name": "stdout",
     "output_type": "stream",
     "text": [
      "Correlation between 50 days moving average and close price: 0.9975261390134735\n",
      "                            OLS Regression Results                            \n",
      "==============================================================================\n",
      "Dep. Variable:                  close   R-squared:                       0.995\n",
      "Model:                            OLS   Adj. R-squared:                  0.995\n",
      "Method:                 Least Squares   F-statistic:                 3.511e+08\n",
      "Date:                Wed, 27 Nov 2024   Prob (F-statistic):               0.00\n",
      "Time:                        17:41:35   Log-Likelihood:            -7.2019e+06\n",
      "No. Observations:             1743579   AIC:                         1.440e+07\n",
      "Df Residuals:                 1743577   BIC:                         1.440e+07\n",
      "Df Model:                           1                                         \n",
      "Covariance Type:            nonrobust                                         \n",
      "==============================================================================\n",
      "                 coef    std err          t      P>|t|      [0.025      0.975]\n",
      "------------------------------------------------------------------------------\n",
      "const         -0.6205      0.013    -49.486      0.000      -0.645      -0.596\n",
      "50 MA          1.0207   5.45e-05   1.87e+04      0.000       1.021       1.021\n",
      "==============================================================================\n",
      "Omnibus:                  2335228.289   Durbin-Watson:                   0.081\n",
      "Prob(Omnibus):                  0.000   Jarque-Bera (JB):      59248675041.850\n",
      "Skew:                          -6.106   Prob(JB):                         0.00\n",
      "Kurtosis:                     905.993   Cond. No.                         253.\n",
      "==============================================================================\n",
      "\n",
      "Notes:\n",
      "[1] Standard Errors assume that the covariance matrix of the errors is correctly specified.\n"
     ]
    }
   ],
   "source": [
    "import matplotlib.pyplot as plt\n",
    "import numpy as np\n",
    "import seaborn as sns\n",
    "import statsmodels.api as sm\n",
    "\n",
    "regression_holder = []\n",
    "for ticker in tickers:\n",
    "    regression_holder.append(holder[ticker][['close', '50 MA']])\n",
    "df_for_regression = pd.concat(regression_holder, axis=0, ignore_index=True)\n",
    "\n",
    "# Calculate the correlation between the 50 days moving average and the close price\n",
    "correlation = df_for_regression.corr()\n",
    "print(f'Correlation between 50 days moving average and close price: {correlation.loc[\"50 MA\", \"close\"]}')\n",
    "\n",
    "# Perform the linear regression\n",
    "X = df_for_regression['50 MA']\n",
    "y = df_for_regression['close']\n",
    "\n",
    "X = sm.add_constant(X)\n",
    "model = sm.OLS(y, X).fit()\n",
    "print(model.summary())"
   ]
  },
  {
   "cell_type": "markdown",
   "metadata": {},
   "source": [
    "## Analysis on the Regression Results"
   ]
  },
  {
   "cell_type": "markdown",
   "metadata": {},
   "source": [
    "From the ..."
   ]
  },
  {
   "cell_type": "markdown",
   "metadata": {},
   "source": [
    "### Next Step"
   ]
  },
  {
   "cell_type": "markdown",
   "metadata": {},
   "source": [
    "Now, we are going to test the profitability of the 4th-degree MRB and how to make some improvement based on the results."
   ]
  },
  {
   "cell_type": "markdown",
   "metadata": {},
   "source": [
    "#  Polynomial Moving Regression Band Stocks Trading System"
   ]
  },
  {
   "cell_type": "markdown",
   "metadata": {},
   "source": [
    "We first apply the model without spliting training and test set to have an overview of the model."
   ]
  },
  {
   "cell_type": "code",
   "execution_count": 9,
   "metadata": {},
   "outputs": [],
   "source": [
    "# Develop the second degree polynomial regression of the 50 days moving average and the close price. The formula is y = a + bX + cX^2\n",
    "from sklearn.linear_model import LinearRegression\n",
    "from sklearn.model_selection import train_test_split\n",
    "from sklearn.metrics import mean_squared_error\n",
    "\n",
    "model = LinearRegression() "
   ]
  },
  {
   "cell_type": "code",
   "execution_count": 10,
   "metadata": {},
   "outputs": [],
   "source": [
    "fourth_regression_holder = {}\n",
    "for ticker in tickers:\n",
    "    #print(df.shape)\n",
    "    Y = holder[ticker]['open']\n",
    "    X = holder[ticker][['50 MA', '50 MA^2','50 MA^3','50 MA^4']]    \n",
    "    model.fit(X, Y)\n",
    "    fourth_regression_holder[ticker] = model\n",
    "\n",
    "# Caculate the upper and lower bounds of the 50 days moving average with the model and the 2 standard deviation from the regression model\n",
    "for ticker in tickers:\n",
    "    holder[ticker]['4th 50 MA Average'] = fourth_regression_holder[ticker].predict(holder[ticker][['50 MA', '50 MA^2','50 MA^3','50 MA^4']])\n",
    "    holder[ticker]['4th 50 MA Upper'] =  holder[ticker]['4th 50 MA Average'] + holder[ticker]['50 STD']\n",
    "    holder[ticker]['4th 50 MA Lower'] =  holder[ticker]['4th 50 MA Average'] - holder[ticker]['50 STD']"
   ]
  },
  {
   "cell_type": "code",
   "execution_count": 11,
   "metadata": {},
   "outputs": [],
   "source": [
    "# Based on the model prediction, we can assign the signal to the stock data. 1 for buy, -1 for sell, 0 for no action\n",
    "def assign_signal(df):\n",
    "    df['signal'] = 0\n",
    "    df['signal'] = np.where(df['close'] > df['4th 50 MA Upper'], 1, df['signal'])\n",
    "    df['signal'] = np.where(df['close'] < df['4th 50 MA Lower'], -1, df['signal'])\n",
    "    return df"
   ]
  },
  {
   "cell_type": "code",
   "execution_count": 12,
   "metadata": {},
   "outputs": [],
   "source": [
    "# update the position based on the signal, 1 means holding long position, 0 means holding no position\n",
    "def assign_position(df):\n",
    "    df['position'] = df['signal']\n",
    "    df['position'] = np.where(df['position'] == 0, np.nan, df['position'])\n",
    "    df['position'] = df['position'].ffill()\n",
    "    df['position'] = np.where(df['position'] == -1, 0, df['position'])\n",
    "    df['position'] = df['position'].shift(1)\n",
    "    return df"
   ]
  },
  {
   "cell_type": "code",
   "execution_count": 13,
   "metadata": {},
   "outputs": [],
   "source": [
    "# Assign the signal and position to the data\n",
    "for ticker in tickers:\n",
    "    holder[ticker] = assign_signal(holder[ticker])\n",
    "    holder[ticker]['signal'] = holder[ticker]['signal'].shift(1)\n",
    "    holder[ticker] = assign_position(holder[ticker])\n",
    "    holder[ticker]['profit/loss'] = 1000*(1+holder[ticker]['position']*holder[ticker]['price change']).cumprod()"
   ]
  },
  {
   "cell_type": "code",
   "execution_count": 14,
   "metadata": {},
   "outputs": [
    {
     "name": "stdout",
     "output_type": "stream",
     "text": [
      "Total profit/loss: 1547748.569717605\n",
      "Number of profitable stock: 434\n",
      "Number of loss stock: 66\n"
     ]
    }
   ],
   "source": [
    "# Count the loss and profit\n",
    "profit_loss = []\n",
    "count_profit = 0\n",
    "count_loss = 0\n",
    "for ticker in tickers:\n",
    "    profit_loss.append(holder[ticker]['profit/loss'][-1] - 1000)\n",
    "    if holder[ticker]['profit/loss'][-1] > 1000:\n",
    "        count_profit += 1\n",
    "    else:\n",
    "        count_loss += 1\n",
    "\n",
    "print(f'Total profit/loss: {sum(profit_loss)}')\n",
    "print(f'Number of profitable stock: {count_profit}')\n",
    "print(f'Number of loss stock: {count_loss}')"
   ]
  },
  {
   "cell_type": "code",
   "execution_count": 15,
   "metadata": {},
   "outputs": [
    {
     "name": "stdout",
     "output_type": "stream",
     "text": [
      "Total profit/loss for S&P 500: 4828541.977913449\n"
     ]
    }
   ],
   "source": [
    "# Calculate the profit and loss for the S&P 500 index\n",
    "profit_loss_sp500 = 0\n",
    "\n",
    "for ticker in tickers:\n",
    "    profit_loss_sp500 += holder[ticker]['open'][-1]/holder[ticker]['open'][0]*1000 - 1000\n",
    "print(f'Total profit/loss for S&P 500: {profit_loss_sp500}')"
   ]
  },
  {
   "cell_type": "markdown",
   "metadata": {},
   "source": [
    "## Apply Training and Test Set to the Polynominal Band"
   ]
  },
  {
   "cell_type": "code",
   "execution_count": 16,
   "metadata": {},
   "outputs": [],
   "source": [
    "# save the stock data after 2017  holder based on the date index\n",
    "from datetime import datetime\n",
    "\n",
    "test_start_date = datetime.strptime('2017-01-01', '%Y-%m-%d').date()\n",
    "test_end_date = datetime.strptime('2024-10-31', '%Y-%m-%d').date()\n",
    "train_start_date = datetime.strptime('2010-01-01', '%Y-%m-%d').date()\n",
    "train_end_date = datetime.strptime('2016-12-31', '%Y-%m-%d').date()\n",
    "\n",
    "holder_test = {}\n",
    "for ticker in tickers:\n",
    "    holder_test[ticker] = holder[ticker].loc[test_start_date:test_end_date]\n",
    "\n",
    "holder_train = {}\n",
    "for ticker in tickers:\n",
    "    holder_train[ticker] = holder[ticker].loc[train_start_date:train_end_date]\n",
    "    "
   ]
  },
  {
   "cell_type": "code",
   "execution_count": 17,
   "metadata": {},
   "outputs": [],
   "source": [
    "# Check if all dataframe is non-empty in train and test. Create a list of non-empty tickers\n",
    "tickers_with_data = []\n",
    "for ticker in tickers:\n",
    "    if not holder_train[ticker].empty and not holder_test[ticker].empty:\n",
    "        tickers_with_data.append(ticker)"
   ]
  },
  {
   "cell_type": "code",
   "execution_count": 18,
   "metadata": {},
   "outputs": [
    {
     "name": "stdout",
     "output_type": "stream",
     "text": [
      "Total profit/loss for test data: 41294.97480625666\n",
      "Number of profitable stock for test data: 174\n",
      "Number of loss stock for test data: 302\n"
     ]
    }
   ],
   "source": [
    "# Use the trainning data to predict the test data\n",
    "from sklearn.linear_model import LinearRegression\n",
    "from sklearn.metrics import mean_squared_error\n",
    "\n",
    "model = LinearRegression()\n",
    "\n",
    "fourth_regression_holder_train = {}\n",
    "\n",
    "for ticker in tickers_with_data:\n",
    "    Y = holder_train[ticker]['open']\n",
    "    X = holder_train[ticker][['50 MA', '50 MA^2','50 MA^3','50 MA^4']]\n",
    "\n",
    "    model.fit(X, Y)\n",
    "    fourth_regression_holder_train[ticker] = model\n",
    "\n",
    "for ticker in tickers_with_data:\n",
    "    holder_test[ticker]['4th 50 MA Average'] = fourth_regression_holder_train[ticker].predict(holder_test[ticker][['50 MA', '50 MA^2','50 MA^3','50 MA^4']])\n",
    "    holder_test[ticker]['4th 50 MA Upper'] =  holder_test[ticker]['4th 50 MA Average'] + holder_test[ticker]['50 STD']\n",
    "    holder_test[ticker]['4th 50 MA Lower'] =  holder_test[ticker]['4th 50 MA Average'] - holder_test[ticker]['50 STD']\n",
    "\n",
    "for ticker in tickers_with_data:\n",
    "    holder_test[ticker] = assign_signal(holder_test[ticker])\n",
    "    holder_test[ticker]['signal'] = holder_test[ticker]['signal'].shift(1)\n",
    "\n",
    "for ticker in tickers_with_data:\n",
    "    holder_test[ticker] = assign_position(holder_test[ticker])\n",
    "\n",
    "    holder_test[ticker]['profit/loss'] = 1000*(1+holder_test[ticker]['position']*holder_test[ticker]['price change']).cumprod()\n",
    "\n",
    "profit_loss_test = []\n",
    "count_profit_test = 0\n",
    "count_loss_test = 0\n",
    "\n",
    "for ticker in tickers_with_data:\n",
    "    profit_loss_test.append(holder_test[ticker]['profit/loss'][-1] - 1000)\n",
    "    if holder_test[ticker]['profit/loss'][-1] > 1000:\n",
    "        count_profit_test += 1\n",
    "    else:\n",
    "        count_loss_test += 1\n",
    "\n",
    "print(f'Total profit/loss for test data: {sum(profit_loss_test)}')\n",
    "print(f'Number of profitable stock for test data: {count_profit_test}')\n",
    "print(f'Number of loss stock for test data: {count_loss_test}')\n"
   ]
  },
  {
   "cell_type": "code",
   "execution_count": 19,
   "metadata": {},
   "outputs": [
    {
     "data": {
      "text/html": [
       "<div>\n",
       "<style scoped>\n",
       "    .dataframe tbody tr th:only-of-type {\n",
       "        vertical-align: middle;\n",
       "    }\n",
       "\n",
       "    .dataframe tbody tr th {\n",
       "        vertical-align: top;\n",
       "    }\n",
       "\n",
       "    .dataframe thead th {\n",
       "        text-align: right;\n",
       "    }\n",
       "</style>\n",
       "<table border=\"1\" class=\"dataframe\">\n",
       "  <thead>\n",
       "    <tr style=\"text-align: right;\">\n",
       "      <th></th>\n",
       "      <th>open</th>\n",
       "      <th>close</th>\n",
       "      <th>price change</th>\n",
       "      <th>50 MA</th>\n",
       "      <th>50 STD</th>\n",
       "      <th>50 MA^2</th>\n",
       "      <th>50 MA^3</th>\n",
       "      <th>50 MA^4</th>\n",
       "      <th>4th 50 MA Average</th>\n",
       "      <th>4th 50 MA Upper</th>\n",
       "      <th>4th 50 MA Lower</th>\n",
       "      <th>signal</th>\n",
       "      <th>position</th>\n",
       "      <th>profit/loss</th>\n",
       "    </tr>\n",
       "  </thead>\n",
       "  <tbody>\n",
       "    <tr>\n",
       "      <th>2024-10-24</th>\n",
       "      <td>229.727257</td>\n",
       "      <td>230.316620</td>\n",
       "      <td>-0.017515</td>\n",
       "      <td>226.418694</td>\n",
       "      <td>4.504401</td>\n",
       "      <td>51265.425200</td>\n",
       "      <td>1.160745e+07</td>\n",
       "      <td>2.628144e+09</td>\n",
       "      <td>483527.967026</td>\n",
       "      <td>483532.471427</td>\n",
       "      <td>483523.462625</td>\n",
       "      <td>-1.0</td>\n",
       "      <td>0.0</td>\n",
       "      <td>1441.089396</td>\n",
       "    </tr>\n",
       "    <tr>\n",
       "      <th>2024-10-25</th>\n",
       "      <td>229.487523</td>\n",
       "      <td>231.155685</td>\n",
       "      <td>-0.001044</td>\n",
       "      <td>226.552347</td>\n",
       "      <td>4.544456</td>\n",
       "      <td>51325.966118</td>\n",
       "      <td>1.162802e+07</td>\n",
       "      <td>2.634355e+09</td>\n",
       "      <td>484893.151361</td>\n",
       "      <td>484897.695817</td>\n",
       "      <td>484888.606905</td>\n",
       "      <td>-1.0</td>\n",
       "      <td>0.0</td>\n",
       "      <td>1441.089396</td>\n",
       "    </tr>\n",
       "    <tr>\n",
       "      <th>2024-10-28</th>\n",
       "      <td>233.063595</td>\n",
       "      <td>233.143494</td>\n",
       "      <td>0.015583</td>\n",
       "      <td>226.699186</td>\n",
       "      <td>4.637367</td>\n",
       "      <td>51392.520838</td>\n",
       "      <td>1.165064e+07</td>\n",
       "      <td>2.641191e+09</td>\n",
       "      <td>486396.345782</td>\n",
       "      <td>486400.983149</td>\n",
       "      <td>486391.708415</td>\n",
       "      <td>-1.0</td>\n",
       "      <td>0.0</td>\n",
       "      <td>1441.089396</td>\n",
       "    </tr>\n",
       "    <tr>\n",
       "      <th>2024-10-29</th>\n",
       "      <td>232.843827</td>\n",
       "      <td>233.413193</td>\n",
       "      <td>-0.000943</td>\n",
       "      <td>226.854615</td>\n",
       "      <td>4.730503</td>\n",
       "      <td>51463.016149</td>\n",
       "      <td>1.167462e+07</td>\n",
       "      <td>2.648442e+09</td>\n",
       "      <td>487991.283683</td>\n",
       "      <td>487996.014186</td>\n",
       "      <td>487986.553180</td>\n",
       "      <td>-1.0</td>\n",
       "      <td>0.0</td>\n",
       "      <td>1441.089396</td>\n",
       "    </tr>\n",
       "    <tr>\n",
       "      <th>2024-10-30</th>\n",
       "      <td>232.354358</td>\n",
       "      <td>229.847122</td>\n",
       "      <td>-0.002102</td>\n",
       "      <td>226.926336</td>\n",
       "      <td>4.748471</td>\n",
       "      <td>51495.561859</td>\n",
       "      <td>1.168570e+07</td>\n",
       "      <td>2.651793e+09</td>\n",
       "      <td>488728.573754</td>\n",
       "      <td>488733.322225</td>\n",
       "      <td>488723.825283</td>\n",
       "      <td>-1.0</td>\n",
       "      <td>0.0</td>\n",
       "      <td>1441.089396</td>\n",
       "    </tr>\n",
       "  </tbody>\n",
       "</table>\n",
       "</div>"
      ],
      "text/plain": [
       "                  open       close  price change       50 MA    50 STD  \\\n",
       "2024-10-24  229.727257  230.316620     -0.017515  226.418694  4.504401   \n",
       "2024-10-25  229.487523  231.155685     -0.001044  226.552347  4.544456   \n",
       "2024-10-28  233.063595  233.143494      0.015583  226.699186  4.637367   \n",
       "2024-10-29  232.843827  233.413193     -0.000943  226.854615  4.730503   \n",
       "2024-10-30  232.354358  229.847122     -0.002102  226.926336  4.748471   \n",
       "\n",
       "                 50 MA^2       50 MA^3       50 MA^4  4th 50 MA Average  \\\n",
       "2024-10-24  51265.425200  1.160745e+07  2.628144e+09      483527.967026   \n",
       "2024-10-25  51325.966118  1.162802e+07  2.634355e+09      484893.151361   \n",
       "2024-10-28  51392.520838  1.165064e+07  2.641191e+09      486396.345782   \n",
       "2024-10-29  51463.016149  1.167462e+07  2.648442e+09      487991.283683   \n",
       "2024-10-30  51495.561859  1.168570e+07  2.651793e+09      488728.573754   \n",
       "\n",
       "            4th 50 MA Upper  4th 50 MA Lower  signal  position  profit/loss  \n",
       "2024-10-24    483532.471427    483523.462625    -1.0       0.0  1441.089396  \n",
       "2024-10-25    484897.695817    484888.606905    -1.0       0.0  1441.089396  \n",
       "2024-10-28    486400.983149    486391.708415    -1.0       0.0  1441.089396  \n",
       "2024-10-29    487996.014186    487986.553180    -1.0       0.0  1441.089396  \n",
       "2024-10-30    488733.322225    488723.825283    -1.0       0.0  1441.089396  "
      ]
     },
     "execution_count": 19,
     "metadata": {},
     "output_type": "execute_result"
    }
   ],
   "source": [
    "holder_test['AAPL'].tail()"
   ]
  },
  {
   "cell_type": "code",
   "execution_count": 20,
   "metadata": {},
   "outputs": [
    {
     "data": {
      "text/html": [
       "<div>\n",
       "<style scoped>\n",
       "    .dataframe tbody tr th:only-of-type {\n",
       "        vertical-align: middle;\n",
       "    }\n",
       "\n",
       "    .dataframe tbody tr th {\n",
       "        vertical-align: top;\n",
       "    }\n",
       "\n",
       "    .dataframe thead th {\n",
       "        text-align: right;\n",
       "    }\n",
       "</style>\n",
       "<table border=\"1\" class=\"dataframe\">\n",
       "  <thead>\n",
       "    <tr style=\"text-align: right;\">\n",
       "      <th></th>\n",
       "      <th>open</th>\n",
       "      <th>close</th>\n",
       "      <th>price change</th>\n",
       "      <th>50 MA</th>\n",
       "      <th>50 STD</th>\n",
       "      <th>50 MA^2</th>\n",
       "      <th>50 MA^3</th>\n",
       "      <th>50 MA^4</th>\n",
       "      <th>4th 50 MA Average</th>\n",
       "      <th>4th 50 MA Upper</th>\n",
       "      <th>4th 50 MA Lower</th>\n",
       "      <th>signal</th>\n",
       "      <th>position</th>\n",
       "      <th>profit/loss</th>\n",
       "    </tr>\n",
       "  </thead>\n",
       "  <tbody>\n",
       "    <tr>\n",
       "      <th>2017-10-18</th>\n",
       "      <td>37.603784</td>\n",
       "      <td>37.449074</td>\n",
       "      <td>0.004005</td>\n",
       "      <td>37.059215</td>\n",
       "      <td>0.782116</td>\n",
       "      <td>1373.385395</td>\n",
       "      <td>50896.584215</td>\n",
       "      <td>1.886187e+06</td>\n",
       "      <td>39.248193</td>\n",
       "      <td>40.030309</td>\n",
       "      <td>38.466077</td>\n",
       "      <td>-1.0</td>\n",
       "      <td>0.0</td>\n",
       "      <td>1143.643933</td>\n",
       "    </tr>\n",
       "    <tr>\n",
       "      <th>2017-10-19</th>\n",
       "      <td>36.743514</td>\n",
       "      <td>36.563019</td>\n",
       "      <td>-0.022877</td>\n",
       "      <td>37.038352</td>\n",
       "      <td>0.781141</td>\n",
       "      <td>1371.839551</td>\n",
       "      <td>50810.676767</td>\n",
       "      <td>1.881944e+06</td>\n",
       "      <td>39.228948</td>\n",
       "      <td>40.010089</td>\n",
       "      <td>38.447807</td>\n",
       "      <td>-1.0</td>\n",
       "      <td>0.0</td>\n",
       "      <td>1143.643933</td>\n",
       "    </tr>\n",
       "    <tr>\n",
       "      <th>2017-10-20</th>\n",
       "      <td>36.710692</td>\n",
       "      <td>36.626305</td>\n",
       "      <td>-0.000893</td>\n",
       "      <td>37.042712</td>\n",
       "      <td>0.778156</td>\n",
       "      <td>1372.162531</td>\n",
       "      <td>50828.621789</td>\n",
       "      <td>1.882830e+06</td>\n",
       "      <td>39.232974</td>\n",
       "      <td>40.011130</td>\n",
       "      <td>38.454819</td>\n",
       "      <td>-1.0</td>\n",
       "      <td>0.0</td>\n",
       "      <td>1143.643933</td>\n",
       "    </tr>\n",
       "    <tr>\n",
       "      <th>2017-10-23</th>\n",
       "      <td>36.776334</td>\n",
       "      <td>36.607559</td>\n",
       "      <td>0.001788</td>\n",
       "      <td>37.036571</td>\n",
       "      <td>0.780396</td>\n",
       "      <td>1371.707589</td>\n",
       "      <td>50803.345472</td>\n",
       "      <td>1.881582e+06</td>\n",
       "      <td>39.227303</td>\n",
       "      <td>40.007698</td>\n",
       "      <td>38.446907</td>\n",
       "      <td>-1.0</td>\n",
       "      <td>0.0</td>\n",
       "      <td>1143.643933</td>\n",
       "    </tr>\n",
       "    <tr>\n",
       "      <th>2017-10-24</th>\n",
       "      <td>36.635676</td>\n",
       "      <td>36.825550</td>\n",
       "      <td>-0.003825</td>\n",
       "      <td>37.023678</td>\n",
       "      <td>0.778408</td>\n",
       "      <td>1370.752765</td>\n",
       "      <td>50750.309585</td>\n",
       "      <td>1.878963e+06</td>\n",
       "      <td>39.215382</td>\n",
       "      <td>39.993790</td>\n",
       "      <td>38.436973</td>\n",
       "      <td>-1.0</td>\n",
       "      <td>0.0</td>\n",
       "      <td>1143.643933</td>\n",
       "    </tr>\n",
       "    <tr>\n",
       "      <th>2017-10-25</th>\n",
       "      <td>36.781023</td>\n",
       "      <td>36.663818</td>\n",
       "      <td>0.003967</td>\n",
       "      <td>36.999347</td>\n",
       "      <td>0.770051</td>\n",
       "      <td>1368.951656</td>\n",
       "      <td>50650.316924</td>\n",
       "      <td>1.874029e+06</td>\n",
       "      <td>39.192830</td>\n",
       "      <td>39.962881</td>\n",
       "      <td>38.422779</td>\n",
       "      <td>-1.0</td>\n",
       "      <td>0.0</td>\n",
       "      <td>1143.643933</td>\n",
       "    </tr>\n",
       "    <tr>\n",
       "      <th>2017-10-26</th>\n",
       "      <td>36.856021</td>\n",
       "      <td>36.898216</td>\n",
       "      <td>0.002039</td>\n",
       "      <td>36.982751</td>\n",
       "      <td>0.762935</td>\n",
       "      <td>1367.723838</td>\n",
       "      <td>50582.189528</td>\n",
       "      <td>1.870668e+06</td>\n",
       "      <td>39.177408</td>\n",
       "      <td>39.940343</td>\n",
       "      <td>38.414472</td>\n",
       "      <td>-1.0</td>\n",
       "      <td>0.0</td>\n",
       "      <td>1143.643933</td>\n",
       "    </tr>\n",
       "    <tr>\n",
       "      <th>2017-10-27</th>\n",
       "      <td>37.338895</td>\n",
       "      <td>38.220272</td>\n",
       "      <td>0.013102</td>\n",
       "      <td>37.007082</td>\n",
       "      <td>0.782759</td>\n",
       "      <td>1369.524111</td>\n",
       "      <td>50682.090968</td>\n",
       "      <td>1.875596e+06</td>\n",
       "      <td>39.200007</td>\n",
       "      <td>39.982766</td>\n",
       "      <td>38.417248</td>\n",
       "      <td>-1.0</td>\n",
       "      <td>0.0</td>\n",
       "      <td>1143.643933</td>\n",
       "    </tr>\n",
       "    <tr>\n",
       "      <th>2017-10-30</th>\n",
       "      <td>38.417186</td>\n",
       "      <td>39.080563</td>\n",
       "      <td>0.028879</td>\n",
       "      <td>37.050307</td>\n",
       "      <td>0.835697</td>\n",
       "      <td>1372.725221</td>\n",
       "      <td>50859.890352</td>\n",
       "      <td>1.884375e+06</td>\n",
       "      <td>39.239982</td>\n",
       "      <td>40.075678</td>\n",
       "      <td>38.404285</td>\n",
       "      <td>-1.0</td>\n",
       "      <td>0.0</td>\n",
       "      <td>1143.643933</td>\n",
       "    </tr>\n",
       "    <tr>\n",
       "      <th>2017-10-31</th>\n",
       "      <td>39.357164</td>\n",
       "      <td>39.624390</td>\n",
       "      <td>0.024468</td>\n",
       "      <td>37.105768</td>\n",
       "      <td>0.910860</td>\n",
       "      <td>1376.837994</td>\n",
       "      <td>51088.630737</td>\n",
       "      <td>1.895683e+06</td>\n",
       "      <td>39.290950</td>\n",
       "      <td>40.201809</td>\n",
       "      <td>38.380090</td>\n",
       "      <td>0.0</td>\n",
       "      <td>0.0</td>\n",
       "      <td>1143.643933</td>\n",
       "    </tr>\n",
       "  </tbody>\n",
       "</table>\n",
       "</div>"
      ],
      "text/plain": [
       "                 open      close  price change      50 MA    50 STD  \\\n",
       "2017-10-18  37.603784  37.449074      0.004005  37.059215  0.782116   \n",
       "2017-10-19  36.743514  36.563019     -0.022877  37.038352  0.781141   \n",
       "2017-10-20  36.710692  36.626305     -0.000893  37.042712  0.778156   \n",
       "2017-10-23  36.776334  36.607559      0.001788  37.036571  0.780396   \n",
       "2017-10-24  36.635676  36.825550     -0.003825  37.023678  0.778408   \n",
       "2017-10-25  36.781023  36.663818      0.003967  36.999347  0.770051   \n",
       "2017-10-26  36.856021  36.898216      0.002039  36.982751  0.762935   \n",
       "2017-10-27  37.338895  38.220272      0.013102  37.007082  0.782759   \n",
       "2017-10-30  38.417186  39.080563      0.028879  37.050307  0.835697   \n",
       "2017-10-31  39.357164  39.624390      0.024468  37.105768  0.910860   \n",
       "\n",
       "                50 MA^2       50 MA^3       50 MA^4  4th 50 MA Average  \\\n",
       "2017-10-18  1373.385395  50896.584215  1.886187e+06          39.248193   \n",
       "2017-10-19  1371.839551  50810.676767  1.881944e+06          39.228948   \n",
       "2017-10-20  1372.162531  50828.621789  1.882830e+06          39.232974   \n",
       "2017-10-23  1371.707589  50803.345472  1.881582e+06          39.227303   \n",
       "2017-10-24  1370.752765  50750.309585  1.878963e+06          39.215382   \n",
       "2017-10-25  1368.951656  50650.316924  1.874029e+06          39.192830   \n",
       "2017-10-26  1367.723838  50582.189528  1.870668e+06          39.177408   \n",
       "2017-10-27  1369.524111  50682.090968  1.875596e+06          39.200007   \n",
       "2017-10-30  1372.725221  50859.890352  1.884375e+06          39.239982   \n",
       "2017-10-31  1376.837994  51088.630737  1.895683e+06          39.290950   \n",
       "\n",
       "            4th 50 MA Upper  4th 50 MA Lower  signal  position  profit/loss  \n",
       "2017-10-18        40.030309        38.466077    -1.0       0.0  1143.643933  \n",
       "2017-10-19        40.010089        38.447807    -1.0       0.0  1143.643933  \n",
       "2017-10-20        40.011130        38.454819    -1.0       0.0  1143.643933  \n",
       "2017-10-23        40.007698        38.446907    -1.0       0.0  1143.643933  \n",
       "2017-10-24        39.993790        38.436973    -1.0       0.0  1143.643933  \n",
       "2017-10-25        39.962881        38.422779    -1.0       0.0  1143.643933  \n",
       "2017-10-26        39.940343        38.414472    -1.0       0.0  1143.643933  \n",
       "2017-10-27        39.982766        38.417248    -1.0       0.0  1143.643933  \n",
       "2017-10-30        40.075678        38.404285    -1.0       0.0  1143.643933  \n",
       "2017-10-31        40.201809        38.380090     0.0       0.0  1143.643933  "
      ]
     },
     "execution_count": 20,
     "metadata": {},
     "output_type": "execute_result"
    }
   ],
   "source": [
    "holder_test['AAPL'].iloc[200:210]"
   ]
  },
  {
   "cell_type": "markdown",
   "metadata": {},
   "source": [
    "## Apply the Validation Set into the Model"
   ]
  },
  {
   "cell_type": "code",
   "execution_count": 21,
   "metadata": {},
   "outputs": [
    {
     "name": "stdout",
     "output_type": "stream",
     "text": [
      "Number of profitable stocks in the validation period: 98\n",
      "Total profit/loss for test data: 27930.86891751044\n",
      "Number of profitable stock for test data: 89\n",
      "Number of loss stock for test data: 9\n"
     ]
    }
   ],
   "source": [
    "# Train, test and validate the model\n",
    "validate_start_date = datetime.strptime('2017-01-01', '%Y-%m-%d').date()\n",
    "validate_end_date = datetime.strptime('2018-12-31', '%Y-%m-%d').date()\n",
    "\n",
    "test_start_date = datetime.strptime('2019-01-01', '%Y-%m-%d').date()\n",
    "test_end_date = datetime.strptime('2024-10-31', '%Y-%m-%d').date()\n",
    "\n",
    "holder_validate = {}\n",
    "for ticker in tickers_with_data:\n",
    "    holder_validate[ticker] = holder_test[ticker].loc[validate_start_date:validate_end_date]\n",
    "   # print(holder_validate[ticker])\n",
    "\n",
    "holder_test_update = {}\n",
    "for ticker in tickers_with_data:\n",
    "    holder_test_update[ticker] = holder_test[ticker].loc[test_start_date:test_end_date]\n",
    "\n",
    "# Select the stocks that generate profit in the validation period\n",
    "profitable_tickers = []\n",
    "for ticker in tickers_with_data:\n",
    "    #print(ticker)\n",
    "    if holder_validate[ticker]['profit/loss'][-1] > 1000:\n",
    "        profitable_tickers.append(ticker)\n",
    "\n",
    "print(f'Number of profitable stocks in the validation period: {len(profitable_tickers)}')\n",
    "\n",
    "# Use the profitable stocks to predict the test data\n",
    "profit_loss_test_validate = []\n",
    "count_profit_test_validate = 0\n",
    "count_loss_test_validate = 0\n",
    "for ticker in profitable_tickers:\n",
    "    profit_loss_test_validate.append(holder_test_update[ticker]['profit/loss'][-1] - 1000)\n",
    "    if holder_test_update[ticker]['profit/loss'][-1] > 1000:\n",
    "        count_profit_test_validate += 1\n",
    "    else:\n",
    "        count_loss_test_validate += 1\n",
    "\n",
    "print(f'Total profit/loss for test data: {sum(profit_loss_test_validate)}')\n",
    "print(f'Number of profitable stock for test data: {count_profit_test_validate}')\n",
    "print(f'Number of loss stock for test data: {count_loss_test_validate}')\n"
   ]
  },
  {
   "cell_type": "code",
   "execution_count": null,
   "metadata": {},
   "outputs": [],
   "source": []
  },
  {
   "cell_type": "code",
   "execution_count": null,
   "metadata": {},
   "outputs": [],
   "source": []
  },
  {
   "cell_type": "code",
   "execution_count": null,
   "metadata": {},
   "outputs": [],
   "source": []
  }
 ],
 "metadata": {
  "kernelspec": {
   "display_name": "Python 3",
   "language": "python",
   "name": "python3"
  },
  "language_info": {
   "codemirror_mode": {
    "name": "ipython",
    "version": 3
   },
   "file_extension": ".py",
   "mimetype": "text/x-python",
   "name": "python",
   "nbconvert_exporter": "python",
   "pygments_lexer": "ipython3",
   "version": "3.10.7"
  }
 },
 "nbformat": 4,
 "nbformat_minor": 2
}
