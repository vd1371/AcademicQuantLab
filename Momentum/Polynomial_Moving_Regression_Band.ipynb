{
 "cells": [
  {
   "cell_type": "markdown",
   "metadata": {},
   "source": [
    "# Strategy Details"
   ]
  },
  {
   "cell_type": "markdown",
   "metadata": {},
   "source": [
    "### Code Author: Beryl ZHENG"
   ]
  },
  {
   "cell_type": "markdown",
   "metadata": {},
   "source": [
    "Reference: Gil Cohen \"Polynomial Moving Regression Band Stocks Trading System\""
   ]
  },
  {
   "cell_type": "markdown",
   "metadata": {},
   "source": [
    "### The Main Ideas"
   ]
  },
  {
   "cell_type": "markdown",
   "metadata": {},
   "source": [
    "The study develops a trading system using polynomial moving regression models to analyze Nasdaq100 stocks from 2017 to March 2024, demonstrating that these models can effectively identify stock trends and generate profitable trading signals. Among the polynomial models, the fourth-degree polynomial MRB achieved the highest average net profit based on the author's findings"
   ]
  },
  {
   "cell_type": "markdown",
   "metadata": {},
   "source": [
    "Below is the fourth-degree polynomial MRB used by the author:\n",
    "- Upper Band: = 𝛽_0+𝛽_1*𝑋+𝛽_2*𝑋^2 +𝛽_3*𝑋^3 +𝛽_4*𝑋^4 + 2S\n",
    "- Lower Band: = 𝛽_0+𝛽_1*𝑋+𝛽_2*𝑋^2 +𝛽_3*𝑋^3 +𝛽_4*𝑋^4 - 2S"
   ]
  },
  {
   "cell_type": "markdown",
   "metadata": {},
   "source": [
    "As the author mentions that the fourth-degree polynomial MRB achieveed the highest average net profit, in the code below, I will apply this fourth-degree polynomial MRB to S&P 500 to see if the strategy can generate profit and see if some furthre improvement can be imposed to the strategy."
   ]
  },
  {
   "cell_type": "markdown",
   "metadata": {},
   "source": [
    "Details of the Strategy: When the stock’s closing price crosses above the upper band, the system purchases the stock at the open price on the next trading day, initiating a long position (meaning we own the stock with the expectation that its price will rise).  Conversely, when the closing price touches the lower band, the system sells the stock at the opening price on the next trading day, closing the long position."
   ]
  },
  {
   "cell_type": "markdown",
   "metadata": {},
   "source": [
    "The author did not initiate a short position in the paper. To simplify the process and closely mimic the strategy, the code below will also exclude triggering a short position"
   ]
  },
  {
   "cell_type": "code",
   "execution_count": 1,
   "metadata": {},
   "outputs": [],
   "source": [
    "# Collect the list of the S&P 500 companies from Wikipedia and save it to a file\n",
    "import os\n",
    "import requests\n",
    "import pandas as pd\n",
    "import numpy as np\n",
    "\n",
    "# ignore warnings\n",
    "import warnings\n",
    "warnings.filterwarnings(\"ignore\")\n",
    "\n",
    "# Get the list of S&P 500 companies from Wikipedia\n",
    "url = 'https://en.wikipedia.org/wiki/List_of_S%26P_500_companies'\n",
    "response = requests.get(url)\n",
    "html = response.content\n",
    "df = pd.read_html(html, header=0)[0]\n",
    "\n",
    "tickers = df['Symbol'].tolist()"
   ]
  },
  {
   "cell_type": "code",
   "execution_count": 2,
   "metadata": {},
   "outputs": [
    {
     "name": "stderr",
     "output_type": "stream",
     "text": [
      "BRK.B: No timezone found, symbol may be delisted\n",
      "BF.B: No price data found, symbol may be delisted (1d 2010-01-01 -> 2024-10-31)\n"
     ]
    },
    {
     "name": "stdout",
     "output_type": "stream",
     "text": [
      "Loaded data for 501 companies\n"
     ]
    }
   ],
   "source": [
    "# Load the data from yahoo finance\n",
    "import os\n",
    "import yfinance as yf\n",
    "\n",
    "def load_data(symbol):\n",
    "\n",
    "    direc = 'data_2010_2024/'\n",
    "    os.makedirs(direc, exist_ok=True)\n",
    "\n",
    "    file_name = os.path.join(direc, symbol + '.csv')\n",
    "\n",
    "    if not os.path.exists(file_name):\n",
    "\n",
    "        ticker = yf.Ticker(symbol)\n",
    "        df = ticker.history(start='2010-01-01', end='2024-10-31')\n",
    "\n",
    "        df.to_csv(file_name)\n",
    "\n",
    "    df = pd.read_csv(file_name, index_col=0)\n",
    "    df.index = pd.to_datetime(df.index, utc=True).tz_convert('US/Eastern')\n",
    "    df['date'] = df.index\n",
    "\n",
    "    if len(df) == 0:\n",
    "        os.remove(file_name)\n",
    "        return None\n",
    "\n",
    "    return df\n",
    "\n",
    "holder = {}\n",
    "ticker_with_data = []\n",
    "for symbol in tickers:\n",
    "    df = load_data(symbol)\n",
    "    if df is not None:\n",
    "        holder[symbol] = df\n",
    "        ticker_with_data.append(symbol)\n",
    "\n",
    "tickers = ticker_with_data[:]\n",
    "\n",
    "\n",
    "print (f'Loaded data for {len(tickers)} companies')"
   ]
  },
  {
   "cell_type": "code",
   "execution_count": 3,
   "metadata": {},
   "outputs": [],
   "source": [
    "# Keep columns of 'Open' and 'Close' only\n",
    "for ticker in tickers:\n",
    "   holder[ticker] = holder[ticker][['Open', 'Close']]\n",
    "   holder[ticker].columns = ['open', 'close']\n",
    "   holder[ticker].index = holder[ticker].index.date"
   ]
  },
  {
   "cell_type": "code",
   "execution_count": 4,
   "metadata": {},
   "outputs": [],
   "source": [
    "# Add the 50 days factors using the 'close' price and 50 days standard deviation\n",
    "for ticker in tickers:\n",
    "    holder[ticker]['price change'] = holder[ticker]['open'].pct_change()\n",
    "    holder[ticker]['50 MA'] = holder[ticker]['close'].rolling(window=50).mean()\n",
    "    holder[ticker]['50 STD'] = holder[ticker]['close'].rolling(window=50).std()\n",
    "    holder[ticker]['50 MA^2'] = holder[ticker]['50 MA']**2\n",
    "    holder[ticker]['50 MA^3'] = holder[ticker]['50 MA']**3\n",
    "    holder[ticker]['50 MA^4'] = holder[ticker]['50 MA']**4\n",
    "    holder[ticker].dropna(inplace=True)"
   ]
  },
  {
   "cell_type": "code",
   "execution_count": 5,
   "metadata": {},
   "outputs": [],
   "source": [
    "# Update the list of tickers\n",
    "tickers = [ticker for ticker in tickers if len(holder[ticker]) > 0]"
   ]
  },
  {
   "cell_type": "markdown",
   "metadata": {},
   "source": [
    "#  Polynomial Moving Regression Band Stocks Trading System"
   ]
  },
  {
   "cell_type": "markdown",
   "metadata": {},
   "source": [
    "## Apply Training and Test Set to the Polynominal Band"
   ]
  },
  {
   "cell_type": "code",
   "execution_count": 6,
   "metadata": {},
   "outputs": [],
   "source": [
    "# Based on the model prediction, we can assign the signal to the stock data. 1 for buy, -1 for sell, 0 for no action\n",
    "def assign_signal(df):\n",
    "    df['signal'] = 0\n",
    "    df['signal'] = np.where(df['close'] > df['4th 50 MA Upper'], 1, df['signal'])\n",
    "    df['signal'] = np.where(df['close'] < df['4th 50 MA Lower'], -1, df['signal'])\n",
    "    df['signal'] = df['signal'].shift(1)\n",
    "    return df"
   ]
  },
  {
   "cell_type": "code",
   "execution_count": 7,
   "metadata": {},
   "outputs": [],
   "source": [
    "# update the position based on the signal, 1 means holding long position, 0 means holding no position\n",
    "def assign_position(df):\n",
    "    df['position'] = df['signal']\n",
    "    df['position'] = np.where(df['position'] == 0, np.nan, df['position'])\n",
    "    df['position'] = df['position'].ffill()\n",
    "    df['position'] = np.where(df['position'] == -1, 0, df['position'])\n",
    "    df['position'] = df['position'].shift(1)\n",
    "    if df['position'].isnull().all():\n",
    "        df['position'] = 0\n",
    "    # df['position'] = df['position'].shift(1)\n",
    "    return df"
   ]
  },
  {
   "cell_type": "code",
   "execution_count": 8,
   "metadata": {},
   "outputs": [],
   "source": [
    "def apply_model(model,df, std, invest_amount, upper_coeff = 2, lower_coeff = 2):\n",
    "    df['4th 50 MA Average'] = model.predict(df[['50 MA', '50 MA^2', '50 MA^3', '50 MA^4']])\n",
    "    df['4th 50 MA Upper'] = df['4th 50 MA Average'] + upper_coeff* std\n",
    "    df['4th 50 MA Lower'] = df['4th 50 MA Average'] - lower_coeff * std\n",
    "\n",
    "    df = assign_signal(df)\n",
    "    df = assign_position(df)\n",
    "    df['profit/loss'] = invest_amount*(1+df['position']*df['price change']).cumprod()\n",
    "    # Fill the nan value with the invest amount\n",
    "    df['profit/loss'].fillna(invest_amount, inplace=True)\n",
    "    return df"
   ]
  },
  {
   "cell_type": "code",
   "execution_count": 9,
   "metadata": {},
   "outputs": [],
   "source": [
    "# Use the trainning data to predict the test data\n",
    "from sklearn.linear_model import LinearRegression\n",
    "from sklearn.metrics import mean_squared_error\n",
    "from datetime import datetime\n",
    "\n",
    "train_start_date = datetime.strptime('2010-01-01', '%Y-%m-%d').date()\n",
    "train_end_date = datetime.strptime('2016-12-31', '%Y-%m-%d').date()\n",
    "\n",
    "test_start_date = datetime.strptime('2017-01-01', '%Y-%m-%d').date()\n",
    "test_end_date = datetime.strptime('2024-10-31', '%Y-%m-%d').date()\n",
    "\n",
    "holder_train = {}\n",
    "for ticker in tickers:\n",
    "    holder_train[ticker] = holder[ticker].loc[train_start_date:train_end_date]\n",
    "\n",
    "holder_test = {}\n",
    "for ticker in tickers:\n",
    "    holder_test[ticker] = holder[ticker].loc[test_start_date:test_end_date]\n",
    "\n",
    "# Check if all dataframe is non-empty in train and test. Create a list of non-empty tickers\n",
    "tickers_with_data = []\n",
    "for ticker in tickers:\n",
    "    if not holder_train[ticker].empty and not holder_test[ticker].empty:\n",
    "        tickers_with_data.append(ticker)\n",
    "\n",
    "model = LinearRegression()\n",
    "residual_std_holder = {}"
   ]
  },
  {
   "cell_type": "code",
   "execution_count": 10,
   "metadata": {},
   "outputs": [
    {
     "name": "stdout",
     "output_type": "stream",
     "text": [
      "Total profit/loss for test data: 477607.65585871716\n",
      "Number of profitable stock for test data: 329\n",
      "Number of loss stock or no trade for test data: 147\n"
     ]
    }
   ],
   "source": [
    "# Assign 1,000 to each stock and apply the model to predict the profit/loss\n",
    "for ticker in tickers_with_data:\n",
    "    Y = holder_train[ticker]['close']\n",
    "    X = holder_train[ticker][['50 MA', '50 MA^2','50 MA^3','50 MA^4']]\n",
    "\n",
    "    model.fit(X, Y)\n",
    "    residual_std_holder[ticker] = np.sqrt(mean_squared_error(Y, model.predict(X)))\n",
    "    apply_model(model, holder_test[ticker], residual_std_holder[ticker], 1000)\n",
    "\n",
    "profit_loss_test = []\n",
    "count_profit_test = 0\n",
    "count_loss_test = 0\n",
    "for ticker in tickers_with_data:\n",
    "    profit_loss_test.append(holder_test[ticker]['profit/loss'][-1] - 1000)\n",
    "    if holder_test[ticker]['profit/loss'][-1] > 1000:\n",
    "        count_profit_test += 1\n",
    "    else:\n",
    "        count_loss_test += 1\n",
    "\n",
    "print(f'Total profit/loss for test data: {sum(profit_loss_test)}')\n",
    "print(f'Number of profitable stock for test data: {count_profit_test}')\n",
    "print(f'Number of loss stock or no trade for test data: {count_loss_test}')\n"
   ]
  },
  {
   "cell_type": "markdown",
   "metadata": {},
   "source": [
    "From the number of profitable stocks and loss stocks we can see that the trading strategy is not profitable to most of the stocks. So we need to add a validation set to select the stocks that can generate profit during the validation period. "
   ]
  },
  {
   "cell_type": "markdown",
   "metadata": {},
   "source": [
    "## Apply the Validation Set into the Model"
   ]
  },
  {
   "cell_type": "code",
   "execution_count": 11,
   "metadata": {},
   "outputs": [],
   "source": [
    "# Train, test and validate the model\n",
    "train_start_date = datetime.strptime('2010-01-01', '%Y-%m-%d').date()\n",
    "train_end_date = datetime.strptime('2016-12-31', '%Y-%m-%d').date()\n",
    "\n",
    "validate_start_date = datetime.strptime('2017-01-01', '%Y-%m-%d').date()\n",
    "validate_end_date = datetime.strptime('2017-12-31', '%Y-%m-%d').date()\n",
    "\n",
    "test_start_date = datetime.strptime('2018-01-01', '%Y-%m-%d').date()\n",
    "test_end_date = datetime.strptime('2024-10-31', '%Y-%m-%d').date()\n",
    "\n",
    "holder_validate = {}\n",
    "for ticker in tickers_with_data:\n",
    "    holder_validate[ticker] = holder_test[ticker].loc[validate_start_date:validate_end_date]\n",
    "   # print(holder_validate[ticker])\n",
    "\n",
    "holder_test_temp = {}\n",
    "for ticker in tickers_with_data:\n",
    "    holder_test_temp[ticker] = holder[ticker].loc[test_start_date:test_end_date]\n",
    "\n",
    "# Copy the holder_test_temp to holder_test\n",
    "holder_test = holder_test_temp.copy()"
   ]
  },
  {
   "cell_type": "code",
   "execution_count": 12,
   "metadata": {},
   "outputs": [
    {
     "name": "stdout",
     "output_type": "stream",
     "text": [
      "Number of profitable stocks in the validation period: 260\n",
      "Number of profitable stock for test data: 201\n",
      "Number of loss stock for test data: 59\n"
     ]
    }
   ],
   "source": [
    "# Select the stocks that generate profit in the validation period\n",
    "profitable_tickers = []\n",
    "for ticker in tickers_with_data:\n",
    "    if holder_validate[ticker]['profit/loss'][-1] > 1000:\n",
    "        profitable_tickers.append(ticker)\n",
    "\n",
    "print(f'Number of profitable stocks in the validation period: {len(profitable_tickers)}')\n",
    "\n",
    "for ticker in tickers_with_data:\n",
    "    Y = holder_train[ticker]['close']\n",
    "    X = holder_train[ticker][['50 MA', '50 MA^2','50 MA^3','50 MA^4']]\n",
    "\n",
    "    model.fit(X, Y)\n",
    "    residual_std = np.sqrt(mean_squared_error(Y, model.predict(X)))\n",
    "    apply_model(model, holder_test[ticker], residual_std, 1000)\n",
    "   \n",
    "# Use the profitable stocks to predict the test data\n",
    "profit_loss_test_validate = []\n",
    "count_profit_test_validate = 0\n",
    "count_loss_test_validate = 0\n",
    "portfolio_value_test_validate = []\n",
    "\n",
    "for ticker in profitable_tickers:\n",
    "    portfolio_value_test_validate.append(holder_test[ticker]['profit/loss'] )\n",
    "    if holder_test[ticker]['profit/loss'][-1] > 1000:\n",
    "        count_profit_test_validate += 1\n",
    "    else:\n",
    "        count_loss_test_validate += 1\n",
    "print(f'Number of profitable stock for test data: {count_profit_test_validate}')\n",
    "print(f'Number of loss stock for test data: {count_loss_test_validate}')"
   ]
  },
  {
   "cell_type": "code",
   "execution_count": 13,
   "metadata": {},
   "outputs": [
    {
     "data": {
      "text/html": [
       "<div>\n",
       "<style scoped>\n",
       "    .dataframe tbody tr th:only-of-type {\n",
       "        vertical-align: middle;\n",
       "    }\n",
       "\n",
       "    .dataframe tbody tr th {\n",
       "        vertical-align: top;\n",
       "    }\n",
       "\n",
       "    .dataframe thead th {\n",
       "        text-align: right;\n",
       "    }\n",
       "</style>\n",
       "<table border=\"1\" class=\"dataframe\">\n",
       "  <thead>\n",
       "    <tr style=\"text-align: right;\">\n",
       "      <th></th>\n",
       "      <th>value</th>\n",
       "      <th>daily return</th>\n",
       "    </tr>\n",
       "  </thead>\n",
       "  <tbody>\n",
       "    <tr>\n",
       "      <th>2018-01-02</th>\n",
       "      <td>1000.000000</td>\n",
       "      <td>NaN</td>\n",
       "    </tr>\n",
       "    <tr>\n",
       "      <th>2018-01-03</th>\n",
       "      <td>1000.000000</td>\n",
       "      <td>0.000000</td>\n",
       "    </tr>\n",
       "    <tr>\n",
       "      <th>2018-01-04</th>\n",
       "      <td>1005.517625</td>\n",
       "      <td>0.005518</td>\n",
       "    </tr>\n",
       "    <tr>\n",
       "      <th>2018-01-05</th>\n",
       "      <td>1007.718049</td>\n",
       "      <td>0.002188</td>\n",
       "    </tr>\n",
       "    <tr>\n",
       "      <th>2018-01-08</th>\n",
       "      <td>1009.757493</td>\n",
       "      <td>0.002024</td>\n",
       "    </tr>\n",
       "    <tr>\n",
       "      <th>...</th>\n",
       "      <td>...</td>\n",
       "      <td>...</td>\n",
       "    </tr>\n",
       "    <tr>\n",
       "      <th>2024-10-24</th>\n",
       "      <td>2035.223068</td>\n",
       "      <td>0.002497</td>\n",
       "    </tr>\n",
       "    <tr>\n",
       "      <th>2024-10-25</th>\n",
       "      <td>2039.952484</td>\n",
       "      <td>0.002324</td>\n",
       "    </tr>\n",
       "    <tr>\n",
       "      <th>2024-10-28</th>\n",
       "      <td>2034.067440</td>\n",
       "      <td>-0.002885</td>\n",
       "    </tr>\n",
       "    <tr>\n",
       "      <th>2024-10-29</th>\n",
       "      <td>2024.994685</td>\n",
       "      <td>-0.004460</td>\n",
       "    </tr>\n",
       "    <tr>\n",
       "      <th>2024-10-30</th>\n",
       "      <td>2027.564299</td>\n",
       "      <td>0.001269</td>\n",
       "    </tr>\n",
       "  </tbody>\n",
       "</table>\n",
       "<p>1719 rows × 2 columns</p>\n",
       "</div>"
      ],
      "text/plain": [
       "                  value  daily return\n",
       "2018-01-02  1000.000000           NaN\n",
       "2018-01-03  1000.000000      0.000000\n",
       "2018-01-04  1005.517625      0.005518\n",
       "2018-01-05  1007.718049      0.002188\n",
       "2018-01-08  1009.757493      0.002024\n",
       "...                 ...           ...\n",
       "2024-10-24  2035.223068      0.002497\n",
       "2024-10-25  2039.952484      0.002324\n",
       "2024-10-28  2034.067440     -0.002885\n",
       "2024-10-29  2024.994685     -0.004460\n",
       "2024-10-30  2027.564299      0.001269\n",
       "\n",
       "[1719 rows x 2 columns]"
      ]
     },
     "execution_count": 13,
     "metadata": {},
     "output_type": "execute_result"
    }
   ],
   "source": [
    "# Calculate the total return for the test data\n",
    "# Transform the portfolio value from a dictionary to a dataframe\n",
    "df_portfolio_value_test_validate = pd.DataFrame(portfolio_value_test_validate)\n",
    "df_portfolio_value_test_validate = df_portfolio_value_test_validate.T\n",
    "df_portfolio_value_test_validate['value'] = df_portfolio_value_test_validate.sum(axis=1,skipna=True)\n",
    "df_portfolio_value_test_validate['value'] = df_portfolio_value_test_validate['value']/len(profitable_tickers)\n",
    "df_portfolio_value_test_validate = df_portfolio_value_test_validate[['value']]\n",
    "df_portfolio_value_test_validate['daily return'] = df_portfolio_value_test_validate['value'].pct_change()\n",
    "\n",
    "df_portfolio_value_test_validate "
   ]
  },
  {
   "cell_type": "code",
   "execution_count": 14,
   "metadata": {},
   "outputs": [
    {
     "name": "stdout",
     "output_type": "stream",
     "text": [
      "Total return for test data with validation: 1.0275642994836534\n",
      "Sharpe ratio for test data with validation: 0.8101824178455022\n",
      "Maximum drawdown for test data with validation: -23.731128779862072%\n"
     ]
    },
    {
     "data": {
      "image/png": "[encoded data removed]",
      "text/plain": [
       "<Figure size 1200x600 with 1 Axes>"
      ]
     },
     "metadata": {},
     "output_type": "display_data"
    }
   ],
   "source": [
    "from matplotlib import pyplot as plt\n",
    "\n",
    "total_return_with_validate = df_portfolio_value_test_validate['value'][-1]/1000 - 1\n",
    "print(f'Total return for test data with validation: {total_return_with_validate}')\n",
    "\n",
    "sharpe_ratio = df_portfolio_value_test_validate['daily return'].mean()/df_portfolio_value_test_validate['daily return'].std()*np.sqrt(252)\n",
    "print(f'Sharpe ratio for test data with validation: {sharpe_ratio}')\n",
    "\n",
    "portfolio_value_series = df_portfolio_value_test_validate['value']\n",
    "rolling_max = portfolio_value_series.expanding().max()\n",
    "drawdowns = (portfolio_value_series - rolling_max) / rolling_max\n",
    "max_drawdown = drawdowns.min() * 100\n",
    "print(f'Maximum drawdown for test data with validation: {max_drawdown}%')\n",
    "\n",
    "# Plot the portfolio value\n",
    "plt.figure(figsize=(12,6))\n",
    "plt.plot(df_portfolio_value_test_validate['value'])\n",
    "plt.title('Portfolio Value')\n",
    "plt.xlabel('Date')\n",
    "plt.ylabel('Value')\n",
    "plt.grid()\n",
    "plt.show()"
   ]
  },
  {
   "cell_type": "markdown",
   "metadata": {},
   "source": [
    "Based on the historical data of S&P500 index from Jan 2018 to Oct 2024, we can see that the total return is around 1.08, which means the strategy, even with validation set invovled, cannot outperform S&P500 index. Thus, in the code below, we try to see some methods can be applied to improve the performance. "
   ]
  },
  {
   "cell_type": "markdown",
   "metadata": {},
   "source": [
    "# Further Improvement on the Polynomial System"
   ]
  },
  {
   "cell_type": "markdown",
   "metadata": {},
   "source": [
    "Based on the paper, we can see that the author use '2' as the band for the trading system (Upper Band: = 𝛽_0+𝛽_1*𝑋+𝛽_2*𝑋^2 +𝛽_3*𝑋^3 +𝛽_4*𝑋^4 + 2S). However, the reason for setting the coeffcient to be 2 is not mentioned. Now, we are going to see if we can adjust the coefficient to achieve better result."
   ]
  },
  {
   "cell_type": "code",
   "execution_count": 15,
   "metadata": {},
   "outputs": [],
   "source": [
    "upper_range = [0.5, 1, 1.5, 2, 2.5, 3, 3.5]\n",
    "lower_range = [0.5, 1, 1.5, 2, 2.5, 3, 3.5]\n",
    "ls_upper_range = []\n",
    "ls_lower_range = []\n",
    "ls_profit_loss_test = []\n",
    "ls_profit_loss_validate = []\n",
    "ls_count_loss = []\n",
    "ls_count_profit = []\n",
    "# Based on the validation period, we can find the optimal upper and lower range of 50 std for each stocks. and put the result in a dataframe\n",
    "for upper_coeff in upper_range:\n",
    "    # print(uppder_coeff)\n",
    "    for lower_coeff in lower_range:\n",
    "        profitable_tickers = []\n",
    "        for ticker in tickers_with_data:\n",
    "            X = holder_train[ticker][['50 MA', '50 MA^2','50 MA^3','50 MA^4']]\n",
    "            Y = holder_train[ticker]['close']\n",
    "            model.fit(X, Y)\n",
    "            residual_std = np.sqrt(mean_squared_error(Y, model.predict(X)))\n",
    "            apply_model(model, holder_validate[ticker], residual_std, 1000, upper_coeff, lower_coeff)\n",
    "            \n",
    "            apply_model(model, holder_test[ticker], residual_std, 1000, upper_coeff, lower_coeff)\n",
    "    \n",
    "            if holder_validate[ticker]['profit/loss'][-1] > 1000:\n",
    "                profitable_tickers.append(ticker)\n",
    "        profit_loss_validate = []\n",
    "        profit_loss_test = []\n",
    "        count_profit_test = 0\n",
    "        count_loss_test = 0\n",
    "        for ticker in profitable_tickers:\n",
    "            profit_loss_validate.append(holder_validate[ticker]['profit/loss'][-1])\n",
    "            profit_loss_test.append(holder_test[ticker]['profit/loss'][-1])\n",
    "            if holder_test[ticker]['profit/loss'][-1] > 1000:\n",
    "                count_profit_test += 1\n",
    "            else:\n",
    "                count_loss_test += 1\n",
    "        ls_upper_range.append(upper_coeff)\n",
    "        ls_lower_range.append(lower_coeff)\n",
    "        ls_profit_loss_test.append(sum(profit_loss_test))\n",
    "        ls_profit_loss_validate.append(sum(profit_loss_validate))\n",
    "        ls_count_loss.append(count_loss_test)\n",
    "        ls_count_profit.append(count_profit_test)"
   ]
  },
  {
   "cell_type": "code",
   "execution_count": 16,
   "metadata": {},
   "outputs": [],
   "source": [
    "# Create a dataframe to store the result\n",
    "# As we assign 1,000 to each stock, to make the result comparable, we divide the profit/loss by the number of profitable and loss stocks so that the initial investment is 1,000 for each combination of upper and lower range\n",
    "df_result = pd.DataFrame({'upper range': ls_upper_range, 'lower range': ls_lower_range, 'profit/loss_test': ls_profit_loss_test, 'profit/loss_validate': ls_profit_loss_validate, 'count_profit': ls_count_profit, 'count_loss': ls_count_loss})\n",
    "\n",
    "df_result['total return test'] = df_result['profit/loss_test']/(df_result['count_profit']+df_result['count_loss'])/1000 -1\n",
    "df_result['total return validate'] = df_result['profit/loss_validate']/(df_result['count_profit']+df_result['count_loss'])/1000 -1\n",
    "df_result_by_test = df_result.sort_values(by='total return test', ascending=False)\n",
    "df_result_by_validate = df_result.sort_values(by='total return validate', ascending=False)"
   ]
  },
  {
   "cell_type": "code",
   "execution_count": 17,
   "metadata": {},
   "outputs": [
    {
     "data": {
      "text/html": [
       "<div>\n",
       "<style scoped>\n",
       "    .dataframe tbody tr th:only-of-type {\n",
       "        vertical-align: middle;\n",
       "    }\n",
       "\n",
       "    .dataframe tbody tr th {\n",
       "        vertical-align: top;\n",
       "    }\n",
       "\n",
       "    .dataframe thead th {\n",
       "        text-align: right;\n",
       "    }\n",
       "</style>\n",
       "<table border=\"1\" class=\"dataframe\">\n",
       "  <thead>\n",
       "    <tr style=\"text-align: right;\">\n",
       "      <th></th>\n",
       "      <th>upper range</th>\n",
       "      <th>lower range</th>\n",
       "      <th>profit/loss_test</th>\n",
       "      <th>profit/loss_validate</th>\n",
       "      <th>count_profit</th>\n",
       "      <th>count_loss</th>\n",
       "      <th>total return test</th>\n",
       "      <th>total return validate</th>\n",
       "    </tr>\n",
       "  </thead>\n",
       "  <tbody>\n",
       "    <tr>\n",
       "      <th>47</th>\n",
       "      <td>3.5</td>\n",
       "      <td>3.0</td>\n",
       "      <td>384095.504832</td>\n",
       "      <td>205876.930184</td>\n",
       "      <td>141</td>\n",
       "      <td>35</td>\n",
       "      <td>1.182361</td>\n",
       "      <td>0.169755</td>\n",
       "    </tr>\n",
       "    <tr>\n",
       "      <th>48</th>\n",
       "      <td>3.5</td>\n",
       "      <td>3.5</td>\n",
       "      <td>389607.060488</td>\n",
       "      <td>209383.791411</td>\n",
       "      <td>144</td>\n",
       "      <td>35</td>\n",
       "      <td>1.176576</td>\n",
       "      <td>0.169742</td>\n",
       "    </tr>\n",
       "    <tr>\n",
       "      <th>45</th>\n",
       "      <td>3.5</td>\n",
       "      <td>2.0</td>\n",
       "      <td>378071.612806</td>\n",
       "      <td>203257.436364</td>\n",
       "      <td>143</td>\n",
       "      <td>31</td>\n",
       "      <td>1.172825</td>\n",
       "      <td>0.168146</td>\n",
       "    </tr>\n",
       "    <tr>\n",
       "      <th>46</th>\n",
       "      <td>3.5</td>\n",
       "      <td>2.5</td>\n",
       "      <td>376251.578185</td>\n",
       "      <td>203488.799631</td>\n",
       "      <td>139</td>\n",
       "      <td>35</td>\n",
       "      <td>1.162365</td>\n",
       "      <td>0.169476</td>\n",
       "    </tr>\n",
       "    <tr>\n",
       "      <th>42</th>\n",
       "      <td>3.5</td>\n",
       "      <td>0.5</td>\n",
       "      <td>362159.260934</td>\n",
       "      <td>195705.791911</td>\n",
       "      <td>133</td>\n",
       "      <td>35</td>\n",
       "      <td>1.155710</td>\n",
       "      <td>0.164915</td>\n",
       "    </tr>\n",
       "  </tbody>\n",
       "</table>\n",
       "</div>"
      ],
      "text/plain": [
       "    upper range  lower range  profit/loss_test  profit/loss_validate  \\\n",
       "47          3.5          3.0     384095.504832         205876.930184   \n",
       "48          3.5          3.5     389607.060488         209383.791411   \n",
       "45          3.5          2.0     378071.612806         203257.436364   \n",
       "46          3.5          2.5     376251.578185         203488.799631   \n",
       "42          3.5          0.5     362159.260934         195705.791911   \n",
       "\n",
       "    count_profit  count_loss  total return test  total return validate  \n",
       "47           141          35           1.182361               0.169755  \n",
       "48           144          35           1.176576               0.169742  \n",
       "45           143          31           1.172825               0.168146  \n",
       "46           139          35           1.162365               0.169476  \n",
       "42           133          35           1.155710               0.164915  "
      ]
     },
     "execution_count": 17,
     "metadata": {},
     "output_type": "execute_result"
    }
   ],
   "source": [
    "df_result_by_test.head(5)"
   ]
  },
  {
   "cell_type": "code",
   "execution_count": 18,
   "metadata": {},
   "outputs": [
    {
     "data": {
      "text/html": [
       "<div>\n",
       "<style scoped>\n",
       "    .dataframe tbody tr th:only-of-type {\n",
       "        vertical-align: middle;\n",
       "    }\n",
       "\n",
       "    .dataframe tbody tr th {\n",
       "        vertical-align: top;\n",
       "    }\n",
       "\n",
       "    .dataframe thead th {\n",
       "        text-align: right;\n",
       "    }\n",
       "</style>\n",
       "<table border=\"1\" class=\"dataframe\">\n",
       "  <thead>\n",
       "    <tr style=\"text-align: right;\">\n",
       "      <th></th>\n",
       "      <th>upper range</th>\n",
       "      <th>lower range</th>\n",
       "      <th>profit/loss_test</th>\n",
       "      <th>profit/loss_validate</th>\n",
       "      <th>count_profit</th>\n",
       "      <th>count_loss</th>\n",
       "      <th>total return test</th>\n",
       "      <th>total return validate</th>\n",
       "    </tr>\n",
       "  </thead>\n",
       "  <tbody>\n",
       "    <tr>\n",
       "      <th>6</th>\n",
       "      <td>0.5</td>\n",
       "      <td>3.5</td>\n",
       "      <td>715662.478492</td>\n",
       "      <td>439998.591470</td>\n",
       "      <td>270</td>\n",
       "      <td>77</td>\n",
       "      <td>1.062428</td>\n",
       "      <td>0.268007</td>\n",
       "    </tr>\n",
       "    <tr>\n",
       "      <th>5</th>\n",
       "      <td>0.5</td>\n",
       "      <td>3.0</td>\n",
       "      <td>699932.645045</td>\n",
       "      <td>430829.341319</td>\n",
       "      <td>262</td>\n",
       "      <td>78</td>\n",
       "      <td>1.058625</td>\n",
       "      <td>0.267145</td>\n",
       "    </tr>\n",
       "    <tr>\n",
       "      <th>4</th>\n",
       "      <td>0.5</td>\n",
       "      <td>2.5</td>\n",
       "      <td>688829.472534</td>\n",
       "      <td>427439.917381</td>\n",
       "      <td>256</td>\n",
       "      <td>82</td>\n",
       "      <td>1.037957</td>\n",
       "      <td>0.264615</td>\n",
       "    </tr>\n",
       "    <tr>\n",
       "      <th>3</th>\n",
       "      <td>0.5</td>\n",
       "      <td>2.0</td>\n",
       "      <td>690856.399502</td>\n",
       "      <td>429636.072416</td>\n",
       "      <td>255</td>\n",
       "      <td>87</td>\n",
       "      <td>1.020048</td>\n",
       "      <td>0.256246</td>\n",
       "    </tr>\n",
       "    <tr>\n",
       "      <th>2</th>\n",
       "      <td>0.5</td>\n",
       "      <td>1.5</td>\n",
       "      <td>675490.978816</td>\n",
       "      <td>417441.148357</td>\n",
       "      <td>244</td>\n",
       "      <td>89</td>\n",
       "      <td>1.028501</td>\n",
       "      <td>0.253577</td>\n",
       "    </tr>\n",
       "  </tbody>\n",
       "</table>\n",
       "</div>"
      ],
      "text/plain": [
       "   upper range  lower range  profit/loss_test  profit/loss_validate  \\\n",
       "6          0.5          3.5     715662.478492         439998.591470   \n",
       "5          0.5          3.0     699932.645045         430829.341319   \n",
       "4          0.5          2.5     688829.472534         427439.917381   \n",
       "3          0.5          2.0     690856.399502         429636.072416   \n",
       "2          0.5          1.5     675490.978816         417441.148357   \n",
       "\n",
       "   count_profit  count_loss  total return test  total return validate  \n",
       "6           270          77           1.062428               0.268007  \n",
       "5           262          78           1.058625               0.267145  \n",
       "4           256          82           1.037957               0.264615  \n",
       "3           255          87           1.020048               0.256246  \n",
       "2           244          89           1.028501               0.253577  "
      ]
     },
     "execution_count": 18,
     "metadata": {},
     "output_type": "execute_result"
    }
   ],
   "source": [
    "df_result_by_validate.head(5)"
   ]
  },
  {
   "cell_type": "markdown",
   "metadata": {},
   "source": [
    "Based on the tables above, we can see that, the coefficient of standard deviation can influence the result dramatically. However, the best combination may need more mathematical proof than experimental tests."
   ]
  },
  {
   "cell_type": "markdown",
   "metadata": {},
   "source": [
    "## Repick Stocks Annually"
   ]
  },
  {
   "cell_type": "markdown",
   "metadata": {},
   "source": [
    "Also, the author didn't take actions to rebalance the portfolio. So, we try to see if repick the potentially profitable stock annualy can further improve the profitability. To make the calculation simpler, we assume all the existing long position will be closed at the end of the year."
   ]
  },
  {
   "cell_type": "code",
   "execution_count": 19,
   "metadata": {},
   "outputs": [],
   "source": [
    "train_start_date = datetime.strptime('2010-01-01', '%Y-%m-%d').date()\n",
    "ls_train_end_date = ['2016-12-31', '2017-12-31', '2018-12-31', '2019-12-31', '2020-12-31', '2021-12-31', '2022-12-31']\n",
    "\n",
    "ls_validation_start_date = ['2017-01-01', '2018-01-01', '2019-01-01', '2020-01-01', '2021-01-01', '2022-01-01', '2023-01-01']\n",
    "ls_validation_end_date = ['2017-12-31', '2018-12-31', '2019-12-31', '2020-12-31', '2021-12-31', '2022-12-31', '2023-12-31']\n",
    "\n",
    "ls_test_start_date = ['2018-01-01', '2019-01-01', '2020-01-01', '2021-01-01', '2022-01-01', '2023-01-01', '2024-01-01']\n",
    "ls_test_end_date = ['2018-12-31', '2019-12-31', '2020-12-31', '2021-12-31', '2022-12-31', '2023-12-31', '2024-10-31']\n",
    "\n",
    "cumulative_profit_loss_test = 0\n",
    "\n",
    "ls_year = ['2018', '2019', '2020', '2021', '2022', '2023', '2024']\n",
    "ls_profit_loss = []\n",
    "ls_count_profit = []\n",
    "ls_count_loss = []\n",
    "ls_count_no_trade = []\n",
    "ls_initial_investment = []\n",
    "\n",
    "initial_investment = 1000\n",
    "portfolio_value = []"
   ]
  },
  {
   "cell_type": "code",
   "execution_count": null,
   "metadata": {},
   "outputs": [],
   "source": [
    "# Assume that we use the training data to train the model and use the validation data to select the profitable stocks on an annual basis.\n",
    "# To simplify the process, we assume all the trade will be closed at the end of the test period if the position is still active.\n",
    "# Ignore the opmization of the upper and lower range of 50 std for each stock for now\n",
    "for i in range(len(ls_year)):\n",
    "    # print(ls_year[i])\n",
    "    train_end_date = datetime.strptime(ls_train_end_date[i], '%Y-%m-%d').date()\n",
    "    validate_start_date = datetime.strptime(ls_validation_start_date[i], '%Y-%m-%d').date()\n",
    "    validate_end_date = datetime.strptime(ls_validation_end_date[i], '%Y-%m-%d').date()\n",
    "    test_start_date = datetime.strptime(ls_test_start_date[i], '%Y-%m-%d').date()\n",
    "    test_end_date = datetime.strptime(ls_test_end_date[i], '%Y-%m-%d').date()\n",
    "\n",
    "    holder_train = {}\n",
    "    holder_validate = {}\n",
    "    holder_test = {}\n",
    "    tickers_with_data = []\n",
    "    \n",
    "    for ticker in tickers:\n",
    "        holder_train[ticker] = holder[ticker].loc[train_start_date:train_end_date]\n",
    "        holder_validate[ticker] = holder[ticker].loc[validate_start_date:validate_end_date]\n",
    "        holder_test[ticker] = holder[ticker].loc[test_start_date:test_end_date]\n",
    "    \n",
    "        if not holder_train[ticker].empty and not holder_validate[ticker].empty and not holder_test[ticker].empty:\n",
    "            tickers_with_data.append(ticker)\n",
    "    \n",
    "    # Train the model using the training data\n",
    "    model = LinearRegression()\n",
    "    for ticker in tickers_with_data:\n",
    "        # print(ticker)\n",
    "        Y = holder_train[ticker]['open']\n",
    "        X = holder_train[ticker][['50 MA', '50 MA^2','50 MA^3','50 MA^4']]\n",
    "        model.fit(X, Y)\n",
    "        residual_std = np.sqrt(mean_squared_error(Y, model.predict(X)))\n",
    "\n",
    "        apply_model(model, holder_validate[ticker], residual_std, 1)\n",
    "        apply_model(model, holder_test[ticker], residual_std, 1)\n",
    "                \n",
    "    # Select the profitable stocks in the validation data\n",
    "    profitable_tickers = []\n",
    "    for ticker in tickers_with_data:\n",
    "        if holder_validate[ticker]['profit/loss'][-1] > 1:\n",
    "            profitable_tickers.append(ticker)\n",
    "   \n",
    "    profit_loss = []\n",
    "    count_profit_test = 0\n",
    "    count_loss_test = 0\n",
    "    count_no_trade = 0\n",
    "   \n",
    "    # Build an equal-weighted portfolio for the profitable stocks at the beginning of the year\n",
    "    stock_allocation = initial_investment/len(profitable_tickers)\n",
    "    ls_initial_investment.append(initial_investment)\n",
    "    for ticker in profitable_tickers:\n",
    "        holder_test[ticker]['profit/loss'] = holder_test[ticker]['profit/loss']*stock_allocation \n",
    "        profit_loss.append(holder_test[ticker]['profit/loss'][-1] - stock_allocation )\n",
    "        portfolio_value.append(holder_test[ticker]['profit/loss'])\n",
    "        if holder_test[ticker]['profit/loss'][-1] > stock_allocation :\n",
    "            count_profit_test += 1\n",
    "        elif holder_test[ticker]['profit/loss'][-1] == stock_allocation :\n",
    "            count_no_trade += 1\n",
    "        else:\n",
    "            count_loss_test += 1\n",
    "    # Keep the daily profit/loss for each year in the list of portfolio value\n",
    "    initial_investment = sum(profit_loss) + initial_investment   \n",
    "    ls_profit_loss.append(sum(profit_loss))\n",
    "    ls_count_profit.append(count_profit_test)\n",
    "    ls_count_loss.append(count_loss_test)\n",
    "    ls_count_no_trade.append(count_no_trade)"
   ]
  },
  {
   "cell_type": "code",
   "execution_count": 21,
   "metadata": {},
   "outputs": [
    {
     "data": {
      "text/html": [
       "<div>\n",
       "<style scoped>\n",
       "    .dataframe tbody tr th:only-of-type {\n",
       "        vertical-align: middle;\n",
       "    }\n",
       "\n",
       "    .dataframe tbody tr th {\n",
       "        vertical-align: top;\n",
       "    }\n",
       "\n",
       "    .dataframe thead th {\n",
       "        text-align: right;\n",
       "    }\n",
       "</style>\n",
       "<table border=\"1\" class=\"dataframe\">\n",
       "  <thead>\n",
       "    <tr style=\"text-align: right;\">\n",
       "      <th></th>\n",
       "      <th>year</th>\n",
       "      <th>profit/loss</th>\n",
       "      <th>Balance at the year start</th>\n",
       "      <th>cumulative profit/loss (%)</th>\n",
       "      <th>count_profit</th>\n",
       "      <th>count_loss</th>\n",
       "      <th>count_no_trade</th>\n",
       "      <th>Predicted profitable trade</th>\n",
       "    </tr>\n",
       "  </thead>\n",
       "  <tbody>\n",
       "    <tr>\n",
       "      <th>0</th>\n",
       "      <td>2018</td>\n",
       "      <td>-2.202014</td>\n",
       "      <td>1000.000000</td>\n",
       "      <td>-0.220201</td>\n",
       "      <td>106</td>\n",
       "      <td>119</td>\n",
       "      <td>37</td>\n",
       "      <td>262</td>\n",
       "    </tr>\n",
       "    <tr>\n",
       "      <th>1</th>\n",
       "      <td>2019</td>\n",
       "      <td>220.986655</td>\n",
       "      <td>997.797986</td>\n",
       "      <td>22.147435</td>\n",
       "      <td>76</td>\n",
       "      <td>18</td>\n",
       "      <td>11</td>\n",
       "      <td>105</td>\n",
       "    </tr>\n",
       "    <tr>\n",
       "      <th>2</th>\n",
       "      <td>2020</td>\n",
       "      <td>194.334352</td>\n",
       "      <td>1218.784641</td>\n",
       "      <td>15.944929</td>\n",
       "      <td>201</td>\n",
       "      <td>109</td>\n",
       "      <td>11</td>\n",
       "      <td>321</td>\n",
       "    </tr>\n",
       "    <tr>\n",
       "      <th>3</th>\n",
       "      <td>2021</td>\n",
       "      <td>265.901913</td>\n",
       "      <td>1413.118993</td>\n",
       "      <td>18.816668</td>\n",
       "      <td>178</td>\n",
       "      <td>50</td>\n",
       "      <td>52</td>\n",
       "      <td>280</td>\n",
       "    </tr>\n",
       "    <tr>\n",
       "      <th>4</th>\n",
       "      <td>2022</td>\n",
       "      <td>-167.051693</td>\n",
       "      <td>1679.020907</td>\n",
       "      <td>-9.949352</td>\n",
       "      <td>64</td>\n",
       "      <td>195</td>\n",
       "      <td>21</td>\n",
       "      <td>280</td>\n",
       "    </tr>\n",
       "    <tr>\n",
       "      <th>5</th>\n",
       "      <td>2023</td>\n",
       "      <td>24.211068</td>\n",
       "      <td>1511.969213</td>\n",
       "      <td>1.601294</td>\n",
       "      <td>36</td>\n",
       "      <td>46</td>\n",
       "      <td>14</td>\n",
       "      <td>96</td>\n",
       "    </tr>\n",
       "    <tr>\n",
       "      <th>6</th>\n",
       "      <td>2024</td>\n",
       "      <td>256.719170</td>\n",
       "      <td>1536.180281</td>\n",
       "      <td>16.711526</td>\n",
       "      <td>142</td>\n",
       "      <td>61</td>\n",
       "      <td>10</td>\n",
       "      <td>213</td>\n",
       "    </tr>\n",
       "  </tbody>\n",
       "</table>\n",
       "</div>"
      ],
      "text/plain": [
       "   year  profit/loss  Balance at the year start  cumulative profit/loss (%)  \\\n",
       "0  2018    -2.202014                1000.000000                   -0.220201   \n",
       "1  2019   220.986655                 997.797986                   22.147435   \n",
       "2  2020   194.334352                1218.784641                   15.944929   \n",
       "3  2021   265.901913                1413.118993                   18.816668   \n",
       "4  2022  -167.051693                1679.020907                   -9.949352   \n",
       "5  2023    24.211068                1511.969213                    1.601294   \n",
       "6  2024   256.719170                1536.180281                   16.711526   \n",
       "\n",
       "   count_profit  count_loss  count_no_trade  Predicted profitable trade  \n",
       "0           106         119              37                         262  \n",
       "1            76          18              11                         105  \n",
       "2           201         109              11                         321  \n",
       "3           178          50              52                         280  \n",
       "4            64         195              21                         280  \n",
       "5            36          46              14                          96  \n",
       "6           142          61              10                         213  "
      ]
     },
     "execution_count": 21,
     "metadata": {},
     "output_type": "execute_result"
    }
   ],
   "source": [
    "cumulative_profit_loss_test# Put the result in a dataframe\n",
    "df_result = pd.DataFrame({'year': ls_year,  'profit/loss': ls_profit_loss,'count_profit': ls_count_profit, 'count_loss': ls_count_loss, \n",
    "                          'count_no_trade': ls_count_no_trade,'Balance at the year start': ls_initial_investment})\n",
    "df_result['cumulative profit/loss (%)'] = 100*df_result['profit/loss']/df_result['Balance at the year start']\n",
    "df_result = df_result[['year', 'profit/loss', 'Balance at the year start', 'cumulative profit/loss (%)', 'count_profit', 'count_loss', 'count_no_trade']]\n",
    "df_result['Predicted profitable trade'] = df_result['count_profit'] + df_result['count_no_trade'] + df_result['count_loss']\n",
    "df_result"
   ]
  },
  {
   "cell_type": "code",
   "execution_count": 22,
   "metadata": {},
   "outputs": [
    {
     "data": {
      "text/html": [
       "<div>\n",
       "<style scoped>\n",
       "    .dataframe tbody tr th:only-of-type {\n",
       "        vertical-align: middle;\n",
       "    }\n",
       "\n",
       "    .dataframe tbody tr th {\n",
       "        vertical-align: top;\n",
       "    }\n",
       "\n",
       "    .dataframe thead th {\n",
       "        text-align: right;\n",
       "    }\n",
       "</style>\n",
       "<table border=\"1\" class=\"dataframe\">\n",
       "  <thead>\n",
       "    <tr style=\"text-align: right;\">\n",
       "      <th></th>\n",
       "      <th>value</th>\n",
       "    </tr>\n",
       "  </thead>\n",
       "  <tbody>\n",
       "    <tr>\n",
       "      <th>2018-01-02</th>\n",
       "      <td>1000.000000</td>\n",
       "    </tr>\n",
       "    <tr>\n",
       "      <th>2018-01-03</th>\n",
       "      <td>1000.000000</td>\n",
       "    </tr>\n",
       "    <tr>\n",
       "      <th>2018-01-04</th>\n",
       "      <td>1005.352654</td>\n",
       "    </tr>\n",
       "    <tr>\n",
       "      <th>2018-01-05</th>\n",
       "      <td>1007.647670</td>\n",
       "    </tr>\n",
       "    <tr>\n",
       "      <th>2018-01-08</th>\n",
       "      <td>1009.755892</td>\n",
       "    </tr>\n",
       "    <tr>\n",
       "      <th>...</th>\n",
       "      <td>...</td>\n",
       "    </tr>\n",
       "    <tr>\n",
       "      <th>2024-10-24</th>\n",
       "      <td>1795.774697</td>\n",
       "    </tr>\n",
       "    <tr>\n",
       "      <th>2024-10-25</th>\n",
       "      <td>1804.632547</td>\n",
       "    </tr>\n",
       "    <tr>\n",
       "      <th>2024-10-28</th>\n",
       "      <td>1800.147331</td>\n",
       "    </tr>\n",
       "    <tr>\n",
       "      <th>2024-10-29</th>\n",
       "      <td>1792.337199</td>\n",
       "    </tr>\n",
       "    <tr>\n",
       "      <th>2024-10-30</th>\n",
       "      <td>1792.899451</td>\n",
       "    </tr>\n",
       "  </tbody>\n",
       "</table>\n",
       "<p>1719 rows × 1 columns</p>\n",
       "</div>"
      ],
      "text/plain": [
       "                  value\n",
       "2018-01-02  1000.000000\n",
       "2018-01-03  1000.000000\n",
       "2018-01-04  1005.352654\n",
       "2018-01-05  1007.647670\n",
       "2018-01-08  1009.755892\n",
       "...                 ...\n",
       "2024-10-24  1795.774697\n",
       "2024-10-25  1804.632547\n",
       "2024-10-28  1800.147331\n",
       "2024-10-29  1792.337199\n",
       "2024-10-30  1792.899451\n",
       "\n",
       "[1719 rows x 1 columns]"
      ]
     },
     "execution_count": 22,
     "metadata": {},
     "output_type": "execute_result"
    }
   ],
   "source": [
    "# Transform the portfolio value from a dictionary to a dataframe\n",
    "df_portfolio_value = pd.DataFrame(portfolio_value)\n",
    "df_portfolio_value = df_portfolio_value.T\n",
    "df_portfolio_value['value'] = df_portfolio_value.sum(axis=1,skipna=True)\n",
    "df_portfolio_value = df_portfolio_value[['value']]\n",
    "df_portfolio_value"
   ]
  },
  {
   "cell_type": "code",
   "execution_count": 23,
   "metadata": {},
   "outputs": [
    {
     "data": {
      "image/png": "[encoded data removed]",
      "text/plain": [
       "<Figure size 1500x600 with 1 Axes>"
      ]
     },
     "metadata": {},
     "output_type": "display_data"
    }
   ],
   "source": [
    "# Plot the portfolio value\n",
    "plt.figure(figsize=(15, 6))\n",
    "plt.plot(df_portfolio_value['value'])\n",
    "plt.title('Portfolio Value')\n",
    "plt.xlabel('Date')\n",
    "plt.ylabel('Value')\n",
    "plt.show()\n"
   ]
  },
  {
   "cell_type": "code",
   "execution_count": 24,
   "metadata": {},
   "outputs": [
    {
     "name": "stdout",
     "output_type": "stream",
     "text": [
      "Performance Metrics:\n",
      "total return: 0.79\n",
      "Annual Return: 9.23%\n",
      "Sharpe Ratio: 0.63\n",
      "Maximum Drawdown: -18.73%\n"
     ]
    }
   ],
   "source": [
    "import numpy as np\n",
    "# Calculate daily returns\n",
    "df_portfolio_value['daily_returns'] = df_portfolio_value['value'].pct_change()\n",
    "\n",
    "# Calculate metrics\n",
    "# 1. Annual Return\n",
    "annual_return = (df_portfolio_value['daily_returns'].mean() * 252) * 100  # 252 trading days\n",
    "\n",
    "# 2. Sharpe Ratio (assuming risk-free rate of 0.02 or 2%)\n",
    "rf = 0.02  # risk free rate\n",
    "excess_returns = df_portfolio_value['daily_returns'] - rf/252\n",
    "sharpe_ratio = np.sqrt(252) * excess_returns.mean() / excess_returns.std()\n",
    "\n",
    "# 4. Maximum Drawdown\n",
    "portfolio_value_series = df_portfolio_value['value']\n",
    "rolling_max = portfolio_value_series.expanding().max()\n",
    "drawdowns = (portfolio_value_series - rolling_max) / rolling_max\n",
    "max_drawdown = drawdowns.min() * 100\n",
    "\n",
    "# Print results\n",
    "print(f\"Performance Metrics:\")\n",
    "print(f\"total return: {df_portfolio_value['value'][-1]/1000 - 1:.2f}\")\n",
    "print(f\"Annual Return: {annual_return:.2f}%\")\n",
    "print(f\"Sharpe Ratio: {sharpe_ratio:.2f}\")\n",
    "print(f\"Maximum Drawdown: {max_drawdown:.2f}%\")"
   ]
  },
  {
   "cell_type": "markdown",
   "metadata": {},
   "source": [
    "While the assumption of closing all outstanding long positions at the end of the year may negatively impact performance, it remains clear that annual portfolio rebalancing does not significantly enhance the performance of trading systems based on polynomial regression models."
   ]
  },
  {
   "cell_type": "markdown",
   "metadata": {},
   "source": [
    "# Conclusion"
   ]
  },
  {
   "cell_type": "markdown",
   "metadata": {},
   "source": [
    "- Overall, the trading system can generate good profitability. \n",
    "- The trading systems cannot generate satisfactory performance to a large number of the stocks so a validation set to select potentially profitable stocks is necessary\n",
    "- The coefficient of standard deviations from the regression model may need more mathematical proof to get the optimized figures\n",
    "- Reselecting the potentially profitable stocks annually tends to generate a worse result."
   ]
  }
 ],
 "metadata": {
  "kernelspec": {
   "display_name": "Python 3",
   "language": "python",
   "name": "python3"
  },
  "language_info": {
   "codemirror_mode": {
    "name": "ipython",
    "version": 3
   },
   "file_extension": ".py",
   "mimetype": "text/x-python",
   "name": "python",
   "nbconvert_exporter": "python",
   "pygments_lexer": "ipython3",
   "version": "3.10.7"
  }
 },
 "nbformat": 4,
 "nbformat_minor": 2
}
