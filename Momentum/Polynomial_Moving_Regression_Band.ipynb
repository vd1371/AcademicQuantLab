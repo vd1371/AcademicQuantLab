{
 "cells": [
  {
   "cell_type": "markdown",
   "metadata": {},
   "source": [
    "# Strategy Details"
   ]
  },
  {
   "cell_type": "markdown",
   "metadata": {},
   "source": [
    "### Code Author: Beryl ZHENG"
   ]
  },
  {
   "cell_type": "markdown",
   "metadata": {},
   "source": [
    "Reference: Gil Cohen \" Polynomial Moving Regression Band Stocks Trading System\""
   ]
  },
  {
   "cell_type": "markdown",
   "metadata": {},
   "source": [
    "Link to Reference: "
   ]
  },
  {
   "cell_type": "markdown",
   "metadata": {},
   "source": [
    "### The Main Ideas"
   ]
  },
  {
   "cell_type": "markdown",
   "metadata": {},
   "source": [
    "The study develops a trading system using polynomial moving regression models to analyze Nasdaq100 stocks from 2017 to March 2024, demonstrating that these models can effectively identify stock trends and generate profitable trading signals. Among the polynomial models, the fourth-degree polynomial MRB achieved the highest average net profit. Thus, in the code below, I will use the fourth-degree MRB to first test its profitability and then to see if some simple approaches can improve the performances."
   ]
  },
  {
   "cell_type": "markdown",
   "metadata": {},
   "source": [
    "To avoid using future data, in this paper, the strategies will be open at open price and close at open price as well. "
   ]
  },
  {
   "cell_type": "code",
   "execution_count": 1,
   "metadata": {},
   "outputs": [],
   "source": [
    "# Collect the list of the S&P 500 companies from Wikipedia and save it to a file\n",
    "import os\n",
    "import requests\n",
    "import pandas as pd\n",
    "\n",
    "# ignore warnings\n",
    "import warnings\n",
    "warnings.filterwarnings(\"ignore\")\n",
    "\n",
    "# Get the list of S&P 500 companies from Wikipedia\n",
    "url = 'https://en.wikipedia.org/wiki/List_of_S%26P_500_companies'\n",
    "response = requests.get(url)\n",
    "html = response.content\n",
    "df = pd.read_html(html, header=0)[0]\n",
    "\n",
    "tickers = df['Symbol'].tolist()"
   ]
  },
  {
   "cell_type": "code",
   "execution_count": 2,
   "metadata": {},
   "outputs": [
    {
     "name": "stderr",
     "output_type": "stream",
     "text": [
      "BRK.B: No timezone found, symbol may be delisted\n",
      "BF.B: No price data found, symbol may be delisted (1d 2010-01-01 -> 2024-10-31)\n"
     ]
    },
    {
     "name": "stdout",
     "output_type": "stream",
     "text": [
      "Loaded data for 501 companies\n"
     ]
    }
   ],
   "source": [
    "# Load the data from yahoo finance\n",
    "import os\n",
    "import yfinance as yf\n",
    "\n",
    "def load_data(symbol):\n",
    "\n",
    "    direc = 'data_2010_2024/'\n",
    "    os.makedirs(direc, exist_ok=True)\n",
    "\n",
    "    file_name = os.path.join(direc, symbol + '.csv')\n",
    "\n",
    "    if not os.path.exists(file_name):\n",
    "\n",
    "        ticker = yf.Ticker(symbol)\n",
    "        df = ticker.history(start='2010-01-01', end='2024-10-31')\n",
    "\n",
    "        df.to_csv(file_name)\n",
    "\n",
    "    df = pd.read_csv(file_name, index_col=0)\n",
    "    df.index = pd.to_datetime(df.index, utc=True).tz_convert('US/Eastern')\n",
    "    df['date'] = df.index\n",
    "\n",
    "    if len(df) == 0:\n",
    "        os.remove(file_name)\n",
    "        return None\n",
    "\n",
    "    return df\n",
    "\n",
    "holder = {}\n",
    "ticker_with_data = []\n",
    "for symbol in tickers:\n",
    "    df = load_data(symbol)\n",
    "    if df is not None:\n",
    "        holder[symbol] = df\n",
    "        ticker_with_data.append(symbol)\n",
    "\n",
    "tickers = ticker_with_data[:]\n",
    "\n",
    "\n",
    "print (f'Loaded data for {len(tickers)} companies')"
   ]
  },
  {
   "cell_type": "code",
   "execution_count": 3,
   "metadata": {},
   "outputs": [],
   "source": [
    "# Keep columns of 'Open' and 'Close' only\n",
    "for ticker in tickers:\n",
    "   holder[ticker] = holder[ticker][['Open', 'Close']]\n",
    "   holder[ticker].columns = ['open', 'close']\n",
    "   holder[ticker].index = holder[ticker].index.date"
   ]
  },
  {
   "cell_type": "code",
   "execution_count": 4,
   "metadata": {},
   "outputs": [],
   "source": [
    "# Add the 50 days factors using the 'close' price and 50 days standard deviation\n",
    "for ticker in tickers:\n",
    "    holder[ticker]['price change'] = holder[ticker]['open'].pct_change()\n",
    "    holder[ticker]['50 MA'] = holder[ticker]['close'].rolling(window=50).mean()\n",
    "    holder[ticker]['50 STD'] = holder[ticker]['close'].rolling(window=50).std()\n",
    "    holder[ticker]['50 MA^2'] = holder[ticker]['50 MA']**2\n",
    "    holder[ticker]['50 MA^3'] = holder[ticker]['50 MA']**3\n",
    "    holder[ticker]['50 MA^4'] = holder[ticker]['50 MA']**4\n",
    "    holder[ticker].dropna(inplace=True)"
   ]
  },
  {
   "cell_type": "code",
   "execution_count": 5,
   "metadata": {},
   "outputs": [],
   "source": [
    "# Update the list of tickers\n",
    "tickers = [ticker for ticker in tickers if len(holder[ticker]) > 0]"
   ]
  },
  {
   "cell_type": "markdown",
   "metadata": {},
   "source": [
    "# Regression Analysis"
   ]
  },
  {
   "cell_type": "markdown",
   "metadata": {},
   "source": [
    "First, test the significance between the 50 day's moving average and the close prices."
   ]
  },
  {
   "cell_type": "code",
   "execution_count": 6,
   "metadata": {},
   "outputs": [
    {
     "name": "stdout",
     "output_type": "stream",
     "text": [
      "Correlation between 50 days moving average and close price: 0.9975263586477868\n",
      "                            OLS Regression Results                            \n",
      "==============================================================================\n",
      "Dep. Variable:                  close   R-squared:                       0.995\n",
      "Model:                            OLS   Adj. R-squared:                  0.995\n",
      "Method:                 Least Squares   F-statistic:                 3.511e+08\n",
      "Date:                Sun, 01 Dec 2024   Prob (F-statistic):               0.00\n",
      "Time:                        18:28:17   Log-Likelihood:            -7.2018e+06\n",
      "No. Observations:             1743579   AIC:                         1.440e+07\n",
      "Df Residuals:                 1743577   BIC:                         1.440e+07\n",
      "Df Model:                           1                                         \n",
      "Covariance Type:            nonrobust                                         \n",
      "==============================================================================\n",
      "                 coef    std err          t      P>|t|      [0.025      0.975]\n",
      "------------------------------------------------------------------------------\n",
      "const         -0.6203      0.013    -49.473      0.000      -0.645      -0.596\n",
      "50 MA          1.0207   5.45e-05   1.87e+04      0.000       1.021       1.021\n",
      "==============================================================================\n",
      "Omnibus:                  2335484.862   Durbin-Watson:                   0.081\n",
      "Prob(Omnibus):                  0.000   Jarque-Bera (JB):      59277893332.734\n",
      "Skew:                          -6.107   Prob(JB):                         0.00\n",
      "Kurtosis:                     906.216   Cond. No.                         253.\n",
      "==============================================================================\n",
      "\n",
      "Notes:\n",
      "[1] Standard Errors assume that the covariance matrix of the errors is correctly specified.\n"
     ]
    }
   ],
   "source": [
    "import matplotlib.pyplot as plt\n",
    "import numpy as np\n",
    "import seaborn as sns\n",
    "import statsmodels.api as sm\n",
    "\n",
    "regression_holder = []\n",
    "for ticker in tickers:\n",
    "    regression_holder.append(holder[ticker][['close', '50 MA']])\n",
    "df_for_regression = pd.concat(regression_holder, axis=0, ignore_index=True)\n",
    "\n",
    "# Calculate the correlation between the 50 days moving average and the close price\n",
    "correlation = df_for_regression.corr()\n",
    "print(f'Correlation between 50 days moving average and close price: {correlation.loc[\"50 MA\", \"close\"]}')\n",
    "\n",
    "# Perform the linear regression\n",
    "X = df_for_regression['50 MA']\n",
    "y = df_for_regression['close']\n",
    "\n",
    "X = sm.add_constant(X)\n",
    "model = sm.OLS(y, X).fit()\n",
    "print(model.summary())"
   ]
  },
  {
   "cell_type": "markdown",
   "metadata": {},
   "source": [
    "## Analysis on the Regression Results"
   ]
  },
  {
   "cell_type": "markdown",
   "metadata": {},
   "source": [
    "From the ..."
   ]
  },
  {
   "cell_type": "markdown",
   "metadata": {},
   "source": [
    "### Next Step"
   ]
  },
  {
   "cell_type": "markdown",
   "metadata": {},
   "source": [
    "Now, we are going to test the profitability of the 4th-degree MRB and how to make some improvement based on the results."
   ]
  },
  {
   "cell_type": "markdown",
   "metadata": {},
   "source": [
    "#  Polynomial Moving Regression Band Stocks Trading System"
   ]
  },
  {
   "cell_type": "markdown",
   "metadata": {},
   "source": [
    "## Apply Training and Test Set to the Polynominal Band"
   ]
  },
  {
   "cell_type": "code",
   "execution_count": 7,
   "metadata": {},
   "outputs": [],
   "source": [
    "# save the stock data after 2017  holder based on the date index\n",
    "from datetime import datetime\n",
    "\n",
    "train_start_date = datetime.strptime('2010-01-01', '%Y-%m-%d').date()\n",
    "train_end_date = datetime.strptime('2016-12-31', '%Y-%m-%d').date()\n",
    "\n",
    "test_start_date = datetime.strptime('2017-01-01', '%Y-%m-%d').date()\n",
    "test_end_date = datetime.strptime('2024-10-31', '%Y-%m-%d').date()\n",
    "\n",
    "holder_train = {}\n",
    "for ticker in tickers:\n",
    "    holder_train[ticker] = holder[ticker].loc[train_start_date:train_end_date]\n",
    "\n",
    "holder_test = {}\n",
    "for ticker in tickers:\n",
    "    holder_test[ticker] = holder[ticker].loc[test_start_date:test_end_date]\n",
    "\n",
    "# Check if all dataframe is non-empty in train and test. Create a list of non-empty tickers\n",
    "tickers_with_data = []\n",
    "for ticker in tickers:\n",
    "    if not holder_train[ticker].empty and not holder_test[ticker].empty:\n",
    "        tickers_with_data.append(ticker)"
   ]
  },
  {
   "cell_type": "code",
   "execution_count": 8,
   "metadata": {},
   "outputs": [],
   "source": [
    "# Based on the model prediction, we can assign the signal to the stock data. 1 for buy, -1 for sell, 0 for no action\n",
    "def assign_signal(df):\n",
    "    df['signal'] = 0\n",
    "    df['signal'] = np.where(df['close'] > df['4th 50 MA Upper'], 1, df['signal'])\n",
    "    df['signal'] = np.where(df['close'] < df['4th 50 MA Lower'], -1, df['signal'])\n",
    "    return df"
   ]
  },
  {
   "cell_type": "code",
   "execution_count": 9,
   "metadata": {},
   "outputs": [],
   "source": [
    "# update the position based on the signal, 1 means holding long position, 0 means holding no position\n",
    "def assign_position(df):\n",
    "    df['position'] = df['signal']\n",
    "    df['position'] = np.where(df['position'] == 0, np.nan, df['position'])\n",
    "    df['position'] = df['position'].ffill()\n",
    "    df['position'] = np.where(df['position'] == -1, 0, df['position'])\n",
    "    df['position'] = df['position'].shift(1)\n",
    "    return df"
   ]
  },
  {
   "cell_type": "code",
   "execution_count": 10,
   "metadata": {},
   "outputs": [
    {
     "name": "stdout",
     "output_type": "stream",
     "text": [
      "Total profit/loss for test data: 27215.07128395023\n",
      "Number of profitable stock for test data: 147\n",
      "Number of loss stock for test data: 329\n"
     ]
    }
   ],
   "source": [
    "# Use the trainning data to predict the test data\n",
    "from sklearn.linear_model import LinearRegression\n",
    "from sklearn.metrics import mean_squared_error\n",
    "\n",
    "model = LinearRegression()\n",
    "\n",
    "fourth_regression_holder_without_validate = {}\n",
    "\n",
    "for ticker in tickers_with_data:\n",
    "    Y = holder_train[ticker]['open']\n",
    "    X = holder_train[ticker][['50 MA', '50 MA^2','50 MA^3','50 MA^4']]\n",
    "\n",
    "    model.fit(X, Y)\n",
    "    fourth_regression_holder_without_validate[ticker] = model\n",
    "\n",
    "for ticker in tickers_with_data:\n",
    "    holder_test[ticker]['4th 50 MA Average'] = fourth_regression_holder_without_validate[ticker].predict(holder_test[ticker][['50 MA', '50 MA^2','50 MA^3','50 MA^4']])\n",
    "    holder_test[ticker]['4th 50 MA Upper'] =  holder_test[ticker]['4th 50 MA Average'] + 2*holder_test[ticker]['50 STD']\n",
    "    holder_test[ticker]['4th 50 MA Lower'] =  holder_test[ticker]['4th 50 MA Average'] - 2*holder_test[ticker]['50 STD']\n",
    "\n",
    "for ticker in tickers_with_data:\n",
    "    holder_test[ticker] = assign_signal(holder_test[ticker])\n",
    "    holder_test[ticker]['signal'] = holder_test[ticker]['signal'].shift(1)\n",
    "\n",
    "for ticker in tickers_with_data:\n",
    "    holder_test[ticker] = assign_position(holder_test[ticker])\n",
    "    holder_test[ticker]['profit/loss'] = 1000*(1+holder_test[ticker]['position']*holder_test[ticker]['price change']).cumprod()\n",
    "\n",
    "profit_loss_test = []\n",
    "count_profit_test = 0\n",
    "count_loss_test = 0\n",
    "\n",
    "for ticker in tickers_with_data:\n",
    "    profit_loss_test.append(holder_test[ticker]['profit/loss'][-1] - 1000)\n",
    "    if holder_test[ticker]['profit/loss'][-1] > 1000:\n",
    "        count_profit_test += 1\n",
    "    else:\n",
    "        count_loss_test += 1\n",
    "\n",
    "print(f'Total profit/loss for test data: {sum(profit_loss_test)}')\n",
    "print(f'Number of profitable stock for test data: {count_profit_test}')\n",
    "print(f'Number of loss stock for test data: {count_loss_test}')\n"
   ]
  },
  {
   "cell_type": "markdown",
   "metadata": {},
   "source": [
    "From the number of profitable stocks and loss stocks we can see that the trading strategy is not profitable to most of the stocks. So we will add a validation set into the model."
   ]
  },
  {
   "cell_type": "markdown",
   "metadata": {},
   "source": [
    "## Apply the Validation Set into the Model"
   ]
  },
  {
   "cell_type": "code",
   "execution_count": 11,
   "metadata": {},
   "outputs": [
    {
     "name": "stdout",
     "output_type": "stream",
     "text": [
      "Number of profitable stocks in the validation period: 93\n",
      "Total profit/loss for test data: 15489.551416399028\n",
      "Number of profitable stock for test data: 74\n",
      "Number of loss stock for test data: 19\n"
     ]
    }
   ],
   "source": [
    "# Train, test and validate the model\n",
    "train_start_date = datetime.strptime('2010-01-01', '%Y-%m-%d').date()\n",
    "train_end_date = datetime.strptime('2016-12-31', '%Y-%m-%d').date()\n",
    "\n",
    "validate_start_date = datetime.strptime('2017-01-01', '%Y-%m-%d').date()\n",
    "validate_end_date = datetime.strptime('2018-12-31', '%Y-%m-%d').date()\n",
    "\n",
    "test_start_date = datetime.strptime('2019-01-01', '%Y-%m-%d').date()\n",
    "test_end_date = datetime.strptime('2024-10-31', '%Y-%m-%d').date()\n",
    "\n",
    "holder_validate = {}\n",
    "for ticker in tickers_with_data:\n",
    "    holder_validate[ticker] = holder_test[ticker].loc[validate_start_date:validate_end_date]\n",
    "   # print(holder_validate[ticker])\n",
    "\n",
    "holder_test_temp = {}\n",
    "for ticker in tickers_with_data:\n",
    "    holder_test_temp[ticker] = holder_test[ticker].loc[test_start_date:test_end_date]\n",
    "\n",
    "# Copy the holder_test_temp to holder_test\n",
    "holder_test = holder_test_temp.copy()\n",
    "\n",
    "# Select the stocks that generate profit in the validation period\n",
    "profitable_tickers = []\n",
    "for ticker in tickers_with_data:\n",
    "    #print(ticker)\n",
    "    if holder_validate[ticker]['profit/loss'][-1] > 1000:\n",
    "        profitable_tickers.append(ticker)\n",
    "\n",
    "print(f'Number of profitable stocks in the validation period: {len(profitable_tickers)}')\n",
    "\n",
    "# Use the profitable stocks to predict the test data\n",
    "profit_loss_test_validate = []\n",
    "count_profit_test_validate = 0\n",
    "count_loss_test_validate = 0\n",
    "for ticker in profitable_tickers:\n",
    "    profit_loss_test_validate.append(holder_test[ticker]['profit/loss'][-1] - 1000)\n",
    "    if holder_test[ticker]['profit/loss'][-1] > 1000:\n",
    "        count_profit_test_validate += 1\n",
    "    else:\n",
    "        count_loss_test_validate += 1\n",
    "\n",
    "print(f'Total profit/loss for test data: {sum(profit_loss_test_validate)}')\n",
    "print(f'Number of profitable stock for test data: {count_profit_test_validate}')\n",
    "print(f'Number of loss stock for test data: {count_loss_test_validate}')\n"
   ]
  },
  {
   "cell_type": "markdown",
   "metadata": {},
   "source": [
    "# Further Improvement on the Polynomial System"
   ]
  },
  {
   "cell_type": "markdown",
   "metadata": {},
   "source": [
    "Based on the paper, we can see that the author use '2' as the band for the trading system. Now, we are going to see if we can adjust the coefficient to achieve better result."
   ]
  },
  {
   "cell_type": "code",
   "execution_count": 12,
   "metadata": {},
   "outputs": [],
   "source": [
    "upper_range = [0, 0.5, 1, 1.5, 2, 2.5, 3, 3.5, 4]\n",
    "lower_range = [0, 0.5, 1, 1.5, 2, 2.5, 3, 3.5, 4]\n",
    "ls_upper_range = []\n",
    "ls_lower_range = []\n",
    "ls_profit_loss_test = []\n",
    "ls_profit_loss_validate = []\n",
    "# Based on the validation period, we can find the optimal upper and lower range of 50 std for each stocks. and put the result in a dataframe\n",
    "for uppder_coeff in upper_range:\n",
    "    for lower_coeff in lower_range:\n",
    "        profitable_tickers = []\n",
    "        for ticker in tickers_with_data:\n",
    "            holder_validate[ticker]['4th 50 MA Upper'] = holder_validate[ticker]['4th 50 MA Average'] + uppder_coeff*holder_validate[ticker]['50 STD']\n",
    "            holder_validate[ticker]['4th 50 MA Lower'] = holder_validate[ticker]['4th 50 MA Average'] - lower_coeff*holder_validate[ticker]['50 STD']\n",
    "            holder_validate[ticker] = assign_signal(holder_validate[ticker])\n",
    "            holder_validate[ticker]['signal'] = holder_validate[ticker]['signal'].shift(1)\n",
    "            holder_validate[ticker] = assign_position(holder_validate[ticker])\n",
    "            holder_validate[ticker]['profit/loss'] = 1000*(1+holder_validate[ticker]['position']*holder_validate[ticker]['price change']).cumprod() \n",
    "            \n",
    "            holder_test[ticker]['4th 50 MA Upper'] = holder_test[ticker]['4th 50 MA Average'] + uppder_coeff*holder_test[ticker]['50 STD']\n",
    "            holder_test[ticker]['4th 50 MA Lower'] = holder_test[ticker]['4th 50 MA Average'] - lower_coeff*holder_test[ticker]['50 STD']\n",
    "            holder_test[ticker] = assign_signal(holder_test[ticker])\n",
    "            holder_test[ticker]['signal'] = holder_test[ticker]['signal'].shift(1)\n",
    "            holder_test[ticker] = assign_position(holder_test[ticker])\n",
    "            holder_test[ticker]['profit/loss'] = 1000*(1+holder_test[ticker]['position']*holder_test[ticker]['price change']).cumprod()\n",
    "\n",
    "            if holder_validate[ticker]['profit/loss'][-1] > 1000:\n",
    "                profitable_tickers.append(ticker)\n",
    "        profit_loss_validate = []\n",
    "        profit_loss_test = []\n",
    "        count_profit_test = 0\n",
    "        count_loss_test = 0\n",
    "        for ticker in profitable_tickers:\n",
    "            profit_loss_validate.append(holder_validate[ticker]['profit/loss'][-1] - 1000)\n",
    "            profit_loss_test.append(holder_test[ticker]['profit/loss'][-1] - 1000)\n",
    "            if holder_test[ticker]['profit/loss'][-1] > 1000:\n",
    "                count_profit_test += 1\n",
    "            else:\n",
    "                count_loss_test += 1\n",
    "        ls_upper_range.append(uppder_coeff)\n",
    "        ls_lower_range.append(lower_coeff)\n",
    "        ls_profit_loss_test.append(sum(profit_loss_test))\n",
    "        ls_profit_loss_validate.append(sum(profit_loss_validate))"
   ]
  },
  {
   "cell_type": "code",
   "execution_count": 13,
   "metadata": {},
   "outputs": [],
   "source": [
    "# Create a dataframe to store the result\n",
    "df_result = pd.DataFrame({'upper range': ls_upper_range, 'lower range': ls_lower_range, 'profit/loss_test': ls_profit_loss_test, 'profit/loss_validate': ls_profit_loss_validate})\n",
    "df_result_by_test = df_result.sort_values(by='profit/loss_test', ascending=False)\n",
    "df_result_by_validate = df_result.sort_values(by='profit/loss_validate', ascending=False)\n"
   ]
  },
  {
   "cell_type": "code",
   "execution_count": 14,
   "metadata": {},
   "outputs": [
    {
     "data": {
      "text/html": [
       "<div>\n",
       "<style scoped>\n",
       "    .dataframe tbody tr th:only-of-type {\n",
       "        vertical-align: middle;\n",
       "    }\n",
       "\n",
       "    .dataframe tbody tr th {\n",
       "        vertical-align: top;\n",
       "    }\n",
       "\n",
       "    .dataframe thead th {\n",
       "        text-align: right;\n",
       "    }\n",
       "</style>\n",
       "<table border=\"1\" class=\"dataframe\">\n",
       "  <thead>\n",
       "    <tr style=\"text-align: right;\">\n",
       "      <th></th>\n",
       "      <th>upper range</th>\n",
       "      <th>lower range</th>\n",
       "      <th>profit/loss_test</th>\n",
       "      <th>profit/loss_validate</th>\n",
       "    </tr>\n",
       "  </thead>\n",
       "  <tbody>\n",
       "    <tr>\n",
       "      <th>5</th>\n",
       "      <td>0.0</td>\n",
       "      <td>2.5</td>\n",
       "      <td>27381.180985</td>\n",
       "      <td>23847.678551</td>\n",
       "    </tr>\n",
       "    <tr>\n",
       "      <th>8</th>\n",
       "      <td>0.0</td>\n",
       "      <td>4.0</td>\n",
       "      <td>27101.749780</td>\n",
       "      <td>29871.148394</td>\n",
       "    </tr>\n",
       "    <tr>\n",
       "      <th>7</th>\n",
       "      <td>0.0</td>\n",
       "      <td>3.5</td>\n",
       "      <td>26239.373868</td>\n",
       "      <td>28623.040064</td>\n",
       "    </tr>\n",
       "    <tr>\n",
       "      <th>17</th>\n",
       "      <td>0.5</td>\n",
       "      <td>4.0</td>\n",
       "      <td>24682.106744</td>\n",
       "      <td>28263.599176</td>\n",
       "    </tr>\n",
       "    <tr>\n",
       "      <th>6</th>\n",
       "      <td>0.0</td>\n",
       "      <td>3.0</td>\n",
       "      <td>23898.357115</td>\n",
       "      <td>25070.315830</td>\n",
       "    </tr>\n",
       "    <tr>\n",
       "      <th>16</th>\n",
       "      <td>0.5</td>\n",
       "      <td>3.5</td>\n",
       "      <td>22998.187233</td>\n",
       "      <td>27495.425911</td>\n",
       "    </tr>\n",
       "    <tr>\n",
       "      <th>4</th>\n",
       "      <td>0.0</td>\n",
       "      <td>2.0</td>\n",
       "      <td>22471.761555</td>\n",
       "      <td>21504.718591</td>\n",
       "    </tr>\n",
       "    <tr>\n",
       "      <th>26</th>\n",
       "      <td>1.0</td>\n",
       "      <td>4.0</td>\n",
       "      <td>21966.607972</td>\n",
       "      <td>26378.469210</td>\n",
       "    </tr>\n",
       "    <tr>\n",
       "      <th>14</th>\n",
       "      <td>0.5</td>\n",
       "      <td>2.5</td>\n",
       "      <td>20049.221941</td>\n",
       "      <td>23560.029306</td>\n",
       "    </tr>\n",
       "    <tr>\n",
       "      <th>25</th>\n",
       "      <td>1.0</td>\n",
       "      <td>3.5</td>\n",
       "      <td>19051.447296</td>\n",
       "      <td>25704.232284</td>\n",
       "    </tr>\n",
       "  </tbody>\n",
       "</table>\n",
       "</div>"
      ],
      "text/plain": [
       "    upper range  lower range  profit/loss_test  profit/loss_validate\n",
       "5           0.0          2.5      27381.180985          23847.678551\n",
       "8           0.0          4.0      27101.749780          29871.148394\n",
       "7           0.0          3.5      26239.373868          28623.040064\n",
       "17          0.5          4.0      24682.106744          28263.599176\n",
       "6           0.0          3.0      23898.357115          25070.315830\n",
       "16          0.5          3.5      22998.187233          27495.425911\n",
       "4           0.0          2.0      22471.761555          21504.718591\n",
       "26          1.0          4.0      21966.607972          26378.469210\n",
       "14          0.5          2.5      20049.221941          23560.029306\n",
       "25          1.0          3.5      19051.447296          25704.232284"
      ]
     },
     "execution_count": 14,
     "metadata": {},
     "output_type": "execute_result"
    }
   ],
   "source": [
    "df_result_by_test.head(10)"
   ]
  },
  {
   "cell_type": "code",
   "execution_count": 15,
   "metadata": {},
   "outputs": [
    {
     "data": {
      "text/html": [
       "<div>\n",
       "<style scoped>\n",
       "    .dataframe tbody tr th:only-of-type {\n",
       "        vertical-align: middle;\n",
       "    }\n",
       "\n",
       "    .dataframe tbody tr th {\n",
       "        vertical-align: top;\n",
       "    }\n",
       "\n",
       "    .dataframe thead th {\n",
       "        text-align: right;\n",
       "    }\n",
       "</style>\n",
       "<table border=\"1\" class=\"dataframe\">\n",
       "  <thead>\n",
       "    <tr style=\"text-align: right;\">\n",
       "      <th></th>\n",
       "      <th>upper range</th>\n",
       "      <th>lower range</th>\n",
       "      <th>profit/loss_test</th>\n",
       "      <th>profit/loss_validate</th>\n",
       "    </tr>\n",
       "  </thead>\n",
       "  <tbody>\n",
       "    <tr>\n",
       "      <th>8</th>\n",
       "      <td>0.0</td>\n",
       "      <td>4.0</td>\n",
       "      <td>27101.749780</td>\n",
       "      <td>29871.148394</td>\n",
       "    </tr>\n",
       "    <tr>\n",
       "      <th>7</th>\n",
       "      <td>0.0</td>\n",
       "      <td>3.5</td>\n",
       "      <td>26239.373868</td>\n",
       "      <td>28623.040064</td>\n",
       "    </tr>\n",
       "    <tr>\n",
       "      <th>17</th>\n",
       "      <td>0.5</td>\n",
       "      <td>4.0</td>\n",
       "      <td>24682.106744</td>\n",
       "      <td>28263.599176</td>\n",
       "    </tr>\n",
       "    <tr>\n",
       "      <th>16</th>\n",
       "      <td>0.5</td>\n",
       "      <td>3.5</td>\n",
       "      <td>22998.187233</td>\n",
       "      <td>27495.425911</td>\n",
       "    </tr>\n",
       "    <tr>\n",
       "      <th>26</th>\n",
       "      <td>1.0</td>\n",
       "      <td>4.0</td>\n",
       "      <td>21966.607972</td>\n",
       "      <td>26378.469210</td>\n",
       "    </tr>\n",
       "    <tr>\n",
       "      <th>25</th>\n",
       "      <td>1.0</td>\n",
       "      <td>3.5</td>\n",
       "      <td>19051.447296</td>\n",
       "      <td>25704.232284</td>\n",
       "    </tr>\n",
       "    <tr>\n",
       "      <th>6</th>\n",
       "      <td>0.0</td>\n",
       "      <td>3.0</td>\n",
       "      <td>23898.357115</td>\n",
       "      <td>25070.315830</td>\n",
       "    </tr>\n",
       "    <tr>\n",
       "      <th>15</th>\n",
       "      <td>0.5</td>\n",
       "      <td>3.0</td>\n",
       "      <td>17127.886362</td>\n",
       "      <td>24704.674745</td>\n",
       "    </tr>\n",
       "    <tr>\n",
       "      <th>5</th>\n",
       "      <td>0.0</td>\n",
       "      <td>2.5</td>\n",
       "      <td>27381.180985</td>\n",
       "      <td>23847.678551</td>\n",
       "    </tr>\n",
       "    <tr>\n",
       "      <th>35</th>\n",
       "      <td>1.5</td>\n",
       "      <td>4.0</td>\n",
       "      <td>15304.465492</td>\n",
       "      <td>23780.243287</td>\n",
       "    </tr>\n",
       "  </tbody>\n",
       "</table>\n",
       "</div>"
      ],
      "text/plain": [
       "    upper range  lower range  profit/loss_test  profit/loss_validate\n",
       "8           0.0          4.0      27101.749780          29871.148394\n",
       "7           0.0          3.5      26239.373868          28623.040064\n",
       "17          0.5          4.0      24682.106744          28263.599176\n",
       "16          0.5          3.5      22998.187233          27495.425911\n",
       "26          1.0          4.0      21966.607972          26378.469210\n",
       "25          1.0          3.5      19051.447296          25704.232284\n",
       "6           0.0          3.0      23898.357115          25070.315830\n",
       "15          0.5          3.0      17127.886362          24704.674745\n",
       "5           0.0          2.5      27381.180985          23847.678551\n",
       "35          1.5          4.0      15304.465492          23780.243287"
      ]
     },
     "execution_count": 15,
     "metadata": {},
     "output_type": "execute_result"
    }
   ],
   "source": [
    "df_result_by_validate.head(10)"
   ]
  },
  {
   "cell_type": "markdown",
   "metadata": {},
   "source": [
    "## Repick Stocks Annually"
   ]
  },
  {
   "cell_type": "code",
   "execution_count": 16,
   "metadata": {},
   "outputs": [
    {
     "name": "stdout",
     "output_type": "stream",
     "text": [
      "Year 1\n",
      "Total profit/loss for test data: -1824.5807894956242\n",
      "Percentage of profitable stock for test data: -0.018810111231913652\n",
      "Number of profitable stock for test data: 14\n",
      "Number of loss stock for test data: 97\n",
      "Year 2\n",
      "Total profit/loss for test data: 46065.20727656926\n",
      "Percentage of profitable stock for test data: 0.2826086335985844\n",
      "Number of profitable stock for test data: 127\n",
      "Number of loss stock for test data: 133\n",
      "Year 3\n",
      "Total profit/loss for test data: 105349.66172236647\n",
      "Percentage of profitable stock for test data: 0.3211879930559953\n",
      "Number of profitable stock for test data: 226\n",
      "Number of loss stock for test data: 235\n",
      "Year 4\n",
      "Total profit/loss for test data: 160420.63968610918\n",
      "Percentage of profitable stock for test data: 0.5791358833433544\n",
      "Number of profitable stock for test data: 217\n",
      "Number of loss stock for test data: 295\n",
      "Year 5\n",
      "Total profit/loss for test data: 133569.77938258628\n",
      "Percentage of profitable stock for test data: 0.4174055605705821\n",
      "Number of profitable stock for test data: 75\n",
      "Number of loss stock for test data: 540\n",
      "Year 6\n",
      "Total profit/loss for test data: 135108.92113626824\n",
      "Percentage of profitable stock for test data: 1.6680113720526943\n",
      "Number of profitable stock for test data: 26\n",
      "Number of loss stock for test data: 595\n",
      "Year 7\n",
      "Total profit/loss for test data: 155400.65601089477\n",
      "Percentage of profitable stock for test data: 0.8354873979080364\n",
      "Number of profitable stock for test data: 120\n",
      "Number of loss stock for test data: 661\n"
     ]
    }
   ],
   "source": [
    "train_start_date = datetime.strptime('2010-01-01', '%Y-%m-%d').date()\n",
    "ls_train_end_date = ['2016-12-31', '2017-12-31', '2018-12-31', '2019-12-31', '2020-12-31', '2021-12-31', '2022-12-31']\n",
    "\n",
    "ls_validation_start_date = ['2017-01-01', '2018-01-01', '2019-01-01', '2020-01-01', '2021-01-01', '2022-01-01', '2023-01-01']\n",
    "ls_validation_end_date = ['2017-12-31', '2018-12-31', '2019-12-31', '2020-12-31', '2021-12-31', '2022-12-31', '2023-12-31']\n",
    "\n",
    "ls_test_start_date = ['2018-01-01', '2019-01-01', '2020-01-01', '2021-01-01', '2022-01-01', '2023-01-01', '2024-01-01']\n",
    "ls_test_end_date = ['2018-12-31', '2019-12-31', '2020-12-31', '2021-12-31', '2022-12-31', '2023-12-31', '2024-10-31']\n",
    "\n",
    "cumulative_profit_loss_test = 0\n",
    "\n",
    "# Assume that we use the training data to train the model and use the validation data to select the profitable stocks on an annual basis.\n",
    "# To simplify the process, we assume all the trade will be closed at the end of the test period if the position is still active.\n",
    "# Ignore the opmization of the upper and lower range of 50 std for each stock for now\n",
    "for i in range(len(ls_train_end_date)):\n",
    "    train_end_date = datetime.strptime(ls_train_end_date[i], '%Y-%m-%d').date()\n",
    "    validate_start_date = datetime.strptime(ls_validation_start_date[i], '%Y-%m-%d').date()\n",
    "    validate_end_date = datetime.strptime(ls_validation_end_date[i], '%Y-%m-%d').date()\n",
    "    test_start_date = datetime.strptime(ls_test_start_date[i], '%Y-%m-%d').date()\n",
    "    test_end_date = datetime.strptime(ls_test_end_date[i], '%Y-%m-%d').date()\n",
    "\n",
    "    holder_train = {}\n",
    "    holder_validate = {}\n",
    "    holder_test = {}\n",
    "    \n",
    "    for ticker in tickers:\n",
    "        holder_train[ticker] = holder[ticker].loc[train_start_date:train_end_date]\n",
    "        holder_validate[ticker] = holder[ticker].loc[validate_start_date:validate_end_date]\n",
    "        holder_test[ticker] = holder[ticker].loc[test_start_date:test_end_date]\n",
    "    \n",
    "    tickers_with_data = []\n",
    "    for ticker in tickers:\n",
    "        if not holder_train[ticker].empty and not holder_validate[ticker].empty and not holder_test[ticker].empty:\n",
    "            tickers_with_data.append(ticker)\n",
    "    \n",
    "    # Train the model using the training data\n",
    "    model = LinearRegression()\n",
    "    fourth_regression_holder = {}\n",
    "    for ticker in tickers_with_data:\n",
    "        Y = holder_train[ticker]['open']\n",
    "        X = holder_train[ticker][['50 MA', '50 MA^2','50 MA^3','50 MA^4']]\n",
    "        model.fit(X, Y)\n",
    "        fourth_regression_holder[ticker] = model\n",
    "\n",
    "    # Use the model to predict the validation data\n",
    "    for ticker in tickers_with_data:\n",
    "        holder_validate[ticker]['4th 50 MA Average'] = fourth_regression_holder[ticker].predict(holder_validate[ticker][['50 MA', '50 MA^2','50 MA^3','50 MA^4']])\n",
    "        holder_validate[ticker]['4th 50 MA Upper'] =  holder_validate[ticker]['4th 50 MA Average'] + 2*holder_validate[ticker]['50 STD']\n",
    "        holder_validate[ticker]['4th 50 MA Lower'] =  holder_validate[ticker]['4th 50 MA Average'] - 2*holder_validate[ticker]['50 STD']\n",
    "\n",
    "        holder_test[ticker]['4th 50 MA Average'] = fourth_regression_holder[ticker].predict(holder_test[ticker][['50 MA', '50 MA^2','50 MA^3','50 MA^4']])\n",
    "        holder_test[ticker]['4th 50 MA Upper'] =  holder_test[ticker]['4th 50 MA Average'] + 2*holder_test[ticker]['50 STD']\n",
    "        holder_test[ticker]['4th 50 MA Lower'] =  holder_test[ticker]['4th 50 MA Average'] - 2*holder_test[ticker]['50 STD']\n",
    "\n",
    "    # Assign the signal to the validation data\n",
    "    for ticker in tickers_with_data:\n",
    "        holder_validate[ticker] = assign_signal(holder_validate[ticker])\n",
    "        holder_validate[ticker]['signal'] = holder_validate[ticker]['signal'].shift(1)\n",
    "\n",
    "        holder_test[ticker] = assign_signal(holder_test[ticker])\n",
    "        holder_test[ticker]['signal'] = holder_test[ticker]['signal'].shift(1)\n",
    "\n",
    "\n",
    "    # Assign the position to the validation data\n",
    "    for ticker in tickers_with_data:\n",
    "        holder_validate[ticker] = assign_position(holder_validate[ticker])\n",
    "        # holder_validate[ticker]['position'] = holder_validate[ticker]['position'].shift(1)\n",
    "\n",
    "        holder_test[ticker] = assign_position(holder_test[ticker])\n",
    "        # holder_test[ticker]['position'] = holder_test[ticker]['position'].shift(1)\n",
    "\n",
    "    # Calculate the profit/loss for the validation data\n",
    "    for ticker in tickers_with_data:\n",
    "        holder_validate[ticker]['profit/loss'] = 1000*(1+holder_validate[ticker]['position']*holder_validate[ticker\n",
    "]['price change']).cumprod()\n",
    "        holder_test[ticker]['profit/loss'] = 1000*(1+holder_test[ticker]['position']*holder_test[ticker]['price change']).cumprod()\n",
    "\n",
    "        \n",
    "\n",
    "    # Select the profitable stocks in the validation data\n",
    "    profitable_tickers = []\n",
    "    for ticker in tickers_with_data:\n",
    "        if holder_validate[ticker]['profit/loss'][-1] > 1000:\n",
    "            profitable_tickers.append(ticker)\n",
    "    # Use the profitable stocks to apply the model to the test data\n",
    "   \n",
    "    # Use the profitable stocks to predict the test data\n",
    "    profit_loss_test_ = []\n",
    "    count_profit_test = 0\n",
    "    count_loss_test_test = 0\n",
    "    for ticker in profitable_tickers:\n",
    "        profit_loss_test.append(holder_test[ticker]['profit/loss'][-1] - 1000)\n",
    "\n",
    "    # check if there is any nan value in the profit/loss column\n",
    "    \n",
    "        if holder_test[ticker]['profit/loss'][-1] > 1000:\n",
    "            count_profit_test += 1\n",
    "        else:\n",
    "            count_loss_test += 1\n",
    "    # Print the result for each year\n",
    "    print(f'Year {i+1}')\n",
    "    # sum ignore the nan value\n",
    "    print(f'Total profit/loss for test data: {sum(profit_loss_test)}')\n",
    "    print(f'Percentage of profitable stock for test data: {sum(profit_loss_test)/len(profitable_tickers)/1000}')\n",
    "    print(f'Number of profitable stock for test data: {count_profit_test}')\n",
    "    print(f'Number of loss stock for test data: {count_loss_test}')\n",
    "    cumulative_profit_loss_test += sum(profit_loss_test)/len(profitable_tickers)/1000\n",
    "\n"
   ]
  },
  {
   "cell_type": "code",
   "execution_count": 18,
   "metadata": {},
   "outputs": [
    {
     "data": {
      "text/plain": [
       "4.085026729297333"
      ]
     },
     "execution_count": 18,
     "metadata": {},
     "output_type": "execute_result"
    }
   ],
   "source": [
    "cumulative_profit_loss_test"
   ]
  }
 ],
 "metadata": {
  "kernelspec": {
   "display_name": "Python 3",
   "language": "python",
   "name": "python3"
  },
  "language_info": {
   "codemirror_mode": {
    "name": "ipython",
    "version": 3
   },
   "file_extension": ".py",
   "mimetype": "text/x-python",
   "name": "python",
   "nbconvert_exporter": "python",
   "pygments_lexer": "ipython3",
   "version": "3.10.7"
  }
 },
 "nbformat": 4,
 "nbformat_minor": 2
}
