{
 "cells": [
  {
   "cell_type": "markdown",
   "metadata": {},
   "source": [
    "# Strategy details\n",
    "\n",
    "This strategy is based on the following paper:\n",
    "Revisiting (Revitalizing) Momentum\n",
    "\n",
    "The idea for this paper is that it tries to improve the traditional momentum strategy by adding a panic state indicator when the market return demonstrates a divergent pattern in the short run and long run. It will then enter a long position for both stocks that performed well in the past and didn’t perform well. When the panic state indicator is not equal to 1, it will go back to the traditional momentum strategy, that is, enter a long position if the stock performed well in the past and enter a short position if the stock didn’t perform well in the past.\n"
   ]
  },
  {
   "cell_type": "code",
   "execution_count": 1,
   "metadata": {},
   "outputs": [],
   "source": [
    "# Collect the list of the S&P 500 companies from Wikipedia and save it to a file\n",
    "import os\n",
    "import requests\n",
    "import pandas as pd\n",
    "\n",
    "# Get the list of S&P 500 companies from Wikipedia\n",
    "url = 'https://en.wikipedia.org/wiki/List_of_S%26P_500_companies'\n",
    "response = requests.get(url)\n",
    "html = response.content\n",
    "df = pd.read_html(html, header=0)[0]\n",
    "\n",
    "tickers = df['Symbol'].tolist()\n",
    "tickers.append('^GSPC')"
   ]
  },
  {
   "cell_type": "code",
   "execution_count": 2,
   "metadata": {},
   "outputs": [],
   "source": [
    "# Load the data from yahoo finance\n",
    "import os\n",
    "import yfinance as yf\n",
    "\n",
    "def load_data(symbol):\n",
    "\n",
    "    direc = 'data/'\n",
    "    os.makedirs(direc, exist_ok=True)\n",
    "\n",
    "    file_name = os.path.join(direc, symbol + '.csv')\n",
    "\n",
    "    if not os.path.exists(file_name):\n",
    "\n",
    "        ticker = yf.Ticker(symbol)\n",
    "        df = ticker.history(start='2005-01-01', end='2023-12-31')\n",
    "\n",
    "        df.to_csv(file_name)\n",
    "\n",
    "    df = pd.read_csv(file_name, index_col=0)\n",
    "    df.index = pd.to_datetime(df.index, utc=True).tz_convert('US/Eastern')\n",
    "    df['date'] = df.index\n",
    "\n",
    "    if len(df) == 0:\n",
    "        os.remove(file_name)\n",
    "        return None\n",
    "\n",
    "    return df\n"
   ]
  },
  {
   "cell_type": "code",
   "execution_count": 3,
   "metadata": {},
   "outputs": [
    {
     "name": "stderr",
     "output_type": "stream",
     "text": [
      "BRK.B: No timezone found, symbol may be delisted\n",
      "BF.B: No price data found, symbol may be delisted (1d 2005-01-01 -> 2023-12-31)\n",
      "GEV: Data doesn't exist for startDate = 1104555600, endDate = 1703998800\n",
      "SOLV: Data doesn't exist for startDate = 1104555600, endDate = 1703998800\n"
     ]
    },
    {
     "name": "stdout",
     "output_type": "stream",
     "text": [
      "Loaded data for 500 companies\n"
     ]
    }
   ],
   "source": [
    "holder = []\n",
    "ticker_with_data = []\n",
    "for symbol in tickers:\n",
    "    df = load_data(symbol)\n",
    "    if df is not None:\n",
    "        holder.append(df)\n",
    "        ticker_with_data.append(symbol)\n",
    "\n",
    "tickers = ticker_with_data[:]\n",
    "\n",
    "print (f'Loaded data for {len(tickers)} companies')\n"
   ]
  },
  {
   "cell_type": "code",
   "execution_count": 4,
   "metadata": {},
   "outputs": [],
   "source": [
    "# We only need the monthly data, so we will resample the data,\n",
    "# Open should be the first day of the month, Close should be the last day of the month\n",
    "# High should be the maximum value of the month, Low should be the minimum value of the month\n",
    "monthly_data = []\n",
    "for data in holder:\n",
    "    df = data.resample('M').agg({\n",
    "        'date': 'first',\n",
    "        'Open': 'first',\n",
    "        'High': 'max',\n",
    "        'Low': 'min',\n",
    "        'Close': 'last',\n",
    "        'Volume': 'sum'\n",
    "    })\n",
    "\n",
    "    df.set_index('date', inplace=True)\n",
    "\n",
    "    monthly_data.append(df)\n",
    "\n",
    "del holder"
   ]
  },
  {
   "cell_type": "markdown",
   "metadata": {},
   "source": [
    "### Adding the factor and monthly return\n",
    "Assuming the we will open at the monthly open price and will close at the monthly close"
   ]
  },
  {
   "cell_type": "code",
   "execution_count": 5,
   "metadata": {},
   "outputs": [],
   "source": [
    "import numpy as np\n",
    "# from multiprocessing import Pool\n",
    "import matplotlib.pyplot as plt"
   ]
  },
  {
   "cell_type": "code",
   "execution_count": 6,
   "metadata": {},
   "outputs": [],
   "source": [
    "\n",
    "def process_data(df):\n",
    "    \n",
    "    df['monthly_log_return'] = np.log(df['Close'] / df['Close'].shift(1))\n",
    "\n",
    "    df['12_month_cumulative_return'] = df['monthly_log_return'].rolling(11).sum().shift(1)\n",
    "\n",
    "    df['signal_simple'] = np.exp(df['12_month_cumulative_return']) - 1\n",
    "\n",
    "    df['signal_simple'] = df['signal_simple'].shift(1)\n",
    "\n",
    "    df['11_month_rolling_std'] = df['monthly_log_return'].rolling(11).std().shift(1)\n",
    "\n",
    "    df['signal_std_weighted'] = (np.exp(df['12_month_cumulative_return']) - 1)/df['11_month_rolling_std']\n",
    "\n",
    "    df['signal_std_weighted'] = df['signal_std_weighted'].shift(1)\n",
    "\n",
    "    return df\n"
   ]
  },
  {
   "cell_type": "code",
   "execution_count": 7,
   "metadata": {},
   "outputs": [],
   "source": [
    "for i in range(len(monthly_data)):\n",
    "    monthly_data[i] = process_data(monthly_data[i])"
   ]
  },
  {
   "cell_type": "markdown",
   "metadata": {},
   "source": [
    "# Create the panic state indicator\n",
    "\n",
    "The panic state indicator is calculated as follows:\n",
    "\n",
    "1. Calculate the 3-month log return for the market as short-run market return\n",
    "2. Calculate the 120-month log return for the market as long-run market return\n",
    "3. Calculate the panic state indicator with the short-run market return and the long-run market return\n",
    "4. If the panic state indicator is not equal to 1, we will use the traditional momentum strategy. Otherwise, we will use the panic state strategy."
   ]
  },
  {
   "cell_type": "code",
   "execution_count": 8,
   "metadata": {},
   "outputs": [],
   "source": [
    "# Create a dataframe to hold monthly_data[-1]\n",
    "market_data = monthly_data[-1].copy()\n",
    "\n",
    "market_data['Short_run_market_return'] = market_data['monthly_log_return'].rolling(3).mean().shift(1)\n",
    "market_data['Long_run_market_return'] = market_data['monthly_log_return'].rolling(120).mean().shift(1)\n",
    "market_data['long_run_std'] = market_data['monthly_log_return'].rolling(120).std().shift(1)\n",
    "\n",
    "delta = 0.8\n",
    "\n",
    "# market_data.head()\n"
   ]
  },
  {
   "cell_type": "code",
   "execution_count": 9,
   "metadata": {},
   "outputs": [],
   "source": [
    "# If the Long_run_market_return no value, then the panic_state_indicator is np.nan\n",
    "market_data['panic_state_indicator'] = market_data['Long_run_market_return'].apply(lambda x: np.nan if np.isnan(x) else 0)\n",
    "\n",
    "# If the Short_run_market_return is less than the Long_run_market_return - delta * long_run_std, then the panic_state_indicator is 1\n",
    "market_data.loc[market_data['Short_run_market_return'] < market_data['Long_run_market_return'] - delta * market_data['long_run_std'], 'panic_state_indicator'] = 1\n",
    "\n",
    "# If the Short_run_market_return is greater than the Long_run_market_return + delta * long_run_std, then the panic_state_indicator is 0\n",
    "market_data.loc[market_data['Short_run_market_return'] >= market_data['Long_run_market_return'] + delta * market_data['long_run_std'], 'panic_state_indicator'] = 0\n",
    "\n",
    "market_data['panic_state_indicator'] = market_data['panic_state_indicator'].shift(1)\n",
    "\n",
    "# market_data.head()"
   ]
  },
  {
   "cell_type": "code",
   "execution_count": 10,
   "metadata": {},
   "outputs": [
    {
     "data": {
      "text/plain": [
       "(106, 14)"
      ]
     },
     "execution_count": 10,
     "metadata": {},
     "output_type": "execute_result"
    }
   ],
   "source": [
    "# How many non nan values of the panic_state_indicator?\n",
    "market_data.dropna(subset=['panic_state_indicator']).shape\n",
    "\n",
    "# How many non nan values of long_run_std?\n",
    "# market_data.dropna(subset=['long_run_std']).shape\n",
    "\n",
    "# How many non nan values of Long_run_market_return?\n",
    "# market_data.dropna(subset=['Long_run_market_return']).shape"
   ]
  },
  {
   "cell_type": "code",
   "execution_count": 11,
   "metadata": {},
   "outputs": [],
   "source": [
    "\n",
    "# Remove monthly_data[-1] from the list\n",
    "monthly_data = monthly_data[:-1]\n",
    "\n",
    "# Merge the market_data['panic_state_indicator'] with all the companies\n",
    "for i in range(len(monthly_data)):\n",
    "    monthly_data[i] = pd.merge(monthly_data[i], market_data['panic_state_indicator'], left_index=True, right_index=True)"
   ]
  },
  {
   "cell_type": "markdown",
   "metadata": {},
   "source": [
    "# Backtesting\n",
    "\n",
    "The backtesting is done from 2016-01-01 to 2023-12-31. The backtesting is done on the S&P 500 index."
   ]
  },
  {
   "cell_type": "code",
   "execution_count": 12,
   "metadata": {},
   "outputs": [],
   "source": [
    "# Rank the companies based on the signal_simple each month, and select the top 50 and bottom 50, and calculate the average return for each group\n",
    "portfolio_return_WML = []\n",
    "portfolio_return_with_panic_state = []\n",
    "for j in range(96):\n",
    "    rank = []\n",
    "    monthly_return = []\n",
    "    Panic_Indicator = 0\n",
    "    for i in range(len(monthly_data)):\n",
    "        if len(monthly_data[i]) < (96-j):\n",
    "            continue\n",
    "        rank.append(monthly_data[i].iloc[-(96-j)]['signal_simple'])\n",
    "        monthly_return.append(monthly_data[i].iloc[-(96-j)]['monthly_log_return'])\n",
    "        Panic_Indicator = monthly_data[i].iloc[-(96-j)]['panic_state_indicator']\n",
    "\n",
    "    # Make a dataframe to hold the rank and monthly return\n",
    "    df = pd.DataFrame({'rank': rank, 'monthly_return': monthly_return})\n",
    "\n",
    "    # Sort the dataframe based on the rank\n",
    "    df.sort_values(by='rank', inplace=True)\n",
    "\n",
    "    # Calculate the average return for the top 50 and bottom 50\n",
    "    top_50 = df.iloc[:50]['monthly_return'].mean()\n",
    "    bottom_50 = df.iloc[-50:]['monthly_return'].mean()\n",
    "\n",
    "    portfolio_return_WML.append(top_50 - bottom_50)\n",
    "    portfolio_return_with_panic_state.append((top_50 - bottom_50) * (1 - Panic_Indicator)+ Panic_Indicator * (top_50 + bottom_50)/2)\n",
    "\n",
    "\n"
   ]
  },
  {
   "cell_type": "code",
   "execution_count": 16,
   "metadata": {},
   "outputs": [
    {
     "data": {
      "image/png": "[encoded data removed]",
      "text/plain": [
       "<Figure size 640x480 with 1 Axes>"
      ]
     },
     "metadata": {},
     "output_type": "display_data"
    }
   ],
   "source": [
    "# Plot the cumulative return of the portfolio_return_WML and portfolio_return_with_panic_state, The x axis is the number of months starting from 2016-01, the y axis is the cumulative return\n",
    "\n",
    "plt.plot(np.cumsum(portfolio_return_WML), label='WML')\n",
    "plt.plot(np.cumsum(portfolio_return_with_panic_state), label='WML with panic state')\n",
    "plt.legend()\n",
    "plt.show()"
   ]
  },
  {
   "cell_type": "code",
   "execution_count": 17,
   "metadata": {},
   "outputs": [
    {
     "name": "stdout",
     "output_type": "stream",
     "text": [
      "96\n",
      "96\n"
     ]
    }
   ],
   "source": [
    "print(len(portfolio_return_WML))\n",
    "print(len(portfolio_return_with_panic_state))"
   ]
  },
  {
   "cell_type": "code",
   "execution_count": 18,
   "metadata": {},
   "outputs": [
    {
     "name": "stdout",
     "output_type": "stream",
     "text": [
      "Cumulative return for the WML strategy: 0.12120034832130622\n",
      "Cumulative return for the WML strategy with panic state: 0.22875313697925675\n"
     ]
    }
   ],
   "source": [
    "# Calculate the cumulative return for the portfolio_return_WML and portfolio_return_with_panic_state\n",
    "cumulative_return_WML = np.sum(np.array(portfolio_return_WML))\n",
    "cumulative_return_with_panic_state = np.sum(np.array(portfolio_return_with_panic_state))\n",
    "\n",
    "print(f'Cumulative return for the WML strategy: {cumulative_return_WML}')\n",
    "print(f'Cumulative return for the WML strategy with panic state: {cumulative_return_with_panic_state}')"
   ]
  },
  {
   "cell_type": "markdown",
   "metadata": {},
   "source": [
    "# Conclusion\n",
    "\n",
    "The WML strategy with panic state has a higher Sharpe ratio compared to the WML strategy. But it also has a higher beta and skewness smaller than 0."
   ]
  },
  {
   "cell_type": "code",
   "execution_count": 20,
   "metadata": {},
   "outputs": [
    {
     "name": "stdout",
     "output_type": "stream",
     "text": [
      "Annualized return for the WML strategy: 0.014402715218970075\n",
      "Annualized return for the WML strategy with panic state: 0.026084388311490292\n",
      "Annualized volatility for the WML strategy: 0.1889173513172667\n",
      "Annualized volatility for the WML strategy with panic state: 0.1971067153420117\n",
      "Sharpe ratio for the WML strategy: 0.07623818097461169\n",
      "Sharpe ratio for the WML strategy with panic state: 0.13233637558329608\n",
      "Beta for the WML strategy: 0.48713902002107073\n",
      "Beta for the WML strategy with panic state: 0.5627893140338172\n",
      "Skewness for the WML strategy: 0.010462248514483767\n",
      "Skewness for the WML strategy with panic state: -0.180284393888657\n"
     ]
    }
   ],
   "source": [
    "# Calculate the annualized return for the portfolio_return_WML and portfolio_return_with_panic_state\n",
    "annualized_return_WML = (1 + cumulative_return_WML)**(12/96) - 1\n",
    "annualized_return_with_panic_state = (1 + cumulative_return_with_panic_state)**(12/96) - 1\n",
    "\n",
    "print(f'Annualized return for the WML strategy: {annualized_return_WML}')\n",
    "print(f'Annualized return for the WML strategy with panic state: {annualized_return_with_panic_state}')\n",
    "\n",
    "# Calculate the annualized volatility for the portfolio_return_WML and portfolio_return_with_panic_state\n",
    "annualized_volatility_WML = np.std(portfolio_return_WML) * np.sqrt(12)\n",
    "annualized_volatility_with_panic_state = np.std(portfolio_return_with_panic_state) * np.sqrt(12)\n",
    "\n",
    "print(f'Annualized volatility for the WML strategy: {annualized_volatility_WML}')\n",
    "print(f'Annualized volatility for the WML strategy with panic state: {annualized_volatility_with_panic_state}')\n",
    "\n",
    "# Calculate the Sharpe ratio for the portfolio_return_WML and portfolio_return_with_panic_state\n",
    "sharpe_ratio_WML = annualized_return_WML / annualized_volatility_WML\n",
    "sharpe_ratio_with_panic_state = annualized_return_with_panic_state / annualized_volatility_with_panic_state\n",
    "\n",
    "print(f'Sharpe ratio for the WML strategy: {sharpe_ratio_WML}')\n",
    "print(f'Sharpe ratio for the WML strategy with panic state: {sharpe_ratio_with_panic_state}')\n",
    "\n",
    "# Calculate the beta for the portfolio_return_WML and portfolio_return_with_panic_state\n",
    "market_return = market_data['monthly_log_return'].iloc[-96:]\n",
    "beta_WML = np.cov(portfolio_return_WML, market_return)[0][1] / np.var(market_return)\n",
    "beta_with_panic_state = np.cov(portfolio_return_with_panic_state, market_return)[0][1] / np.var(market_return)\n",
    "\n",
    "print(f'Beta for the WML strategy: {beta_WML}')\n",
    "print(f'Beta for the WML strategy with panic state: {beta_with_panic_state}')\n",
    "\n",
    "# Calculate the skewness for the portfolio_return_WML and portfolio_return_with_panic_state\n",
    "skewness_WML = pd.Series(portfolio_return_WML).skew()\n",
    "skewness_with_panic_state = pd.Series(portfolio_return_with_panic_state).skew()\n",
    "\n",
    "print(f'Skewness for the WML strategy: {skewness_WML}')\n",
    "print(f'Skewness for the WML strategy with panic state: {skewness_with_panic_state}')"
   ]
  },
  {
   "cell_type": "markdown",
   "metadata": {},
   "source": [
    "# Choosing the delta\n",
    "\n",
    "Originally, the delta is set to 0.8. But we can also try to optimize the delta to get a better performance."
   ]
  },
  {
   "cell_type": "code",
   "execution_count": 21,
   "metadata": {},
   "outputs": [
    {
     "name": "stdout",
     "output_type": "stream",
     "text": [
      "delta: 0.1, Sharpe ratio for the WML strategy with panic state: 0.32819309846190264\n",
      "delta: 0.2, Sharpe ratio for the WML strategy with panic state: 0.3368621236380402\n",
      "delta: 0.3, Sharpe ratio for the WML strategy with panic state: 0.3451101389076615\n",
      "delta: 0.4, Sharpe ratio for the WML strategy with panic state: 0.3251471954191568\n",
      "delta: 0.5, Sharpe ratio for the WML strategy with panic state: 0.25028242026743475\n",
      "delta: 0.6, Sharpe ratio for the WML strategy with panic state: 0.1807001367120729\n",
      "delta: 0.7, Sharpe ratio for the WML strategy with panic state: 0.17433323396071454\n",
      "delta: 0.8, Sharpe ratio for the WML strategy with panic state: 0.13233637558329608\n",
      "delta: 0.9, Sharpe ratio for the WML strategy with panic state: 0.12414211587134115\n",
      "delta: 1.0, Sharpe ratio for the WML strategy with panic state: 0.19561942670669724\n",
      "delta: 1.1, Sharpe ratio for the WML strategy with panic state: 0.19194118895286158\n",
      "delta: 1.2, Sharpe ratio for the WML strategy with panic state: 0.19194118895286158\n",
      "delta: 1.3, Sharpe ratio for the WML strategy with panic state: 0.19194118895286158\n",
      "delta: 1.4, Sharpe ratio for the WML strategy with panic state: 0.19194118895286158\n",
      "delta: 1.5, Sharpe ratio for the WML strategy with panic state: 0.14762386673516095\n",
      "delta: 1.6, Sharpe ratio for the WML strategy with panic state: 0.14762386673516095\n",
      "delta: 1.7, Sharpe ratio for the WML strategy with panic state: 0.14762386673516095\n",
      "delta: 1.8, Sharpe ratio for the WML strategy with panic state: 0.12476756805784439\n",
      "delta: 1.9, Sharpe ratio for the WML strategy with panic state: 0.12476756805784439\n"
     ]
    }
   ],
   "source": [
    "# Try different values of delta\n",
    "delta_holder = []\n",
    "\n",
    "for k in range(1, 20):\n",
    "    delta = k/10\n",
    "    portfolio_return_with_panic_state = []\n",
    "    for j in range(96):\n",
    "        rank = []\n",
    "        monthly_return = []\n",
    "        Panic_Indicator = 0\n",
    "        for i in range(len(monthly_data)):\n",
    "            if len(monthly_data[i]) < (96-j):\n",
    "                continue\n",
    "            rank.append(monthly_data[i].iloc[-(96-j)]['signal_simple'])\n",
    "            monthly_return.append(monthly_data[i].iloc[-(96-j)]['monthly_log_return'])\n",
    "            Panic_Indicator = market_data.iloc[-(97-j)]['Short_run_market_return'] < market_data.iloc[-(97-j)]['Long_run_market_return'] - delta * market_data.iloc[-(97-j)]['long_run_std']\n",
    "\n",
    "        # Make a dataframe to hold the rank and monthly return\n",
    "        df = pd.DataFrame({'rank': rank, 'monthly_return': monthly_return})\n",
    "\n",
    "        # Sort the dataframe based on the rank\n",
    "        df.sort_values(by='rank', inplace=True)\n",
    "\n",
    "        # Calculate the average return for the top 50 and bottom 50\n",
    "        top_50 = df.iloc[:50]['monthly_return'].mean()\n",
    "        bottom_50 = df.iloc[-50:]['monthly_return'].mean()\n",
    "\n",
    "        portfolio_return_with_panic_state.append((top_50 - bottom_50) * (1 - Panic_Indicator)+ Panic_Indicator * (top_50 + bottom_50)/2)\n",
    "\n",
    "    cumulative_return_with_panic_state = np.sum(np.array(portfolio_return_with_panic_state))\n",
    "    annualized_return_with_panic_state = (1 + cumulative_return_with_panic_state)**(12/96) - 1\n",
    "    annualized_volatility_with_panic_state = np.std(portfolio_return_with_panic_state) * np.sqrt(12)\n",
    "    sharpe_ratio_with_panic_state = annualized_return_with_panic_state / annualized_volatility_with_panic_state\n",
    "    delta_holder.append((delta, sharpe_ratio_with_panic_state))\n",
    "\n",
    "    print(f'delta: {delta}, Sharpe ratio for the WML strategy with panic state: {sharpe_ratio_with_panic_state}')"
   ]
  },
  {
   "cell_type": "markdown",
   "metadata": {},
   "source": [
    "# Some final thoughts\n",
    "\n",
    "The strategy is very simple yet effective. It is a good strategy to try out if you are interested in momentum strategies. With a good delta, it can improve the traditional momentum strategy significantly and avoid some extreme losses.\n",
    "\n",
    "Although the best sharpe ratio achieved is 0.34 only, I attribute this to the fact that the strategy is very simple and the universe is limited to the S&P 500 index. It is possible to achieve a higher sharpe ratio with a larger universe and more complex strategies.\n",
    "\n",
    "Currently, I do the rebalancing monthly. But it is possible to do the rebalancing with longer periods and see if it can improve the performance."
   ]
  }
 ],
 "metadata": {
  "kernelspec": {
   "display_name": "Python 3",
   "language": "python",
   "name": "python3"
  },
  "language_info": {
   "codemirror_mode": {
    "name": "ipython",
    "version": 3
   },
   "file_extension": ".py",
   "mimetype": "text/x-python",
   "name": "python",
   "nbconvert_exporter": "python",
   "pygments_lexer": "ipython3",
   "version": "3.11.2"
  }
 },
 "nbformat": 4,
 "nbformat_minor": 2
}
