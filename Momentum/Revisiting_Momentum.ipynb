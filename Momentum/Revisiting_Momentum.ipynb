{
 "cells": [
  {
   "cell_type": "markdown",
   "metadata": {},
   "source": [
    "# Strategy details\n",
    "\n",
    "This strategy is based on the following paper:\n",
    "Revisiting (Revitalizing) Momentum\n",
    "\n",
    "Link to reference: https://aaltodoc.aalto.fi/server/api/core/bitstreams/c045da82-b1c9-4216-8b72-1fce000fe02e/content\n",
    "\n",
    "The idea for this paper is that it tries to improve the traditional momentum strategy by adding a panic state indicator when the market return demonstrates a divergent pattern in the short run and long run.\n",
    "\n",
    "It will then enter a long position for both stocks that performed well in the past and didn’t perform well.\n",
    "\n",
    "When the panic state indicator is not equal to 1, it will go back to the traditional momentum strategy, that is, enter a long position if the stock performed well in the past and enter a short position if the stock didn’t perform well in the past.\n"
   ]
  },
  {
   "cell_type": "code",
   "execution_count": 169,
   "metadata": {},
   "outputs": [],
   "source": [
    "# Collect the list of the S&P 500 companies from Wikipedia and save it to a file\n",
    "import os\n",
    "import requests\n",
    "import pandas as pd\n",
    "\n",
    "# Get the list of S&P 500 companies from Wikipedia\n",
    "url = 'https://en.wikipedia.org/wiki/List_of_S%26P_500_companies'\n",
    "response = requests.get(url)\n",
    "html = response.content\n",
    "df = pd.read_html(html, header=0)[0]\n",
    "\n",
    "tickers = df['Symbol'].tolist()\n",
    "tickers.append('^GSPC')"
   ]
  },
  {
   "cell_type": "code",
   "execution_count": 170,
   "metadata": {},
   "outputs": [],
   "source": [
    "# Load the data from yahoo finance\n",
    "import os\n",
    "import yfinance as yf\n",
    "\n",
    "def load_data(symbol):\n",
    "\n",
    "    direc = 'data/'\n",
    "    os.makedirs(direc, exist_ok=True)\n",
    "\n",
    "    file_name = os.path.join(direc, symbol + '.csv')\n",
    "\n",
    "    if not os.path.exists(file_name):\n",
    "\n",
    "        ticker = yf.Ticker(symbol)\n",
    "        df = ticker.history(start='2005-01-01', end='2023-12-31')\n",
    "\n",
    "        df.to_csv(file_name)\n",
    "\n",
    "    df = pd.read_csv(file_name, index_col=0)\n",
    "    df.index = pd.to_datetime(df.index, utc=True).tz_convert('US/Eastern')\n",
    "    df['date'] = df.index\n",
    "\n",
    "    if len(df) == 0:\n",
    "        os.remove(file_name)\n",
    "        return None\n",
    "\n",
    "    return df\n"
   ]
  },
  {
   "cell_type": "code",
   "execution_count": 171,
   "metadata": {},
   "outputs": [
    {
     "name": "stderr",
     "output_type": "stream",
     "text": [
      "BRK.B: No timezone found, symbol may be delisted\n",
      "BF.B: No price data found, symbol may be delisted (1d 2005-01-01 -> 2023-12-31)\n",
      "GEV: Data doesn't exist for startDate = 1104555600, endDate = 1703998800\n",
      "SOLV: Data doesn't exist for startDate = 1104555600, endDate = 1703998800\n"
     ]
    },
    {
     "name": "stdout",
     "output_type": "stream",
     "text": [
      "Loaded data for 500 companies\n"
     ]
    }
   ],
   "source": [
    "holder = []\n",
    "ticker_with_data = []\n",
    "for symbol in tickers:\n",
    "    df = load_data(symbol)\n",
    "    if df is not None:\n",
    "        holder.append(df)\n",
    "        ticker_with_data.append(symbol)\n",
    "\n",
    "tickers = ticker_with_data[:]\n",
    "\n",
    "print (f'Loaded data for {len(tickers)} companies')\n"
   ]
  },
  {
   "cell_type": "code",
   "execution_count": 172,
   "metadata": {},
   "outputs": [],
   "source": [
    "# We only need the monthly data, so we will resample the data,\n",
    "# Open should be the first day of the month, Close should be the last day of the month\n",
    "# High should be the maximum value of the month, Low should be the minimum value of the month\n",
    "monthly_data = []\n",
    "for data in holder:\n",
    "    df = data.resample('M').agg({\n",
    "        'date': 'first',\n",
    "        'Open': 'first',\n",
    "        'High': 'max',\n",
    "        'Low': 'min',\n",
    "        'Close': 'last',\n",
    "        'Volume': 'sum'\n",
    "    })\n",
    "\n",
    "    df.set_index('date', inplace=True)\n",
    "\n",
    "    monthly_data.append(df)\n",
    "\n",
    "del holder"
   ]
  },
  {
   "cell_type": "markdown",
   "metadata": {},
   "source": [
    "### Adding the factor and monthly return\n",
    "Assuming the we will open at the monthly open price and will close at the monthly close"
   ]
  },
  {
   "cell_type": "code",
   "execution_count": 173,
   "metadata": {},
   "outputs": [],
   "source": [
    "import numpy as np\n",
    "from multiprocessing import Pool\n",
    "import matplotlib.pyplot as plt\n",
    "\n",
    "def process_data(df):\n",
    "    \n",
    "    df['monthly_log_return'] = df['Close'].pct_change().shift()\n",
    "    df['this_month_return'] = df['Close'] / df['Open'] - 1\n",
    "\n",
    "    df['12_month_cumulative_return'] = df['monthly_log_return'].rolling(11).sum().shift()\n",
    "    df['signal_simple'] = df['12_month_cumulative_return']\n",
    "\n",
    "    df['11_month_rolling_std'] = df['monthly_log_return'].rolling(11).std().shift()\n",
    "\n",
    "    return df\n"
   ]
  },
  {
   "cell_type": "code",
   "execution_count": 174,
   "metadata": {},
   "outputs": [],
   "source": [
    "with Pool(os.cpu_count()-4) as p:\n",
    "    monthly_data = p.map(process_data, monthly_data)\n"
   ]
  },
  {
   "cell_type": "markdown",
   "metadata": {},
   "source": [
    "# Create the panic state indicator\n",
    "\n",
    "The panic state indicator is calculated as follows:\n",
    "\n",
    "1. Calculate the 3-month log return for the market as short-run market return\n",
    "2. Calculate the 120-month log return for the market as long-run market return\n",
    "3. Calculate the panic state indicator with the short-run market return and the long-run market return\n",
    "4. If the panic state indicator is not equal to 1, we will use the traditional momentum strategy. Otherwise, we will use the panic state strategy."
   ]
  },
  {
   "cell_type": "code",
   "execution_count": 175,
   "metadata": {},
   "outputs": [],
   "source": [
    "# Create a dataframe to hold monthly_data[-1]\n",
    "market_data = monthly_data[-1].copy()\n",
    "\n",
    "market_data['Short_run_market_return'] = market_data['monthly_log_return'].rolling(3).mean()\n",
    "market_data['Long_run_market_return'] = market_data['monthly_log_return'].rolling(120).mean()\n",
    "market_data['Long_run_std'] = market_data['monthly_log_return'].rolling(120).std()\n",
    "\n",
    "delta = 0.8\n",
    "\n",
    "# market_data.head()\n"
   ]
  },
  {
   "cell_type": "code",
   "execution_count": 176,
   "metadata": {},
   "outputs": [],
   "source": [
    "# Finding the panic state indicator\n",
    "market_data['panic_state_indicator'] = (market_data['Short_run_market_return'] < market_data['Long_run_market_return'] - delta * market_data['Long_run_std']).astype(int)"
   ]
  },
  {
   "cell_type": "code",
   "execution_count": 177,
   "metadata": {},
   "outputs": [],
   "source": [
    "# Remove monthly_data[-1] from the list because that's the market data\n",
    "monthly_data = monthly_data[:-1]\n",
    "\n",
    "# Merge the market_data['panic_state_indicator'] with all the companies\n",
    "for i in range(len(monthly_data)):\n",
    "    monthly_data[i] = pd.merge(monthly_data[i], market_data['panic_state_indicator'], left_index=True, right_index=True)"
   ]
  },
  {
   "cell_type": "markdown",
   "metadata": {},
   "source": [
    "# Backtesting\n",
    "\n",
    "The backtesting is done from 2016-01-01 to 2023-12-31. The backtesting is done on the S&P 500 index."
   ]
  },
  {
   "cell_type": "code",
   "execution_count": 183,
   "metadata": {},
   "outputs": [],
   "source": [
    "portfolio_return_WML_holder = []\n",
    "portfolio_return_with_panic_state_holder = []\n",
    "\n",
    "monthly_return_holder = []\n",
    "panic_state_indicator_holder = []\n",
    "rank_holder = []\n",
    "this_month_return_holder = []\n",
    "\n",
    "for i, data in enumerate(monthly_data):\n",
    "\n",
    "    rank = data['signal_simple'].copy()\n",
    "    monthly_return = data['monthly_log_return'].copy()\n",
    "    Panic_Indicator = data['panic_state_indicator'].copy()\n",
    "    this_month_return = data['this_month_return'].copy()\n",
    "\n",
    "    rank.name = tickers[i]\n",
    "    monthly_return.name = tickers[i]\n",
    "    Panic_Indicator.name = tickers[i]\n",
    "    this_month_return.name = tickers[i]\n",
    "\n",
    "    monthly_return_holder.append(monthly_return)\n",
    "    panic_state_indicator_holder.append(Panic_Indicator)\n",
    "    rank_holder.append(rank)\n",
    "    this_month_return_holder.append(this_month_return)\n",
    "\n",
    "monthly_return_df = pd.DataFrame(monthly_return_holder).T\n",
    "panic_state_indicator_df = pd.DataFrame(panic_state_indicator_holder).T\n",
    "rank_df = pd.DataFrame(rank_holder).T\n",
    "this_month_return_df = pd.DataFrame(this_month_return_holder).T\n",
    "\n",
    "N = 20\n",
    "top_N_mask = rank_df.rank(axis=1, method='dense', ascending=False) <= N\n",
    "bottom_N_mask = rank_df.rank(axis=1, method='dense', ascending=True) <= N\n",
    "\n",
    "# Find the returns using the simple strategy\n",
    "long_df = this_month_return_df.mask(~top_N_mask, np.nan)\n",
    "short_df = this_month_return_df.mask(~bottom_N_mask, np.nan) * -1\n",
    "portfolio_return_WML = pd.DataFrame(index=monthly_return_df.index, columns=monthly_return_df.columns)\n",
    "portfolio_return_WML.iloc[:, :] = np.nan\n",
    "\n",
    "portfolio_return_WML[top_N_mask] = long_df[top_N_mask]\n",
    "portfolio_return_WML[bottom_N_mask] = short_df[bottom_N_mask]\n",
    "\n",
    "# Find the returns considering the panic state\n",
    "portfolio_return_with_multiplied_by_1_panic_indicator = this_month_return_df * (1-panic_state_indicator_df)\n",
    "portfolio_return_with_multiplied_by_panic_indicator = this_month_return_df * panic_state_indicator_df\n",
    "\n",
    "portfolio_return_with_panic_state = pd.DataFrame(index=monthly_return_df.index, columns=monthly_return_df.columns)\n",
    "portfolio_return_with_panic_state.iloc[:, :] = np.nan\n",
    "\n",
    "portfolio_return_with_panic_state[top_N_mask] = portfolio_return_with_multiplied_by_1_panic_indicator[top_N_mask]\n",
    "portfolio_return_with_panic_state[bottom_N_mask] = portfolio_return_with_multiplied_by_1_panic_indicator[bottom_N_mask] * -1\n",
    "\n",
    "portfolio_return_with_panic_state[top_N_mask] += portfolio_return_with_multiplied_by_panic_indicator[top_N_mask]\n",
    "portfolio_return_with_panic_state[bottom_N_mask] += portfolio_return_with_multiplied_by_panic_indicator[bottom_N_mask]\n",
    "\n",
    "portfolio_return_with_panic_state = portfolio_return_with_panic_state.mean(axis=1, skipna=True).dropna()\n",
    "\n",
    "portfolio_return_WML = portfolio_return_WML[portfolio_return_WML.index >= portfolio_return_with_panic_state.index[0]]\n",
    "portfolio_return_WML = portfolio_return_WML.mean(axis=1, skipna=True)\n",
    "\n",
    "# Keep the data after 2010\n",
    "portfolio_return_WML = portfolio_return_WML[portfolio_return_WML.index >= '2010-01-01']\n",
    "portfolio_return_with_panic_state = portfolio_return_with_panic_state[portfolio_return_with_panic_state.index >= '2010-01-01']"
   ]
  },
  {
   "cell_type": "code",
   "execution_count": 184,
   "metadata": {},
   "outputs": [
    {
     "data": {
      "image/png": "[encoded data removed]",
      "text/plain": [
       "<Figure size 640x480 with 1 Axes>"
      ]
     },
     "metadata": {},
     "output_type": "display_data"
    }
   ],
   "source": [
    "# Plot the cumulative return of the portfolio_return_WML and portfolio_return_with_panic_state, The x axis is the number of months starting from 2016-01, the y axis is the cumulative return\n",
    "plt.plot(portfolio_return_WML.cumsum(), label='WML')\n",
    "plt.plot(portfolio_return_with_panic_state.cumsum(), label='WML with Panic State')\n",
    "plt.legend()\n",
    "plt.show()"
   ]
  },
  {
   "cell_type": "code",
   "execution_count": 185,
   "metadata": {},
   "outputs": [
    {
     "name": "stdout",
     "output_type": "stream",
     "text": [
      "168\n",
      "168\n"
     ]
    }
   ],
   "source": [
    "print(len(portfolio_return_WML))\n",
    "print(len(portfolio_return_with_panic_state))"
   ]
  },
  {
   "cell_type": "code",
   "execution_count": 186,
   "metadata": {},
   "outputs": [
    {
     "name": "stdout",
     "output_type": "stream",
     "text": [
      "Cumulative return for the WML strategy: 0.48622563333573093\n",
      "Cumulative return for the WML strategy with panic state: 1.3610278257339226\n"
     ]
    }
   ],
   "source": [
    "# Calculate the cumulative return for the portfolio_return_WML and portfolio_return_with_panic_state\n",
    "cumulative_return_WML = np.sum(np.array(portfolio_return_WML))\n",
    "cumulative_return_with_panic_state = np.sum(np.array(portfolio_return_with_panic_state))\n",
    "\n",
    "print(f'Cumulative return for the WML strategy: {cumulative_return_WML}')\n",
    "print(f'Cumulative return for the WML strategy with panic state: {cumulative_return_with_panic_state}')"
   ]
  },
  {
   "cell_type": "markdown",
   "metadata": {},
   "source": [
    "# Conclusion\n",
    "\n",
    "The WML strategy with panic state has a higher Sharpe ratio compared to the WML strategy. But it also has a higher beta and skewness smaller than 0."
   ]
  },
  {
   "cell_type": "code",
   "execution_count": 188,
   "metadata": {},
   "outputs": [
    {
     "name": "stdout",
     "output_type": "stream",
     "text": [
      "Annualized return for the WML strategy: 0.03473040238112364\n",
      "Annualized return for the WML strategy with panic state: 0.09721627326670874\n",
      "Annualized volatility for the WML strategy: 0.10660750372891044\n",
      "Annualized volatility for the WML strategy with panic state: 0.1485937001459274\n",
      "Sharpe ratio for the WML strategy: 0.3257782160385137\n",
      "Sharpe ratio for the WML strategy with panic state: 0.6542422267649091\n",
      "\n"
     ]
    }
   ],
   "source": [
    "# Calculate the annualized return for the portfolio_return_WML and portfolio_return_with_panic_state\n",
    "annualized_return_WML = portfolio_return_WML.mean() * 12\n",
    "annualized_return_with_panic_state = portfolio_return_with_panic_state.mean() * 12\n",
    "\n",
    "print(f'Annualized return for the WML strategy: {annualized_return_WML}')\n",
    "print(f'Annualized return for the WML strategy with panic state: {annualized_return_with_panic_state}')\n",
    "\n",
    "# Calculate the annualized volatility for the portfolio_return_WML and portfolio_return_with_panic_state\n",
    "annualized_volatility_WML = np.std(portfolio_return_WML) * np.sqrt(12)\n",
    "annualized_volatility_with_panic_state = np.std(portfolio_return_with_panic_state) * np.sqrt(12)\n",
    "\n",
    "print(f'Annualized volatility for the WML strategy: {annualized_volatility_WML}')\n",
    "print(f'Annualized volatility for the WML strategy with panic state: {annualized_volatility_with_panic_state}')\n",
    "\n",
    "# Calculate the Sharpe ratio for the portfolio_return_WML and portfolio_return_with_panic_state\n",
    "sharpe_ratio_WML = annualized_return_WML / annualized_volatility_WML\n",
    "sharpe_ratio_with_panic_state = annualized_return_with_panic_state / annualized_volatility_with_panic_state\n",
    "\n",
    "print(f'Sharpe ratio for the WML strategy: {sharpe_ratio_WML}')\n",
    "print(f'Sharpe ratio for the WML strategy with panic state: {sharpe_ratio_with_panic_state}\\n')"
   ]
  },
  {
   "cell_type": "markdown",
   "metadata": {},
   "source": [
    "# Choosing the delta\n",
    "\n",
    "Originally, the delta is set to 0.8. But we can also try to optimize the delta to get a better performance."
   ]
  },
  {
   "cell_type": "code",
   "execution_count": null,
   "metadata": {},
   "outputs": [
    {
     "name": "stdout",
     "output_type": "stream",
     "text": [
      "delta: 0.1, Sharpe ratio for the WML strategy with panic state: 0.328193030417717\n",
      "delta: 0.2, Sharpe ratio for the WML strategy with panic state: 0.33686204156513677\n",
      "delta: 0.3, Sharpe ratio for the WML strategy with panic state: 0.34511002981705907\n",
      "delta: 0.4, Sharpe ratio for the WML strategy with panic state: 0.325147090885475\n",
      "delta: 0.5, Sharpe ratio for the WML strategy with panic state: 0.25028231493966246\n",
      "delta: 0.6, Sharpe ratio for the WML strategy with panic state: 0.18070004685518448\n",
      "delta: 0.7, Sharpe ratio for the WML strategy with panic state: 0.17433316087014222\n",
      "delta: 0.8, Sharpe ratio for the WML strategy with panic state: 0.1323362913854929\n",
      "delta: 0.9, Sharpe ratio for the WML strategy with panic state: 0.12414203273771279\n",
      "delta: 1.0, Sharpe ratio for the WML strategy with panic state: 0.19561933229197717\n",
      "delta: 1.1, Sharpe ratio for the WML strategy with panic state: 0.1919410880221053\n",
      "delta: 1.2, Sharpe ratio for the WML strategy with panic state: 0.1919410880221053\n",
      "delta: 1.3, Sharpe ratio for the WML strategy with panic state: 0.1919410880221053\n",
      "delta: 1.4, Sharpe ratio for the WML strategy with panic state: 0.1919410880221053\n",
      "delta: 1.5, Sharpe ratio for the WML strategy with panic state: 0.14762374356661384\n"
     ]
    },
    {
     "ename": "KeyboardInterrupt",
     "evalue": "",
     "output_type": "error",
     "traceback": [
      "\u001b[0;31m---------------------------------------------------------------------------\u001b[0m",
      "\u001b[0;31mKeyboardInterrupt\u001b[0m                         Traceback (most recent call last)",
      "Cell \u001b[0;32mIn[17], line 16\u001b[0m\n\u001b[1;32m     14\u001b[0m     rank\u001b[38;5;241m.\u001b[39mappend(monthly_data[i]\u001b[38;5;241m.\u001b[39miloc[\u001b[38;5;241m-\u001b[39m(\u001b[38;5;241m96\u001b[39m\u001b[38;5;241m-\u001b[39mj)][\u001b[38;5;124m'\u001b[39m\u001b[38;5;124msignal_simple\u001b[39m\u001b[38;5;124m'\u001b[39m])\n\u001b[1;32m     15\u001b[0m     monthly_return\u001b[38;5;241m.\u001b[39mappend(monthly_data[i]\u001b[38;5;241m.\u001b[39miloc[\u001b[38;5;241m-\u001b[39m(\u001b[38;5;241m96\u001b[39m\u001b[38;5;241m-\u001b[39mj)][\u001b[38;5;124m'\u001b[39m\u001b[38;5;124mmonthly_log_return\u001b[39m\u001b[38;5;124m'\u001b[39m])\n\u001b[0;32m---> 16\u001b[0m     Panic_Indicator \u001b[38;5;241m=\u001b[39m \u001b[43mmarket_data\u001b[49m\u001b[38;5;241;43m.\u001b[39;49m\u001b[43miloc\u001b[49m\u001b[43m[\u001b[49m\u001b[38;5;241;43m-\u001b[39;49m\u001b[43m(\u001b[49m\u001b[38;5;241;43m97\u001b[39;49m\u001b[38;5;241;43m-\u001b[39;49m\u001b[43mj\u001b[49m\u001b[43m)\u001b[49m\u001b[43m]\u001b[49m\u001b[43m[\u001b[49m\u001b[38;5;124;43m'\u001b[39;49m\u001b[38;5;124;43mShort_run_market_return\u001b[39;49m\u001b[38;5;124;43m'\u001b[39;49m\u001b[43m]\u001b[49m \u001b[38;5;241m<\u001b[39m market_data\u001b[38;5;241m.\u001b[39miloc[\u001b[38;5;241m-\u001b[39m(\u001b[38;5;241m97\u001b[39m\u001b[38;5;241m-\u001b[39mj)][\u001b[38;5;124m'\u001b[39m\u001b[38;5;124mLong_run_market_return\u001b[39m\u001b[38;5;124m'\u001b[39m] \u001b[38;5;241m-\u001b[39m delta \u001b[38;5;241m*\u001b[39m market_data\u001b[38;5;241m.\u001b[39miloc[\u001b[38;5;241m-\u001b[39m(\u001b[38;5;241m97\u001b[39m\u001b[38;5;241m-\u001b[39mj)][\u001b[38;5;124m'\u001b[39m\u001b[38;5;124mlong_run_std\u001b[39m\u001b[38;5;124m'\u001b[39m]\n\u001b[1;32m     18\u001b[0m \u001b[38;5;66;03m# Make a dataframe to hold the rank and monthly return\u001b[39;00m\n\u001b[1;32m     19\u001b[0m df \u001b[38;5;241m=\u001b[39m pd\u001b[38;5;241m.\u001b[39mDataFrame({\u001b[38;5;124m'\u001b[39m\u001b[38;5;124mrank\u001b[39m\u001b[38;5;124m'\u001b[39m: rank, \u001b[38;5;124m'\u001b[39m\u001b[38;5;124mmonthly_return\u001b[39m\u001b[38;5;124m'\u001b[39m: monthly_return})\n",
      "File \u001b[0;32m~/.local/lib/python3.10/site-packages/pandas/core/series.py:1040\u001b[0m, in \u001b[0;36mSeries.__getitem__\u001b[0;34m(self, key)\u001b[0m\n\u001b[1;32m   1037\u001b[0m     \u001b[38;5;28;01mreturn\u001b[39;00m \u001b[38;5;28mself\u001b[39m\u001b[38;5;241m.\u001b[39m_values[key]\n\u001b[1;32m   1039\u001b[0m \u001b[38;5;28;01melif\u001b[39;00m key_is_scalar:\n\u001b[0;32m-> 1040\u001b[0m     \u001b[38;5;28;01mreturn\u001b[39;00m \u001b[38;5;28;43mself\u001b[39;49m\u001b[38;5;241;43m.\u001b[39;49m\u001b[43m_get_value\u001b[49m\u001b[43m(\u001b[49m\u001b[43mkey\u001b[49m\u001b[43m)\u001b[49m\n\u001b[1;32m   1042\u001b[0m \u001b[38;5;66;03m# Convert generator to list before going through hashable part\u001b[39;00m\n\u001b[1;32m   1043\u001b[0m \u001b[38;5;66;03m# (We will iterate through the generator there to check for slices)\u001b[39;00m\n\u001b[1;32m   1044\u001b[0m \u001b[38;5;28;01mif\u001b[39;00m is_iterator(key):\n",
      "File \u001b[0;32m~/.local/lib/python3.10/site-packages/pandas/core/series.py:1159\u001b[0m, in \u001b[0;36mSeries._get_value\u001b[0;34m(self, label, takeable)\u001b[0m\n\u001b[1;32m   1156\u001b[0m loc \u001b[38;5;241m=\u001b[39m \u001b[38;5;28mself\u001b[39m\u001b[38;5;241m.\u001b[39mindex\u001b[38;5;241m.\u001b[39mget_loc(label)\n\u001b[1;32m   1158\u001b[0m \u001b[38;5;28;01mif\u001b[39;00m is_integer(loc):\n\u001b[0;32m-> 1159\u001b[0m     \u001b[38;5;28;01mreturn\u001b[39;00m \u001b[38;5;28;43mself\u001b[39;49m\u001b[38;5;241;43m.\u001b[39;49m\u001b[43m_values\u001b[49m[loc]\n\u001b[1;32m   1161\u001b[0m \u001b[38;5;28;01mif\u001b[39;00m \u001b[38;5;28misinstance\u001b[39m(\u001b[38;5;28mself\u001b[39m\u001b[38;5;241m.\u001b[39mindex, MultiIndex):\n\u001b[1;32m   1162\u001b[0m     mi \u001b[38;5;241m=\u001b[39m \u001b[38;5;28mself\u001b[39m\u001b[38;5;241m.\u001b[39mindex\n",
      "File \u001b[0;32m~/.local/lib/python3.10/site-packages/pandas/core/series.py:782\u001b[0m, in \u001b[0;36mSeries._values\u001b[0;34m(self)\u001b[0m\n\u001b[1;32m    750\u001b[0m \u001b[38;5;129m@property\u001b[39m\n\u001b[1;32m    751\u001b[0m \u001b[38;5;28;01mdef\u001b[39;00m \u001b[38;5;21m_values\u001b[39m(\u001b[38;5;28mself\u001b[39m):\n\u001b[1;32m    752\u001b[0m \u001b[38;5;250m    \u001b[39m\u001b[38;5;124;03m\"\"\"\u001b[39;00m\n\u001b[1;32m    753\u001b[0m \u001b[38;5;124;03m    Return the internal repr of this data (defined by Block.interval_values).\u001b[39;00m\n\u001b[1;32m    754\u001b[0m \u001b[38;5;124;03m    This are the values as stored in the Block (ndarray or ExtensionArray\u001b[39;00m\n\u001b[0;32m   (...)\u001b[0m\n\u001b[1;32m    780\u001b[0m \n\u001b[1;32m    781\u001b[0m \u001b[38;5;124;03m    \"\"\"\u001b[39;00m\n\u001b[0;32m--> 782\u001b[0m     \u001b[38;5;28;01mreturn\u001b[39;00m \u001b[38;5;28;43mself\u001b[39;49m\u001b[38;5;241;43m.\u001b[39;49m\u001b[43m_mgr\u001b[49m\u001b[38;5;241;43m.\u001b[39;49m\u001b[43minternal_values\u001b[49m\u001b[43m(\u001b[49m\u001b[43m)\u001b[49m\n",
      "File \u001b[0;32m~/.local/lib/python3.10/site-packages/pandas/core/internals/managers.py:1962\u001b[0m, in \u001b[0;36mSingleBlockManager.internal_values\u001b[0;34m(self)\u001b[0m\n\u001b[1;32m   1960\u001b[0m \u001b[38;5;28;01mdef\u001b[39;00m \u001b[38;5;21minternal_values\u001b[39m(\u001b[38;5;28mself\u001b[39m):\n\u001b[1;32m   1961\u001b[0m \u001b[38;5;250m    \u001b[39m\u001b[38;5;124;03m\"\"\"The array that Series._values returns\"\"\"\u001b[39;00m\n\u001b[0;32m-> 1962\u001b[0m     \u001b[38;5;28;01mreturn\u001b[39;00m \u001b[38;5;28;43mself\u001b[39;49m\u001b[38;5;241;43m.\u001b[39;49m\u001b[43m_block\u001b[49m\u001b[38;5;241m.\u001b[39mvalues\n",
      "File \u001b[0;32mproperties.pyx:36\u001b[0m, in \u001b[0;36mpandas._libs.properties.CachedProperty.__get__\u001b[0;34m()\u001b[0m\n",
      "File \u001b[0;32m~/.local/lib/python3.10/site-packages/pandas/core/internals/managers.py:1902\u001b[0m, in \u001b[0;36mSingleBlockManager._block\u001b[0;34m(self)\u001b[0m\n\u001b[1;32m   1899\u001b[0m \u001b[38;5;28;01mdef\u001b[39;00m \u001b[38;5;21m_post_setstate\u001b[39m(\u001b[38;5;28mself\u001b[39m) \u001b[38;5;241m-\u001b[39m\u001b[38;5;241m>\u001b[39m \u001b[38;5;28;01mNone\u001b[39;00m:\n\u001b[1;32m   1900\u001b[0m     \u001b[38;5;28;01mpass\u001b[39;00m\n\u001b[0;32m-> 1902\u001b[0m \u001b[38;5;129m@cache_readonly\u001b[39m\n\u001b[1;32m   1903\u001b[0m \u001b[38;5;28;01mdef\u001b[39;00m \u001b[38;5;21m_block\u001b[39m(\u001b[38;5;28mself\u001b[39m) \u001b[38;5;241m-\u001b[39m\u001b[38;5;241m>\u001b[39m Block:\n\u001b[1;32m   1904\u001b[0m     \u001b[38;5;28;01mreturn\u001b[39;00m \u001b[38;5;28mself\u001b[39m\u001b[38;5;241m.\u001b[39mblocks[\u001b[38;5;241m0\u001b[39m]\n\u001b[1;32m   1906\u001b[0m \u001b[38;5;129m@property\u001b[39m\n\u001b[1;32m   1907\u001b[0m \u001b[38;5;28;01mdef\u001b[39;00m \u001b[38;5;21m_blknos\u001b[39m(\u001b[38;5;28mself\u001b[39m):\n",
      "\u001b[0;31mKeyboardInterrupt\u001b[0m: "
     ]
    }
   ],
   "source": [
    "# Try different values of delta\n",
    "delta_holder = []\n",
    "\n",
    "for k in range(1, 20):\n",
    "    delta = k/10\n",
    "    portfolio_return_with_panic_state = []\n",
    "    for j in range(96):\n",
    "        rank = []\n",
    "        monthly_return = []\n",
    "        Panic_Indicator = 0\n",
    "        for i in range(len(monthly_data)):\n",
    "            if len(monthly_data[i]) < (96-j):\n",
    "                continue\n",
    "            rank.append(monthly_data[i].iloc[-(96-j)]['signal_simple'])\n",
    "            monthly_return.append(monthly_data[i].iloc[-(96-j)]['monthly_log_return'])\n",
    "            Panic_Indicator = market_data.iloc[-(97-j)]['Short_run_market_return'] < market_data.iloc[-(97-j)]['Long_run_market_return'] - delta * market_data.iloc[-(97-j)]['long_run_std']\n",
    "\n",
    "        # Make a dataframe to hold the rank and monthly return\n",
    "        df = pd.DataFrame({'rank': rank, 'monthly_return': monthly_return})\n",
    "\n",
    "        # Sort the dataframe based on the rank\n",
    "        df.sort_values(by='rank', inplace=True)\n",
    "\n",
    "        # Calculate the average return for the top 50 and bottom 50\n",
    "        top_50 = df.iloc[:50]['monthly_return'].mean()\n",
    "        bottom_50 = df.iloc[-50:]['monthly_return'].mean()\n",
    "\n",
    "        portfolio_return_with_panic_state.append((top_50 - bottom_50) * (1 - Panic_Indicator)+ Panic_Indicator * (top_50 + bottom_50)/2)\n",
    "\n",
    "    cumulative_return_with_panic_state = np.sum(np.array(portfolio_return_with_panic_state))\n",
    "    annualized_return_with_panic_state = (1 + cumulative_return_with_panic_state)**(12/96) - 1\n",
    "    annualized_volatility_with_panic_state = np.std(portfolio_return_with_panic_state) * np.sqrt(12)\n",
    "    sharpe_ratio_with_panic_state = annualized_return_with_panic_state / annualized_volatility_with_panic_state\n",
    "    delta_holder.append((delta, sharpe_ratio_with_panic_state))\n",
    "\n",
    "    print(f'delta: {delta}, Sharpe ratio for the WML strategy with panic state: {sharpe_ratio_with_panic_state}')"
   ]
  },
  {
   "cell_type": "markdown",
   "metadata": {},
   "source": [
    "# Some final thoughts\n",
    "\n",
    "The strategy is very simple yet effective. It is a good strategy to try out if you are interested in momentum strategies. With a good delta, it can improve the traditional momentum strategy significantly and avoid some extreme losses.\n",
    "\n",
    "Although the best sharpe ratio achieved is 0.34 only, I attribute this to the fact that the strategy is very simple and the universe is limited to the S&P 500 index. It is possible to achieve a higher sharpe ratio with a larger universe and more complex strategies.\n",
    "\n",
    "Currently, I do the rebalancing monthly. But it is possible to do the rebalancing with longer periods and see if it can improve the performance."
   ]
  }
 ],
 "metadata": {
  "kernelspec": {
   "display_name": "Python 3",
   "language": "python",
   "name": "python3"
  },
  "language_info": {
   "codemirror_mode": {
    "name": "ipython",
    "version": 3
   },
   "file_extension": ".py",
   "mimetype": "text/x-python",
   "name": "python",
   "nbconvert_exporter": "python",
   "pygments_lexer": "ipython3",
   "version": "3.10.12"
  }
 },
 "nbformat": 4,
 "nbformat_minor": 2
}
