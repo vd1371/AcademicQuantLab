{
 "cells": [
  {
   "cell_type": "markdown",
   "metadata": {},
   "source": [
    "# Strategy Details\n",
    "\n",
    "\n",
    "According to the essay \"Statistical arbitrage strategy based on VIX-to-market based signal\" published by Tuomas Lehtinen in 2022, the writer use the two days consecutive & positive co-movement between S&P500 and VIX index as singal, after that at day 2 we have the signal.\n",
    "\n",
    "From that we will short the S&P500 for 2 days and next 2 days long the market again. The essay consider excess return, Jensen Alpha, security market line etc. The essay find out such signal may generate better return and Sharpe ratio comparing with S&P500. \n",
    "\n",
    "Since here we want to replicate his ideas and findings for backtesting, we simplify his actions into this:\n",
    "1. We two days (t &t+1)  consecutive & positive co-movement between S&P500 and VIX index as singal. We record the signal at t+1 day\n",
    "2. Next day (t+2) we will short short S&P500 for two days \n",
    "3. Then at t+4 day we long S&P500 for two days\n",
    "\n",
    "We don't consider risk free risk and transcation costs.\n",
    "\n",
    "Our time frame is from 2000-01-02 to 2024-05-31\n",
    "\n",
    "| Date| S&P500 return| VIX return |Signal| action|\n",
    "|:---------|:--------:|---------:|---------:|---------:|\n",
    "| t  |+|+ | 0|   |\n",
    "| t+1  |+| + |   1 | |\n",
    "|  t+2  | | |   | short S&P500|\n",
    "|  t+3  ||  |   | short S&P500|\n",
    "|  t+4  || |  | long S&P500|\n",
    "|  t+5 || |  | long S&P500|\n",
    "\n",
    "Note that the essay considered abnormal return and signal based on a longer period of time for academic purpose, in here we simply find out signal based on the daily return of S&P500 and VIX, so in case of more than 2 days co-movement, signal will be recorded more than once, thus two or more trades will be conducted and partly overlapped. But in the essay the writer did remove the overlapping situation."
   ]
  },
  {
   "cell_type": "code",
   "execution_count": 19,
   "metadata": {},
   "outputs": [],
   "source": [
    "#load the data and combine into one dataframe for analysis\n",
    "import os\n",
    "import requests\n",
    "import pandas as pd\n",
    "import yfinance as yf\n",
    "import warnings\n",
    "warnings.filterwarnings(\"ignore\")\n",
    "import numpy as np\n",
    "import matplotlib.pyplot as plt\n",
    "\n",
    "def load_data(symbol):\n",
    "    \n",
    "    direc = 'data/'\n",
    "    os.makedirs(direc, exist_ok=True)\n",
    "    file_name = os.path.join(direc, symbol + '.csv')\n",
    "\n",
    "    if not os.path.exists(file_name):\n",
    "        ticker = yf.Ticker(symbol)\n",
    "        df = ticker.history(start='2000-01-02', end='2024-05-31')\n",
    "        df.to_csv(file_name)\n",
    "\n",
    "    df = pd.read_csv(file_name, index_col=0)\n",
    "    df.index = pd.to_datetime(df.index, utc=True).date\n",
    "\n",
    "    return df\n",
    "\n",
    "# I know that these two are not tradaable, but I want to use them as a proxy of\n",
    "# their futures.\n",
    "tickers=[\"^GSPC\",\"^VIX\"]\n",
    "holder = {}\n",
    "for symbol in tickers:\n",
    "    df = load_data(symbol)\n",
    "\n",
    "    df[\"same_day_return\"] = df[\"Close\"]/df[\"Open\"] -1\n",
    "    df[\"next_day_return\"] = df[\"same_day_return\"].shift(-1)\n",
    "    \n",
    "    df['return'] = df['Close'].pct_change()\n",
    "\n",
    "    df['return_sign'] = np.nan\n",
    "    df.loc[df['return'] > 0, 'return_sign'] = 1\n",
    "    df.loc[df['return'] < 0, 'return_sign'] = -1\n",
    "\n",
    "    df['rolling_sum'] = df['return_sign'].rolling(window=2).sum()\n",
    "\n",
    "    holder[symbol] = df\n"
   ]
  },
  {
   "cell_type": "markdown",
   "metadata": {},
   "source": [
    "Now we will try to backtest such signal:\n",
    "\n",
    "After the signal, we first short 2 days S&P500 and then long two days S&P500"
   ]
  },
  {
   "cell_type": "code",
   "execution_count": 20,
   "metadata": {},
   "outputs": [],
   "source": [
    "rolling_sum_holder = []\n",
    "next_day_return_holder = []\n",
    "\n",
    "for symbol in tickers:\n",
    "\n",
    "    rolling_sum_series = holder[symbol]['rolling_sum']\n",
    "    next_day_return_series = holder[symbol]['next_day_return']\n",
    "\n",
    "    rolling_sum_series.name = symbol\n",
    "    next_day_return_series.name = symbol\n",
    "\n",
    "    rolling_sum_holder.append(rolling_sum_series)\n",
    "    next_day_return_holder.append(next_day_return_series)\n",
    "\n",
    "rolling_sum_df = pd.concat(rolling_sum_holder, axis=1)\n",
    "next_day_return_df = pd.concat(next_day_return_holder, axis=1)\n",
    "\n",
    "mask_both_positive_2 = rolling_sum_df.sum(axis=1, skipna=True) == 4\n",
    "mask_both_negative_2 = rolling_sum_df.sum(axis=1, skipna=True) == -4\n",
    "\n",
    "returns_df = pd.DataFrame(columns=next_day_return_df.columns, index=next_day_return_df.index)\n",
    "returns_df.iloc[:, :] = np.nan\n",
    "\n",
    "returns_df.loc[mask_both_positive_2, '^VIX'] = next_day_return_df.loc[mask_both_positive_2, '^VIX']\n",
    "returns_df.loc[mask_both_positive_2, '^GPSC'] = -next_day_return_df.loc[mask_both_positive_2, '^GSPC']\n",
    "\n",
    "returns_df.loc[mask_both_negative_2, '^VIX'] = -next_day_return_df.loc[mask_both_negative_2, '^VIX']\n",
    "returns_df.loc[mask_both_negative_2, '^GPSC'] = next_day_return_df.loc[mask_both_negative_2, '^GSPC']\n",
    "\n",
    "portfolio_return = returns_df.sum(axis=1, skipna=True)\n",
    "\n",
    "sharp_ratio = portfolio_return.mean() / portfolio_return.std() * np.sqrt(252)\n",
    "\n",
    "# data[\"signal\"]=0\n",
    "# testing=pd.DataFrame()\n",
    "# acc_return=0\n",
    "# count=0\n",
    "# return_mean=[]\n",
    "# ret=0\n",
    "# for a in range(len(data)-1):\n",
    "#     if (data[\"same_day_return_^GSPC\"][a] >0) & (data[\"same_day_return_^GSPC\"][a] >0) & (data[\"same_day_return_^GSPC\"][a+1] >0) & (data[\"same_day_return_^GSPC\"][a+1] >0):\n",
    "#         data[\"signal\"][a+1]=1\n",
    "#         testing=pd.concat([testing,data[a:a+5]],ignore_index=True)\n",
    "#         ret+=(-data[\"next_day_return_^GSPC\"][a+1:a+3]).sum() + (data[\"next_day_return_^GSPC\"][a+3:a+5]).sum()\n",
    "#         acc_return+=ret\n",
    "#         count+=1\n",
    "#         return_mean.append(ret)\n",
    "# display(testing)\n",
    "# risk=np.std(return_mean)\n",
    "# sharpe=np.mean(return_mean)/risk*np.sqrt(50) \n",
    "# print(\"Return: \", acc_return)\n",
    "# print(\"Sharpe ratio: \",sharpe)\n",
    "# print(\"Count of trades: \", count)\n",
    "# print(\"\")"
   ]
  },
  {
   "cell_type": "markdown",
   "metadata": {},
   "source": [
    "From that we can produce similar results using such strategy, but:\n",
    "\n",
    "1. We ignore risk free rate and transcation cost, and thus we have a higher than normal sharpe ratio.\n",
    "2. We have much more signal and thus much more trades, thus in reality we will have much lower return.\n",
    "3. More research is required to find out the better combo of days of shorting and longing S&P500.\n",
    "4. How to deal with overlapping signal? Do more separate trades like here? Or continute the existing one or something else?\n",
    "5. We may also consider longer days of co-movement.\n",
    "6. Over time S&P500 is bullish, that signal might be able to capture short term corrections. But what if the US stock bullish market end?"
   ]
  },
  {
   "cell_type": "code",
   "execution_count": 21,
   "metadata": {},
   "outputs": [
    {
     "data": {
      "image/png": "[encoded data removed]",
      "text/plain": [
       "<Figure size 640x480 with 1 Axes>"
      ]
     },
     "metadata": {},
     "output_type": "display_data"
    }
   ],
   "source": [
    "cumsum = portfolio_return.cumsum()\n",
    "\n",
    "plt.plot(cumsum)\n",
    "plt.xlabel('Date')\n",
    "plt.ylabel('Cumulative Return')\n",
    "plt.show()"
   ]
  }
 ],
 "metadata": {
  "kernelspec": {
   "display_name": "Python 3",
   "language": "python",
   "name": "python3"
  },
  "language_info": {
   "codemirror_mode": {
    "name": "ipython",
    "version": 3
   },
   "file_extension": ".py",
   "mimetype": "text/x-python",
   "name": "python",
   "nbconvert_exporter": "python",
   "pygments_lexer": "ipython3",
   "version": "3.10.12"
  }
 },
 "nbformat": 4,
 "nbformat_minor": 2
}
