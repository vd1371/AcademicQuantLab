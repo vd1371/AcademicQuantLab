{
 "cells": [
  {
   "cell_type": "markdown",
   "metadata": {},
   "source": [
    "# Strategy Details\n",
    "\n",
    "\n",
    "According to the essay \"Statistical arbitrage strategy based on VIX-to-market based signal\" published by Tuomas Lehtinen in 2022, the writer use the two days consecutive & positive co-movement between S&P500 and VIX index as singal, after that at day 2 we have the signal.\n",
    "\n",
    "From that we will short the S&P500 for 2 days and next 2 days long the market again. The essay consider excess return, Jensen Alpha, security market line etc. The essay find out such signal may generate better return and Sharpe ratio comparing with S&P500. \n",
    "\n",
    "Since here we want to replicate his ideas and findings for backtesting, we simplify his actions into this:\n",
    "1. We two days (t &t+1)  consecutive & positive co-movement between S&P500 and VIX index as signal. We record the signal at t+1 day\n",
    "2. Next day (t+2) we will short short S&P500 for two days and long VIX\n",
    "3. Then at t+4 day we long S&P500 for two days and short VIX\n",
    "\n",
    "We don't consider risk free risk and transcation costs.\n",
    "\n",
    "Our time frame is from 2000-01-02 to 2024-05-31\n",
    "\n",
    "| Date| S&P500 return| VIX return |Signal| action|\n",
    "|:---------|:--------:|---------:|---------:|---------:|\n",
    "| t  |+|+ | 0|   |\n",
    "| t+1  |+| + |   1 | |\n",
    "|  t+2  | | |   | short S&P500|\n",
    "|  t+3  ||  |   | short S&P500|\n",
    "|  t+4  || |  | long S&P500|\n",
    "|  t+5 || |  | long S&P500|\n"
   ]
  },
  {
   "cell_type": "code",
   "execution_count": 27,
   "metadata": {},
   "outputs": [],
   "source": [
    "import os\n",
    "import requests\n",
    "import pandas as pd\n",
    "import yfinance as yf\n",
    "import warnings\n",
    "warnings.filterwarnings(\"ignore\")\n",
    "import numpy as np\n",
    "import matplotlib.pyplot as plt\n",
    "\n",
    "def load_data(symbol):\n",
    "    \n",
    "    direc  =  'data/'\n",
    "    os.makedirs(direc, exist_ok = True)\n",
    "    file_name = os.path.join(direc, symbol + '.csv')\n",
    "\n",
    "    if not os.path.exists(file_name):\n",
    "        ticker = yf.Ticker(symbol)\n",
    "        df = ticker.history(start='2000-01-02', end='2024-05-31')\n",
    "        df.to_csv(file_name)\n",
    "\n",
    "    df = pd.read_csv(file_name, index_col=0)\n",
    "    df.index = pd.to_datetime(df.index, utc=True).date\n",
    "\n",
    "    return df\n",
    "\n",
    "# I know that these two are not tradaable, but I want to use them as a proxy of\n",
    "# their futures.\n",
    "sp500 = load_data(\"^GSPC\")\n",
    "vix = load_data(\"^VIX\")\n"
   ]
  },
  {
   "cell_type": "markdown",
   "metadata": {},
   "source": [
    "We record two consecutive & positive co-movement between S&P500 and VIX index as signal\n",
    "Short 2 days S&P500 and after that long 2 days S&P500"
   ]
  },
  {
   "cell_type": "code",
   "execution_count": 28,
   "metadata": {},
   "outputs": [
    {
     "name": "stdout",
     "output_type": "stream",
     "text": [
      "count of trades: 67\n",
      "sharpe ratio of S&P: 0.37\n",
      "sharpe ratio: 0.28\n"
     ]
    }
   ],
   "source": [
    "# Find the rolling sum of the daily returns for the sp500\n",
    "sp500[\"daily_return\"] = sp500[\"Close\"].pct_change()\n",
    "sp500[\"daily_return_direction\"] = np.nan\n",
    "sp500.loc[sp500[\"daily_return\"]>0,\"daily_return_direction\"] = 1\n",
    "sp500.loc[sp500[\"daily_return\"]<0,\"daily_return_direction\"] = -1\n",
    "sp500['rolling_sum'] = sp500[\"daily_return_direction\"].rolling(window=2).sum()\n",
    "\n",
    "# Find the rolling sum of the daily returns for the vix\n",
    "vix[\"daily_return\"] = vix[\"Close\"].pct_change()\n",
    "vix[\"daily_return_direction\"] = np.nan\n",
    "vix.loc[vix[\"daily_return\"]>0,\"daily_return_direction\"] = 1\n",
    "vix.loc[vix[\"daily_return\"]<0,\"daily_return_direction\"] = -1\n",
    "vix['rolling_sum'] = vix[\"daily_return_direction\"].rolling(window=2).sum()\n",
    "\n",
    "# Combine the two rolling sums\n",
    "data = pd.concat([sp500[[\"daily_return\",\"rolling_sum\"]],vix[[\"daily_return\",\"rolling_sum\"]]],axis=1)\n",
    "data.columns = [\"sp500_daily_return\",\"sp500_rolling_sum\",\"vix_daily_return\",\"vix_rolling_sum\"]\n",
    "data['total_rolling_sum'] = data[\"sp500_rolling_sum\"]+data[\"vix_rolling_sum\"]\n",
    "\n",
    "data['signal'] = 0\n",
    "\n",
    "data.loc[data[\"total_rolling_sum\"]!=4.0,'signal'] = 0\n",
    "data.loc[data[\"total_rolling_sum\"]==4.0,'signal'] = 1\n",
    "print(\"count of trades:\",len(data[data['signal']==1]))\n",
    "\n",
    "# Signal is: Short the first two days and long the next two days after the signal\n",
    "data['signal'] = -data[\"signal\"].shift(1) - data[\"signal\"].shift(2) + data[\"signal\"].shift(3) + data[\"signal\"].shift(4)\n",
    "data['portfolio_return'] = (data['signal'] * data[\"sp500_daily_return\"] - data['signal'] * data[\"vix_daily_return\"])/2\n",
    "\n",
    "# Print the sharpe of S&P\n",
    "snp_sharpe = sp500[\"daily_return\"].mean() / sp500[\"daily_return\"].std() *np.sqrt(252)\n",
    "print (f\"sharpe ratio of S&P: {snp_sharpe:.2f}\")\n",
    "\n",
    "\n",
    "cumsum = data['portfolio_return'].cumsum()\n",
    "sharpe = data[\"portfolio_return\"].mean() / data[\"portfolio_return\"].std() *np.sqrt(252)\n",
    "print(f\"sharpe ratio: {sharpe:.2f}\")"
   ]
  },
  {
   "cell_type": "code",
   "execution_count": 29,
   "metadata": {},
   "outputs": [
    {
     "data": {
      "image/png": "[encoded data removed]",
      "text/plain": [
       "<Figure size 640x480 with 1 Axes>"
      ]
     },
     "metadata": {},
     "output_type": "display_data"
    },
    {
     "name": "stdout",
     "output_type": "stream",
     "text": [
      "Cumulative Return : 0.8330732177764076\n"
     ]
    }
   ],
   "source": [
    "plt.plot(cumsum)\n",
    "plt.xlabel('Date')\n",
    "plt.ylabel('Cumulative Return')\n",
    "plt.show()\n",
    "print(f\"Cumulative Return : {cumsum[-1]}\")\n"
   ]
  },
  {
   "cell_type": "markdown",
   "metadata": {},
   "source": [
    "# Final thoughts:\n",
    "\n",
    "0. I have no idea how the paper got a sharpe of above 2, did we make a mistake here? Although, I should say that the paper has calculated the sharpe ratio of the S&P as something above 2, which we all know is not correct.\n",
    "1. This stratgey is good to capture some rare events. Being in the market for 67*4 days within 24 years is nothing.\n",
    "2. BUT, this can be coupled with some other index strategies and make something useful out of it.\n",
    "\n"
   ]
  }
 ],
 "metadata": {
  "kernelspec": {
   "display_name": "Python 3",
   "language": "python",
   "name": "python3"
  },
  "language_info": {
   "codemirror_mode": {
    "name": "ipython",
    "version": 3
   },
   "file_extension": ".py",
   "mimetype": "text/x-python",
   "name": "python",
   "nbconvert_exporter": "python",
   "pygments_lexer": "ipython3",
   "version": "3.10.12"
  }
 },
 "nbformat": 4,
 "nbformat_minor": 2
}
