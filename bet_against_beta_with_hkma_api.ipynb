{
 "cells": [
  {
   "cell_type": "markdown",
   "metadata": {},
   "source": [
    "## Bet Against the Beta\n",
    "\n",
    "The idea is to use CAPM to find individual stock's current monthly end beta, at start of next month, \n",
    "\n",
    "open long position for stocks that have low beta and open short position for stocks with high beta.\n",
    "\n",
    "But is that also work in HK market?\n",
    "\n",
    "To calculate the risk free rate, I use 1 month hibor fixing rate data from HKMA API.\n"
   ]
  },
  {
   "cell_type": "code",
   "execution_count": 1,
   "metadata": {},
   "outputs": [],
   "source": [
    "import pandas as pd\n",
    "import numpy as np \n",
    "import os\n",
    "import yfinance as yf\n",
    "import requests\n",
    "import datetime\n",
    "import time\n",
    "import matplotlib.pyplot as plt\n",
    "import sys\n",
    "import warnings\n",
    "warnings.simplefilter('ignore')\n",
    "\n",
    "\n",
    "# start_date= \"2005-01-01\"\n",
    "# end_date= \"2024-06-30\"\n",
    "\n",
    "# start_date_dt=datetime.datetime.strptime(start_date,'%Y-%m-%d')\n",
    "# end_date_dt=datetime.datetime.strptime(end_date,'%Y-%m-%d')\n",
    "\n",
    "# curr_start_date_dt=start_date_dt\n",
    "# curr_end_date_dt=curr_start_date_dt +datetime.timedelta(days=120)\n",
    "\n",
    "# data_list=[]\n",
    "# while curr_start_date_dt <= end_date_dt:\n",
    "#     if curr_start_date_dt + datetime.timedelta(days=120)>end_date_dt:\n",
    "#         curr_end_date_dt=end_date_dt\n",
    "\n",
    "#     curr_start_date_str=curr_start_date_dt.strftime('%Y-%m-%d')\n",
    "#     curr_end_date_str= curr_end_date_dt.strftime('%Y-%m-%d')\n",
    "\n",
    "#     curr_start_date_dt+=datetime.timedelta(days=120)\n",
    "#     curr_end_date_dt+=datetime.timedelta(days=120)\n",
    "\n",
    "#     url=\"https://api.hkma.gov.hk/public/market-data-and-statistics/daily-monetary-statistics/daily-figures-interbank-liquidity\"\n",
    "#     url+=\"?choose=end_of_date&from=\" +curr_start_date_str+ \"&to=\" +curr_end_date_str\n",
    "\n",
    "#     response=requests.get(url)\n",
    "#     data=response.json()\n",
    "#     data=pd.json_normalize(data['result']['records'])\n",
    "#     data_list.append(data)\n",
    "#     time.sleep(1)\n",
    "    \n",
    "# data=pd.concat(data_list)\n",
    "# data.to_csv(\"C:/Users/Attila/Desktop/hibor.csv\")    \n",
    "# data['Date']=pd.to_datetime(data[\"end_of_date\"])\n",
    "# data.set_index('Date',inplace=True)\n",
    "# data=data.drop_duplicates(subset=\"end_of_date\",keep='last')\n",
    "# data=data.sort_index()\n",
    "# # data=data[\"hibor_fixing_1m\"].copy()\n",
    "data = pd.read_csv(\"C:/Users/Attila/Desktop/hibor.csv\")\n",
    "data['Date'] = pd.to_datetime(data[\"end_of_date\"])\n",
    "data.set_index('Date',inplace=True)\n",
    "data = data.drop_duplicates(subset=\"end_of_date\",keep='last')\n",
    "data = data.sort_index()"
   ]
  },
  {
   "cell_type": "markdown",
   "metadata": {},
   "source": [
    "For HK stocks, I manually selected some HK stocks that have good volume and turnover"
   ]
  },
  {
   "cell_type": "code",
   "execution_count": 2,
   "metadata": {},
   "outputs": [
    {
     "name": "stdout",
     "output_type": "stream",
     "text": [
      "Loaded data for 18 companies\n"
     ]
    }
   ],
   "source": [
    "import pandas as pd\n",
    "import numpy as np \n",
    "import os\n",
    "import yfinance as yf\n",
    "import requests\n",
    "import datetime\n",
    "import time\n",
    "import matplotlib.pyplot as plt\n",
    "import sys\n",
    "tickers = [\"0700.HK\",\"9988.HK\",\"3690.HK\",\"0939.HK\",\"1398.HK\",\"0005.HK\",\"0941.HK\",\"0883.HK\",\n",
    "           \"1299.HK\",\"2318.HK\",\"9618.HK\",\"0388.HK\",\"1211.HK\",\"1810.HK\",\"1024.HK\",\"0992.HK\",\n",
    "           \"1088.HK\",\"2628.HK\"]\n",
    "def load_data(symbol):\n",
    "\n",
    "    direc = 'data/'\n",
    "    os.makedirs(direc, exist_ok=True)\n",
    "\n",
    "    file_name = os.path.join(direc, symbol + '.csv')\n",
    "\n",
    "    if not os.path.exists(file_name):\n",
    "\n",
    "        ticker = yf.Ticker(symbol)\n",
    "        df = ticker.history(start='2005-01-01', end='2024-06-30')\n",
    "\n",
    "        df.to_csv(file_name)\n",
    "\n",
    "    df = pd.read_csv(file_name)\n",
    "    df[\"Date\"] = df[\"Date\"].astype(\"string\")\n",
    "    df[\"Date\"] = df[\"Date\"].str[:10]\n",
    "    df['Date'] = pd.to_datetime(df[\"Date\"])\n",
    "    df.set_axis(df[\"Date\"],inplace=True)\n",
    "    df['risk_free_rate']=data[\"hibor_fixing_1m\"]\n",
    "    df = df.resample('M').agg({\n",
    "        \"Open\":'first',\n",
    "        \"Close\":\"last\",\n",
    "        'risk_free_rate':\"last\"\n",
    "    })\n",
    "    df['this_month_return'] = (df[\"Close\"]-df[\"Open\"])/df[\"Open\"]\n",
    "    df[\"next_month_return\"] = df['this_month_return'].shift(-1)\n",
    "    if len(df) == 0:\n",
    "        os.remove(file_name)\n",
    "        return None\n",
    "\n",
    "    return df\n",
    "\n",
    "holder = []\n",
    "ticker_with_data = []\n",
    "for symbol in tickers:\n",
    "    df = load_data(symbol)\n",
    "    if df is not None:\n",
    "        holder.append(df)\n",
    "        ticker_with_data.append(symbol)\n",
    "\n",
    "        \n",
    "hsi = load_data(\"^HSI\")\n",
    "tickers = ticker_with_data[:]\n",
    "\n",
    "print (f'Loaded data for {len(tickers)} companies')"
   ]
  },
  {
   "cell_type": "code",
   "execution_count": 14,
   "metadata": {},
   "outputs": [],
   "source": [
    "\n",
    "trade=pd.DataFrame()\n",
    "beta_high = 1.5\n",
    "beta_low = 0.6\n",
    "return_long = 0\n",
    "return_short = 0\n",
    "for stock in holder:\n",
    "    stock[\"market_return\"] = hsi['this_month_return']\n",
    "    stock['monthly_beta'] = (stock[\"this_month_return\"] - stock['risk_free_rate']) / (stock[\"market_return\"] - stock['risk_free_rate'])\n",
    "    stock['position'] = 0\n",
    "    stock.loc[stock['monthly_beta'] <= beta_low,'position'] = 1\n",
    "    stock.loc[stock['monthly_beta'] >= beta_high,'position'] = -1\n",
    "    stock[\"strategy_return\"]=stock['position'] * stock['next_month_return']\n",
    "    trade=pd.concat([trade,stock])\n",
    "trade=trade.groupby(trade.index).sum()\n"
   ]
  },
  {
   "cell_type": "code",
   "execution_count": 15,
   "metadata": {},
   "outputs": [
    {
     "name": "stdout",
     "output_type": "stream",
     "text": [
      "Sharpe Ratio is : -0.11416235271638306\n",
      "Cumulative Return is 6.355589545459166\n"
     ]
    },
    {
     "data": {
      "image/png": "[encoded data removed]",
      "text/plain": [
       "<Figure size 640x480 with 1 Axes>"
      ]
     },
     "metadata": {},
     "output_type": "display_data"
    }
   ],
   "source": [
    "cum_return=trade['strategy_return'].cumsum()\n",
    "plt.plot(cum_return)\n",
    "plt.title(\"Cumulative Return\")\n",
    "plt.xlabel(\"Year\")\n",
    "sharpe=stock[\"strategy_return\"].mean() / stock[\"strategy_return\"].std() * np.sqrt(252)\n",
    "print(f'Sharpe Ratio is : {sharpe}')\n",
    "print(f'Cumulative Return is {cum_return[-1]}')\n"
   ]
  },
  {
   "cell_type": "markdown",
   "metadata": {},
   "source": [
    "| Long stock if beta is lower than | Shortsell stock if beta is higher than | Cumulative Return | Sharpe Ratio |\n",
    "|:---------|:--------:|---------:|---------:|\n",
    "| 0.5  |  1.5   | 541.08%  |  0.71 |\n",
    "|  0.5   |  1.4   |  492.63%   | 0.60 |\n",
    "|  0.5   |  1.3   |  466.60%   | 0.30  |\n",
    "||||\n",
    "|  0.2   |  1.5   |  257.04%   | 0.67  |\n",
    "|  0.3  |  1.5   |  314.78%   | 0.66  |\n",
    "|  0.4   |  1.5   |  388.07%   | 1.46  |\n",
    "|  0.6  |  1.5   |  635.56%   | -0.11  |"
   ]
  },
  {
   "cell_type": "code",
   "execution_count": null,
   "metadata": {},
   "outputs": [],
   "source": []
  },
  {
   "cell_type": "code",
   "execution_count": null,
   "metadata": {},
   "outputs": [],
   "source": []
  },
  {
   "cell_type": "code",
   "execution_count": null,
   "metadata": {},
   "outputs": [],
   "source": []
  },
  {
   "cell_type": "code",
   "execution_count": null,
   "metadata": {},
   "outputs": [],
   "source": []
  }
 ],
 "metadata": {
  "kernelspec": {
   "display_name": "Python 3",
   "language": "python",
   "name": "python3"
  },
  "language_info": {
   "codemirror_mode": {
    "name": "ipython",
    "version": 3
   },
   "file_extension": ".py",
   "mimetype": "text/x-python",
   "name": "python",
   "nbconvert_exporter": "python",
   "pygments_lexer": "ipython3",
   "version": "3.10.11"
  }
 },
 "nbformat": 4,
 "nbformat_minor": 2
}
