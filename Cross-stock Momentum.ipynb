{
 "cells": [
  {
   "cell_type": "markdown",
   "metadata": {},
   "source": [
    "# Strategy Details"
   ]
  },
  {
   "cell_type": "markdown",
   "metadata": {},
   "source": [
    "Cross-stock momentum builds on the asymmetry in lead-lag linkages and the difference between long-run and short-run contemporaneous co-movements. The asymmetry distinguishes cross-stock momentum from factor momentum, and industry momentum is not subsumed by factor momentum. Factor momentum profit is mostly due to the high cross-stock links.\n",
    "\n",
    "However, the method implemented in the paper is relatively complex. We wonder if just utilizing the cross stock momentum can generate good profit."
   ]
  },
  {
   "cell_type": "code",
   "execution_count": 1,
   "metadata": {},
   "outputs": [],
   "source": [
    "# Collect the list of the S&P 500 companies from Wikipedia and save it to a file\n",
    "import os\n",
    "import requests\n",
    "import pandas as pd\n",
    "\n",
    "# ignore warnings\n",
    "import warnings\n",
    "warnings.filterwarnings(\"ignore\")\n",
    "\n",
    "# Get the list of S&P 500 companies from Wikipedia\n",
    "url = 'https://en.wikipedia.org/wiki/List_of_S%26P_500_companies'\n",
    "response = requests.get(url)\n",
    "html = response.content\n",
    "df = pd.read_html(html, header=0)[0]\n",
    "\n",
    "tickers = df['Symbol'].tolist()"
   ]
  },
  {
   "cell_type": "code",
   "execution_count": 2,
   "metadata": {},
   "outputs": [
    {
     "name": "stderr",
     "output_type": "stream",
     "text": [
      "Failed to get ticker 'BRK.B' reason: Expecting value: line 1 column 1 (char 0)\n",
      "BRK.B: No timezone found, symbol may be delisted\n",
      "BF.B: No price data found, symbol may be delisted (1d 2005-01-01 -> 2023-12-31)\n",
      "GEV: No price data found, symbol may be delisted (1d 2005-01-01 -> 2023-12-31)\n",
      "SOLV: No price data found, symbol may be delisted (1d 2005-01-01 -> 2023-12-31)\n"
     ]
    },
    {
     "name": "stdout",
     "output_type": "stream",
     "text": [
      "Loaded data for 499 companies\n"
     ]
    }
   ],
   "source": [
    "# Load the data from yahoo finance\n",
    "import os\n",
    "import yfinance as yf\n",
    "\n",
    "def load_data(symbol):\n",
    "\n",
    "    direc = 'data/'\n",
    "    os.makedirs(direc, exist_ok=True)\n",
    "\n",
    "    file_name = os.path.join(direc, symbol + '.csv')\n",
    "\n",
    "    if not os.path.exists(file_name):\n",
    "\n",
    "        ticker = yf.Ticker(symbol)\n",
    "        df = ticker.history(start='2005-01-01', end='2023-12-31')\n",
    "\n",
    "        df.to_csv(file_name)\n",
    "\n",
    "    df = pd.read_csv(file_name, index_col=0)\n",
    "    df.index = pd.to_datetime(df.index, utc=True).tz_convert('US/Eastern')\n",
    "    df['date'] = df.index\n",
    "\n",
    "    if len(df) == 0:\n",
    "        os.remove(file_name)\n",
    "        return None\n",
    "\n",
    "    return df\n",
    "\n",
    "holder = []\n",
    "ticker_with_data = []\n",
    "for symbol in tickers:\n",
    "    df = load_data(symbol)\n",
    "    if df is not None:\n",
    "        holder.append(df)\n",
    "        ticker_with_data.append(symbol)\n",
    "\n",
    "tickers = ticker_with_data[:]\n",
    "\n",
    "print (f'Loaded data for {len(tickers)} companies')\n"
   ]
  },
  {
   "cell_type": "markdown",
   "metadata": {},
   "source": [
    "### Adding the factor and monthly return\n",
    "Assuming the we will open at the monthly open price and will close at the monthly close"
   ]
  },
  {
   "cell_type": "code",
   "execution_count": 3,
   "metadata": {},
   "outputs": [],
   "source": [
    "# We only need the monthly data, so we will resample the data,\n",
    "# Open should be the first day of the month, Close should be the last day of the month\n",
    "# High should be the maximum value of the month, Low should be the minimum value of the month\n",
    "monthly_data = []\n",
    "for data in holder:\n",
    "    df = data.resample('M').agg({\n",
    "        'date': 'first',\n",
    "        'Open': 'first',\n",
    "        'High': 'max',\n",
    "        'Low': 'min',\n",
    "        'Close': 'last',\n",
    "        'Volume': 'sum'\n",
    "    })\n",
    "\n",
    "    df.set_index('date', inplace=True)\n",
    "\n",
    "    monthly_data.append(df)\n",
    "\n",
    "del holder"
   ]
  },
  {
   "cell_type": "code",
   "execution_count": 4,
   "metadata": {},
   "outputs": [],
   "source": [
    "temp = []\n",
    "for df in monthly_data:\n",
    "    # Compute the monthly return   \n",
    "    df['monthly_return'] = df['Close'].pct_change()\n",
    "    df['intra_month_return'] = (df['Close'] - df['Open']) / df['Open']\n",
    "    df['next_intra_month_return'] = df['intra_month_return'].shift(-1)\n",
    "    # Compute the cumulative return\n",
    "    df['last_1_month_cumulative_return'] = (1 + df['monthly_return']).cumprod()\n",
    "    df['last_1_month_cumulative_return'] = df['last_1_month_cumulative_return'].shift(1)    \n",
    "    df['last_2_month_cumulative_return'] = df['last_1_month_cumulative_return'].shift(1)\n",
    "    temp.append(df)\n",
    "\n",
    "monthly_data = temp\n",
    "    "
   ]
  },
  {
   "cell_type": "code",
   "execution_count": 5,
   "metadata": {},
   "outputs": [
    {
     "data": {
      "text/html": [
       "<div>\n",
       "<style scoped>\n",
       "    .dataframe tbody tr th:only-of-type {\n",
       "        vertical-align: middle;\n",
       "    }\n",
       "\n",
       "    .dataframe tbody tr th {\n",
       "        vertical-align: top;\n",
       "    }\n",
       "\n",
       "    .dataframe thead th {\n",
       "        text-align: right;\n",
       "    }\n",
       "</style>\n",
       "<table border=\"1\" class=\"dataframe\">\n",
       "  <thead>\n",
       "    <tr style=\"text-align: right;\">\n",
       "      <th></th>\n",
       "      <th>Open</th>\n",
       "      <th>High</th>\n",
       "      <th>Low</th>\n",
       "      <th>Close</th>\n",
       "      <th>Volume</th>\n",
       "      <th>monthly_return</th>\n",
       "      <th>intra_month_return</th>\n",
       "      <th>next_intra_month_return</th>\n",
       "      <th>last_1_month_cumulative_return</th>\n",
       "      <th>last_2_month_cumulative_return</th>\n",
       "    </tr>\n",
       "    <tr>\n",
       "      <th>date</th>\n",
       "      <th></th>\n",
       "      <th></th>\n",
       "      <th></th>\n",
       "      <th></th>\n",
       "      <th></th>\n",
       "      <th></th>\n",
       "      <th></th>\n",
       "      <th></th>\n",
       "      <th></th>\n",
       "      <th></th>\n",
       "    </tr>\n",
       "  </thead>\n",
       "  <tbody>\n",
       "    <tr>\n",
       "      <th>2005-01-03 00:00:00-05:00</th>\n",
       "      <td>38.470295</td>\n",
       "      <td>40.029323</td>\n",
       "      <td>37.796112</td>\n",
       "      <td>39.495586</td>\n",
       "      <td>88466685</td>\n",
       "      <td>NaN</td>\n",
       "      <td>0.026652</td>\n",
       "      <td>0.000137</td>\n",
       "      <td>NaN</td>\n",
       "      <td>NaN</td>\n",
       "    </tr>\n",
       "    <tr>\n",
       "      <th>2005-02-01 00:00:00-05:00</th>\n",
       "      <td>39.490923</td>\n",
       "      <td>40.722233</td>\n",
       "      <td>38.835472</td>\n",
       "      <td>39.496319</td>\n",
       "      <td>57967609</td>\n",
       "      <td>0.000019</td>\n",
       "      <td>0.000137</td>\n",
       "      <td>0.020727</td>\n",
       "      <td>NaN</td>\n",
       "      <td>NaN</td>\n",
       "    </tr>\n",
       "    <tr>\n",
       "      <th>2005-03-01 00:00:00-05:00</th>\n",
       "      <td>39.501024</td>\n",
       "      <td>41.147859</td>\n",
       "      <td>39.298700</td>\n",
       "      <td>40.319752</td>\n",
       "      <td>66145137</td>\n",
       "      <td>0.020848</td>\n",
       "      <td>0.020727</td>\n",
       "      <td>-0.110814</td>\n",
       "      <td>1.000019</td>\n",
       "      <td>NaN</td>\n",
       "    </tr>\n",
       "  </tbody>\n",
       "</table>\n",
       "</div>"
      ],
      "text/plain": [
       "                                Open       High        Low      Close  \\\n",
       "date                                                                    \n",
       "2005-01-03 00:00:00-05:00  38.470295  40.029323  37.796112  39.495586   \n",
       "2005-02-01 00:00:00-05:00  39.490923  40.722233  38.835472  39.496319   \n",
       "2005-03-01 00:00:00-05:00  39.501024  41.147859  39.298700  40.319752   \n",
       "\n",
       "                             Volume  monthly_return  intra_month_return  \\\n",
       "date                                                                      \n",
       "2005-01-03 00:00:00-05:00  88466685             NaN            0.026652   \n",
       "2005-02-01 00:00:00-05:00  57967609        0.000019            0.000137   \n",
       "2005-03-01 00:00:00-05:00  66145137        0.020848            0.020727   \n",
       "\n",
       "                           next_intra_month_return  \\\n",
       "date                                                 \n",
       "2005-01-03 00:00:00-05:00                 0.000137   \n",
       "2005-02-01 00:00:00-05:00                 0.020727   \n",
       "2005-03-01 00:00:00-05:00                -0.110814   \n",
       "\n",
       "                           last_1_month_cumulative_return  \\\n",
       "date                                                        \n",
       "2005-01-03 00:00:00-05:00                             NaN   \n",
       "2005-02-01 00:00:00-05:00                             NaN   \n",
       "2005-03-01 00:00:00-05:00                        1.000019   \n",
       "\n",
       "                           last_2_month_cumulative_return  \n",
       "date                                                       \n",
       "2005-01-03 00:00:00-05:00                             NaN  \n",
       "2005-02-01 00:00:00-05:00                             NaN  \n",
       "2005-03-01 00:00:00-05:00                             NaN  "
      ]
     },
     "execution_count": 5,
     "metadata": {},
     "output_type": "execute_result"
    }
   ],
   "source": [
    "monthly_data[0].head(3)"
   ]
  },
  {
   "cell_type": "markdown",
   "metadata": {},
   "source": [
    "# Regression Analysis"
   ]
  },
  {
   "cell_type": "markdown",
   "metadata": {},
   "source": [
    "According to the research paper, we use the cumulative returns to calculate "
   ]
  },
  {
   "cell_type": "code",
   "execution_count": 6,
   "metadata": {},
   "outputs": [
    {
     "name": "stdout",
     "output_type": "stream",
     "text": [
      "                                MMM       AOS       ABT\n",
      "date                                                   \n",
      "2005-03-01 00:00:00-05:00  1.000019  0.969384  1.021546\n",
      "2005-04-01 00:00:00-05:00  1.020867  1.064921  1.035540\n",
      "2005-05-02 00:00:00-04:00  0.911025  1.057225  1.098264\n",
      "                                MMM       AOS       ABT\n",
      "date                                                   \n",
      "2005-04-01 00:00:00-05:00  1.000019  0.969384  1.021546\n",
      "2005-05-02 00:00:00-04:00  1.020867  1.064921  1.035540\n",
      "2005-06-01 00:00:00-04:00  0.911025  1.057225  1.098264\n"
     ]
    }
   ],
   "source": [
    "# Calculate the correlation of each 2 stocks using the last 1 month cumulative return and last 2 month cumulative return \n",
    "# Using the data from 2005 - 2020\n",
    "\n",
    "# Transfer all the data to a single dataframe\n",
    "last_1_month_cumulative_return_holder = []\n",
    "last_2_month_cumulative_return_holder = []\n",
    "for symbol, df in zip(tickers, monthly_data):\n",
    "    last_1_month_cumulative_return_series = df['last_1_month_cumulative_return'].copy().dropna()\n",
    "    last_2_month_cumulative_return_series = df['last_2_month_cumulative_return'].copy().dropna()\n",
    "\n",
    "    last_1_month_cumulative_return_series.name = symbol\n",
    "    last_2_month_cumulative_return_series.name = symbol\n",
    "\n",
    "    last_1_month_cumulative_return_holder.append(last_1_month_cumulative_return_series)\n",
    "    last_2_month_cumulative_return_holder.append(last_2_month_cumulative_return_series)\n",
    "\n",
    "last_1_month_cumulative_return_df = pd.concat(last_1_month_cumulative_return_holder, axis=1)\n",
    "last_2_month_cumulative_return_df = pd.concat(last_2_month_cumulative_return_holder, axis=1)\n",
    "\n",
    "# # If the columns contain any NaN, drop the column\n",
    "# last_1_month_cumulative_return_df.dropna(axis=1, inplace=True)\n",
    "# last_2_month_cumulative_return_df.dropna(axis=1, inplace=True)\n",
    "\n",
    "print(last_1_month_cumulative_return_df.iloc[0:3, 0:3])\n",
    "print(last_2_month_cumulative_return_df.iloc[0:3, 0:3])\n",
    "\n"
   ]
  },
  {
   "cell_type": "markdown",
   "metadata": {},
   "source": [
    "## Build the correlation matrix"
   ]
  },
  {
   "cell_type": "code",
   "execution_count": 7,
   "metadata": {},
   "outputs": [],
   "source": [
    "# Calculate the correlation using the last 1 month cumulative return and last 2 month cumulative return and store it to a dataframe\n",
    "# Use the stock data from 2005 - 2017\n",
    "correlation_holder = []\n",
    "\n",
    "for ticker in tickers:\n",
    "    temp_df = pd.DataFrame()\n",
    "    temp_df[ticker] = last_1_month_cumulative_return_df[ticker]\n",
    "\n",
    "    # duplicate the column to the number of tickers so that we can use corrwith later on\n",
    "    temp_df = pd.concat([temp_df] * len(tickers), axis=1)\n",
    "    # Change the name of the column to the ticker\n",
    "    temp_df.columns = tickers\n",
    "\n",
    "    # Calculate the correlation using corrwith\n",
    "    correlation_series = temp_df.corrwith(last_2_month_cumulative_return_df, axis=0)\n",
    "    # Set the correlation_series to the correlation_df as the column\n",
    "    correlation_holder.append(correlation_series)"
   ]
  },
  {
   "cell_type": "code",
   "execution_count": 8,
   "metadata": {},
   "outputs": [],
   "source": [
    "correlation_df = pd.concat(correlation_holder, axis=1)\n",
    "correlation_df.columns = tickers\n",
    "\n",
    "# Transpose the correlation_df\n",
    "correlation_df_T = correlation_df.T"
   ]
  },
  {
   "cell_type": "markdown",
   "metadata": {},
   "source": [
    "Now we have the correlation_df and correlation_df_T\n",
    "\n",
    "In correlation_df:\n",
    "- column AAPL, row MMM means the correlation between AAPL and MMM using the last 1 month cumulative return of AAPL and last 2 month cumulative return of MMM\n",
    "- (MMM, AAPL) = Correlation(AAPL_last_1_month_cumulative_return, MMM_last_2_month_cumulative_return)\n",
    "\n",
    "\n",
    "In correlation_df_T:\n",
    "- column AAPL, row MMM means the correlation between AAPL and MMM using the last 2 month cumulative return of AAPL and last 1 month cumulative return of MMM\n",
    "- (MMM, AAPL) = Correlation(MMM_last_1_month_cumulative_return, AAPL_last_2_month_cumulative_return)"
   ]
  },
  {
   "cell_type": "code",
   "execution_count": 9,
   "metadata": {},
   "outputs": [],
   "source": [
    "# Get the difference between the correlation_df and correlation_df_T, so that we can know the lead-lag linkage betwe\n",
    "correlation_diff =  correlation_df_T - correlation_df"
   ]
  },
  {
   "cell_type": "markdown",
   "metadata": {},
   "source": [
    "Now, in the correlation_diff: \n",
    "- If (MMM, AAPL) > 0,  MMM is following AAPL\n",
    "- If (MMM, AAPL) < 0,  AAPL is following MMM"
   ]
  },
  {
   "cell_type": "code",
   "execution_count": 11,
   "metadata": {},
   "outputs": [],
   "source": [
    "# Get the pair of stocks that have the highest correlation difference\n",
    "correlation_diff_selected_pairs = correlation_diff.stack()\n",
    "correlation_diff_selected_pairs = correlation_diff_selected_pairs[correlation_diff_selected_pairs > 0.1]\n",
    "#print(correlation_diff_selected_pairs)\n",
    "# Save the pairs and the correlation into a holder \n",
    "pairs = {}\n",
    "for symbol in tickers:\n",
    "    pairs[symbol] = []\n",
    "    \n",
    "for pair in correlation_diff_selected_pairs.index:\n",
    "    # Get the left and right pair\n",
    "    left, right = pair\n",
    "    pairs[left].append([right, correlation_diff_selected_pairs[pair]])"
   ]
  },
  {
   "cell_type": "code",
   "execution_count": 13,
   "metadata": {},
   "outputs": [],
   "source": [
    "# Sort the pairs based on the correlation difference\n",
    "for symbol in tickers:\n",
    "    pairs[symbol] = sorted(pairs[symbol], key=lambda x: x[1], reverse=True)"
   ]
  },
  {
   "cell_type": "markdown",
   "metadata": {},
   "source": [
    "# Regression Analysis based on the correlation"
   ]
  },
  {
   "cell_type": "markdown",
   "metadata": {},
   "source": [
    "As one stock may have multiple leader stocks, we perform the regression analysis based on the leader stock that has the highest correlation difference"
   ]
  },
  {
   "cell_type": "code",
   "execution_count": 14,
   "metadata": {},
   "outputs": [],
   "source": [
    "# Add the last 2 month cumulative return of the leader stocks to the lagger stocks\n",
    "for ticker in tickers:\n",
    "    if len(pairs[ticker]) > 0:\n",
    "        monthly_data[tickers.index(ticker)]['last_2_month_cumulative_return_' + pairs[ticker][0][0]] = last_2_month_cumulative_return_df[ticker]"
   ]
  },
  {
   "cell_type": "code",
   "execution_count": 19,
   "metadata": {},
   "outputs": [
    {
     "data": {
      "text/html": [
       "<div>\n",
       "<style scoped>\n",
       "    .dataframe tbody tr th:only-of-type {\n",
       "        vertical-align: middle;\n",
       "    }\n",
       "\n",
       "    .dataframe tbody tr th {\n",
       "        vertical-align: top;\n",
       "    }\n",
       "\n",
       "    .dataframe thead th {\n",
       "        text-align: right;\n",
       "    }\n",
       "</style>\n",
       "<table border=\"1\" class=\"dataframe\">\n",
       "  <thead>\n",
       "    <tr style=\"text-align: right;\">\n",
       "      <th></th>\n",
       "      <th>Open</th>\n",
       "      <th>High</th>\n",
       "      <th>Low</th>\n",
       "      <th>Close</th>\n",
       "      <th>Volume</th>\n",
       "      <th>monthly_return</th>\n",
       "      <th>intra_month_return</th>\n",
       "      <th>next_intra_month_return</th>\n",
       "      <th>last_1_month_cumulative_return</th>\n",
       "      <th>last_2_month_cumulative_return</th>\n",
       "      <th>last_2_month_cumulative_return_KVUE</th>\n",
       "      <th>corrMMM</th>\n",
       "    </tr>\n",
       "    <tr>\n",
       "      <th>date</th>\n",
       "      <th></th>\n",
       "      <th></th>\n",
       "      <th></th>\n",
       "      <th></th>\n",
       "      <th></th>\n",
       "      <th></th>\n",
       "      <th></th>\n",
       "      <th></th>\n",
       "      <th></th>\n",
       "      <th></th>\n",
       "      <th></th>\n",
       "      <th></th>\n",
       "    </tr>\n",
       "  </thead>\n",
       "  <tbody>\n",
       "    <tr>\n",
       "      <th>2005-01-03 00:00:00-05:00</th>\n",
       "      <td>38.470295</td>\n",
       "      <td>40.029323</td>\n",
       "      <td>37.796112</td>\n",
       "      <td>39.495586</td>\n",
       "      <td>88466685</td>\n",
       "      <td>NaN</td>\n",
       "      <td>0.026652</td>\n",
       "      <td>0.000137</td>\n",
       "      <td>NaN</td>\n",
       "      <td>NaN</td>\n",
       "      <td>NaN</td>\n",
       "      <td>NaN</td>\n",
       "    </tr>\n",
       "    <tr>\n",
       "      <th>2005-02-01 00:00:00-05:00</th>\n",
       "      <td>39.490923</td>\n",
       "      <td>40.722233</td>\n",
       "      <td>38.835472</td>\n",
       "      <td>39.496319</td>\n",
       "      <td>57967609</td>\n",
       "      <td>0.000019</td>\n",
       "      <td>0.000137</td>\n",
       "      <td>0.020727</td>\n",
       "      <td>NaN</td>\n",
       "      <td>NaN</td>\n",
       "      <td>NaN</td>\n",
       "      <td>NaN</td>\n",
       "    </tr>\n",
       "    <tr>\n",
       "      <th>2005-03-01 00:00:00-05:00</th>\n",
       "      <td>39.501024</td>\n",
       "      <td>41.147859</td>\n",
       "      <td>39.298700</td>\n",
       "      <td>40.319752</td>\n",
       "      <td>66145137</td>\n",
       "      <td>0.020848</td>\n",
       "      <td>0.020727</td>\n",
       "      <td>-0.110814</td>\n",
       "      <td>1.000019</td>\n",
       "      <td>NaN</td>\n",
       "      <td>NaN</td>\n",
       "      <td>NaN</td>\n",
       "    </tr>\n",
       "  </tbody>\n",
       "</table>\n",
       "</div>"
      ],
      "text/plain": [
       "                                Open       High        Low      Close  \\\n",
       "date                                                                    \n",
       "2005-01-03 00:00:00-05:00  38.470295  40.029323  37.796112  39.495586   \n",
       "2005-02-01 00:00:00-05:00  39.490923  40.722233  38.835472  39.496319   \n",
       "2005-03-01 00:00:00-05:00  39.501024  41.147859  39.298700  40.319752   \n",
       "\n",
       "                             Volume  monthly_return  intra_month_return  \\\n",
       "date                                                                      \n",
       "2005-01-03 00:00:00-05:00  88466685             NaN            0.026652   \n",
       "2005-02-01 00:00:00-05:00  57967609        0.000019            0.000137   \n",
       "2005-03-01 00:00:00-05:00  66145137        0.020848            0.020727   \n",
       "\n",
       "                           next_intra_month_return  \\\n",
       "date                                                 \n",
       "2005-01-03 00:00:00-05:00                 0.000137   \n",
       "2005-02-01 00:00:00-05:00                 0.020727   \n",
       "2005-03-01 00:00:00-05:00                -0.110814   \n",
       "\n",
       "                           last_1_month_cumulative_return  \\\n",
       "date                                                        \n",
       "2005-01-03 00:00:00-05:00                             NaN   \n",
       "2005-02-01 00:00:00-05:00                             NaN   \n",
       "2005-03-01 00:00:00-05:00                        1.000019   \n",
       "\n",
       "                           last_2_month_cumulative_return  \\\n",
       "date                                                        \n",
       "2005-01-03 00:00:00-05:00                             NaN   \n",
       "2005-02-01 00:00:00-05:00                             NaN   \n",
       "2005-03-01 00:00:00-05:00                             NaN   \n",
       "\n",
       "                           last_2_month_cumulative_return_KVUE  corrMMM  \n",
       "date                                                                     \n",
       "2005-01-03 00:00:00-05:00                                  NaN      NaN  \n",
       "2005-02-01 00:00:00-05:00                                  NaN      NaN  \n",
       "2005-03-01 00:00:00-05:00                                  NaN      NaN  "
      ]
     },
     "execution_count": 19,
     "metadata": {},
     "output_type": "execute_result"
    }
   ],
   "source": [
    "monthly_data[tickers.index(\"MMM\")].head(3)"
   ]
  },
  {
   "cell_type": "code",
   "execution_count": 20,
   "metadata": {},
   "outputs": [],
   "source": [
    "# Calculate the correlation of each 2 stocks using the last 2 month cumulative return of the leader stocks and last 1 month cumulative return of the lagger stocks on a rolling basis of 3 months\n",
    "for ticker in tickers:\n",
    "    if len(pairs[ticker]) > 0:\n",
    "        monthly_data[tickers.index(ticker)]['corr' + pairs[ticker][0][0]] = monthly_data[tickers.index(ticker)]['last_2_month_cumulative_return_' + pairs[ticker][0][0]].rolling(12).corr(monthly_data[tickers.index(ticker)]['last_1_month_cumulative_return'])\n",
    "\n"
   ]
  },
  {
   "cell_type": "code",
   "execution_count": 21,
   "metadata": {},
   "outputs": [],
   "source": [
    "# Build the regression analysis\n",
    "regression_data = []\n",
    "for ticker in tickers:\n",
    "    if len(pairs[ticker]) > 0:\n",
    "            \n",
    "        df = pd.DataFrame()\n",
    "        df['y'] = monthly_data[tickers.index(ticker)]['monthly_return']\n",
    "        df['corr'+pairs[ticker][0][0]] = monthly_data[tickers.index(ticker)]['corr'+pairs[ticker][0][0]]\n",
    "    \n",
    "        regression_data.append(df)\n",
    "            "
   ]
  },
  {
   "cell_type": "code",
   "execution_count": 22,
   "metadata": {},
   "outputs": [
    {
     "name": "stdout",
     "output_type": "stream",
     "text": [
      "                            OLS Regression Results                            \n",
      "==============================================================================\n",
      "Dep. Variable:                      y   R-squared:                       0.000\n",
      "Model:                            OLS   Adj. R-squared:                  0.000\n",
      "Method:                 Least Squares   F-statistic:                     29.09\n",
      "Date:                Thu, 04 Jul 2024   Prob (F-statistic):           6.94e-08\n",
      "Time:                        01:37:17   Log-Likelihood:                 89626.\n",
      "No. Observations:               93201   AIC:                        -1.792e+05\n",
      "Df Residuals:                   93199   BIC:                        -1.792e+05\n",
      "Df Model:                           1                                         \n",
      "Covariance Type:            nonrobust                                         \n",
      "==============================================================================\n",
      "                 coef    std err          t      P>|t|      [0.025      0.975]\n",
      "------------------------------------------------------------------------------\n",
      "const          0.0085      0.001      9.803      0.000       0.007       0.010\n",
      "CORR           0.0067      0.001      5.393      0.000       0.004       0.009\n",
      "==============================================================================\n",
      "Omnibus:                    35448.528   Durbin-Watson:                   2.019\n",
      "Prob(Omnibus):                  0.000   Jarque-Bera (JB):          2129721.431\n",
      "Skew:                           1.023   Prob(JB):                         0.00\n",
      "Kurtosis:                      26.329   Cond. No.                         5.94\n",
      "==============================================================================\n",
      "\n",
      "Notes:\n",
      "[1] Standard Errors assume that the covariance matrix of the errors is correctly specified.\n"
     ]
    }
   ],
   "source": [
    "# Build the regression model on corr+pair first\n",
    "import statsmodels.api as sm\n",
    "from statsmodels.regression.linear_model import OLS\n",
    "import numpy as np\n",
    "\n",
    "regression_holder_corr = []\n",
    "regression_holder_return = []\n",
    "regression_holder_y = []\n",
    "for df in regression_data:\n",
    "    df.dropna(inplace=True)\n",
    "    # X is the second column\n",
    "    X_corr = df.iloc[:, 1:2]\n",
    "    # Set the index of X to be the number of the row\n",
    "    X_corr.index = np.arange(len(X_corr))\n",
    "    # Set the column name to be \"CORR\"\n",
    "    X_corr.columns = ['CORR']    \n",
    "    X_return = df.iloc[:, -1:]\n",
    "    #print(X_return)\n",
    "    X_return.index = np.arange(len(X_return))\n",
    "    X_return.columns = ['Corr_RETURN']\n",
    "    y = df['y']\n",
    "    # Set the index of y to be the number of the row\n",
    "    y.index = np.arange(len(y))\n",
    "    \n",
    "    regression_holder_corr.append(X_corr)\n",
    "    regression_holder_return.append(X_return)\n",
    "    regression_holder_y.append(y)\n",
    "\n",
    "regression_df = pd.DataFrame()\n",
    "# Concatenate all the X and y vertically\n",
    "regression_df_corr = pd.concat(regression_holder_corr,ignore_index=True)\n",
    "regression_df_return = pd.concat(regression_holder_return,ignore_index=True)\n",
    "regression_df_y = pd.concat(regression_holder_y,ignore_index=True)\n",
    "\n",
    "regression_df = pd.concat([regression_df_corr, regression_df_return, regression_df_y], axis=1)\n",
    "\n",
    "# Fit the regression model for y and CORR\n",
    "X = sm.add_constant(regression_df['CORR'])\n",
    "model = OLS(regression_df['y'], X)\n",
    "result_corr = model.fit()\n",
    "print(result_corr.summary())\n",
    "\n",
    "    "
   ]
  },
  {
   "cell_type": "markdown",
   "metadata": {},
   "source": [
    "# Cross-stock Momentum using data-driven linkages"
   ]
  },
  {
   "cell_type": "markdown",
   "metadata": {},
   "source": [
    "Use the stock data from 2018-2023"
   ]
  },
  {
   "cell_type": "code",
   "execution_count": 23,
   "metadata": {},
   "outputs": [],
   "source": [
    "# Get the stock price from 2005-2017 and stock price from 2018-2023\n",
    "last_1_month_cumulative_return_df_2005_2017 = last_1_month_cumulative_return_df.loc['2005-01-01':'2017-12-31']\n",
    "last_1_month_cumulative_return_df_2018_2023 = last_1_month_cumulative_return_df.loc['2018-01-01':'2023-12-31']\n",
    "\n",
    "last_2_month_cumulative_return_df_2005_2017 = last_2_month_cumulative_return_df.loc['2005-01-01':'2017-12-31']\n",
    "last_2_month_cumulative_return_df_2018_2023 = last_2_month_cumulative_return_df.loc['2018-01-01':'2023-12-31']\n",
    "\n",
    "# Get the dataframe containing the next month return from 2005-2017 and 2018-2023\n",
    "next_intra_month_return_holder = []\n",
    "intra_month_return_holder = []\n",
    "for symbol,df in zip(tickers, monthly_data):\n",
    "    next_intra_month_return_series = df['next_intra_month_return'].copy().dropna()\n",
    "    next_intra_month_return_series.name = symbol\n",
    "    intra_month_return_series = df['intra_month_return'].copy().dropna()\n",
    "    intra_month_return_series.name = symbol\n",
    "\n",
    "    next_intra_month_return_holder.append(next_intra_month_return_series)\n",
    "    intra_month_return_holder.append(intra_month_return_series)\n",
    "\n",
    "next_intra_month_return_df = pd.concat(next_intra_month_return_holder, axis=1)\n",
    "intra_month_return_df = pd.concat(intra_month_return_holder, axis=1)\n",
    "\n",
    "next_intra_month_return_df_2005_2017 = next_intra_month_return_df.loc['2005-01-01':'2017-12-31']\n",
    "next_intra_month_return_df_2018_2023 = next_intra_month_return_df.loc['2018-01-01':'2023-12-31']\n",
    "\n",
    "intra_month_return_df_2005_2017 = intra_month_return_df.loc['2005-01-01':'2017-12-31']\n",
    "intra_month_return_df_2018_2023 = intra_month_return_df.loc['2018-01-01':'2023-12-31']\n",
    "\n",
    "\n",
    "\n"
   ]
  },
  {
   "cell_type": "code",
   "execution_count": 24,
   "metadata": {},
   "outputs": [],
   "source": [
    "# Build the correlation matrix for the stock price from 2005-2017\n",
    "correlation_holder_2005_2017 = []\n",
    "for ticker in tickers:\n",
    "    temp_df = pd.DataFrame()\n",
    "    temp_df[ticker] = last_1_month_cumulative_return_df_2005_2017[ticker]\n",
    "\n",
    "    # duplicate the column to the number of tickers\n",
    "    temp_df = pd.concat([temp_df] * len(tickers), axis=1)\n",
    "    # Change the name of the column to the ticker\n",
    "    #print(ticker)\n",
    "    temp_df.columns = tickers\n",
    "\n",
    "    # Calculate the correlation\n",
    "    correlation_series = temp_df.corrwith(last_2_month_cumulative_return_df_2005_2017, axis=0)\n",
    "    # Set the correlation_series to the correlation_df as the column\n",
    "    correlation_holder_2005_2017.append(correlation_series)\n",
    "\n",
    "correlation_df_2005_2017 = pd.concat(correlation_holder_2005_2017, axis=1)\n",
    "correlation_df_2005_2017.columns = tickers\n",
    "\n",
    "# Transpose the correlation_df\n",
    "correlation_df_T_2005_2017 = correlation_df_2005_2017.T\n",
    "\n",
    "# Get the difference between the correlation_df and correlation_df_T, so that we can know the lead-lag linkage betwe\n",
    "correlation_diff_2005_2017 =  correlation_df_T_2005_2017 - correlation_df_2005_2017"
   ]
  },
  {
   "cell_type": "code",
   "execution_count": 27,
   "metadata": {},
   "outputs": [],
   "source": [
    "# Get the pair of stocks that have lead-lag linkage and store the paris into a holder\n",
    "# Get the pair of stocks that have the highest correlation difference\n",
    "correlation_diff_selected_pairs_2005_2017 = correlation_diff_2005_2017.stack()\n",
    "correlation_diff_selected_pairs_2005_2017 = correlation_diff_selected_pairs_2005_2017[correlation_diff_selected_pairs_2005_2017 > 0.1]\n",
    "\n",
    "linkage_2005_2017 = {}\n",
    "for symbol in tickers:\n",
    "    linkage_2005_2017[symbol] = []\n",
    "\n",
    "for pair in correlation_diff_selected_pairs_2005_2017.index:\n",
    "    # Get the left and right pair\n",
    "    left, right = pair\n",
    "    #print(left, right, correlation_diff_selected_pairs_2005_2017[pair])\n",
    "    linkage_2005_2017[left].append([right, correlation_diff_selected_pairs_2005_2017[pair]])\n",
    "\n",
    "# Sort the pairs based on the correlation difference\n",
    "for symbol in tickers:\n",
    "    linkage_2005_2017[symbol] = sorted(linkage_2005_2017[symbol], key=lambda x: x[1], reverse=True)"
   ]
  },
  {
   "cell_type": "code",
   "execution_count": 28,
   "metadata": {},
   "outputs": [
    {
     "data": {
      "text/plain": [
       "[['HWM', 0.23007886404415998], ['IR', 0.17020141402388766]]"
      ]
     },
     "execution_count": 28,
     "metadata": {},
     "output_type": "execute_result"
    }
   ],
   "source": [
    "linkage_2005_2017['MMM']"
   ]
  },
  {
   "cell_type": "code",
   "execution_count": 31,
   "metadata": {},
   "outputs": [],
   "source": [
    "# Create a new dataframe that stores the stock price from 2018-2023 and the stock price from 2018-2023 of the leader stocks \n",
    "prediction_matrix_2018_2023_holder = []\n",
    "\n",
    "for data in monthly_data:\n",
    "    df = data.loc['2018-01-01':'2023-12-31'].copy()\n",
    "    # keep the intra_month_return and next_intra_month_return only\n",
    "    df = df[['intra_month_return', 'next_intra_month_return']]\n",
    "    prediction_matrix_2018_2023_holder.append(df)\n",
    "\n",
    "temp = []\n",
    "for ticker in tickers:\n",
    "    if len(linkage_2005_2017[ticker]) > 0:\n",
    "        df = prediction_matrix_2018_2023_holder[tickers.index(ticker)].copy()\n",
    "        for leader_stock in linkage_2005_2017[ticker]:\n",
    "            df['intra_month_return' + leader_stock[0]] = prediction_matrix_2018_2023_holder[tickers.index(leader_stock[0])]['intra_month_return']\n",
    "        \n",
    "        df['predicted_next_month_return'] = sum([df['intra_month_return' + pair[0]] for pair in linkage_2005_2017[ticker]]) / len(linkage_2005_2017[ticker])\n",
    "        temp.append(df)\n",
    "    prediction_matrix_2018_2023_holder[tickers.index(ticker)]['intra_month_return'] = intra_month_return_df_2018_2023[ticker]\n",
    "\n",
    "    \n",
    "prediction_matrix_2018_2023_holder = temp\n"
   ]
  },
  {
   "cell_type": "code",
   "execution_count": 32,
   "metadata": {},
   "outputs": [
    {
     "data": {
      "text/html": [
       "<div>\n",
       "<style scoped>\n",
       "    .dataframe tbody tr th:only-of-type {\n",
       "        vertical-align: middle;\n",
       "    }\n",
       "\n",
       "    .dataframe tbody tr th {\n",
       "        vertical-align: top;\n",
       "    }\n",
       "\n",
       "    .dataframe thead th {\n",
       "        text-align: right;\n",
       "    }\n",
       "</style>\n",
       "<table border=\"1\" class=\"dataframe\">\n",
       "  <thead>\n",
       "    <tr style=\"text-align: right;\">\n",
       "      <th></th>\n",
       "      <th>intra_month_return</th>\n",
       "      <th>next_intra_month_return</th>\n",
       "      <th>intra_month_returnHWM</th>\n",
       "      <th>intra_month_returnIR</th>\n",
       "      <th>predicted_next_month_return</th>\n",
       "    </tr>\n",
       "    <tr>\n",
       "      <th>date</th>\n",
       "      <th></th>\n",
       "      <th></th>\n",
       "      <th></th>\n",
       "      <th></th>\n",
       "      <th></th>\n",
       "    </tr>\n",
       "  </thead>\n",
       "  <tbody>\n",
       "    <tr>\n",
       "      <th>2018-01-02 00:00:00-05:00</th>\n",
       "      <td>0.062431</td>\n",
       "      <td>-0.042601</td>\n",
       "      <td>0.100696</td>\n",
       "      <td>0.011407</td>\n",
       "      <td>0.056051</td>\n",
       "    </tr>\n",
       "    <tr>\n",
       "      <th>2018-02-01 00:00:00-05:00</th>\n",
       "      <td>-0.042601</td>\n",
       "      <td>-0.070421</td>\n",
       "      <td>-0.180168</td>\n",
       "      <td>-0.088034</td>\n",
       "      <td>-0.134101</td>\n",
       "    </tr>\n",
       "    <tr>\n",
       "      <th>2018-03-01 00:00:00-05:00</th>\n",
       "      <td>-0.070421</td>\n",
       "      <td>-0.108507</td>\n",
       "      <td>-0.058054</td>\n",
       "      <td>-0.042148</td>\n",
       "      <td>-0.050101</td>\n",
       "    </tr>\n",
       "    <tr>\n",
       "      <th>2018-04-02 00:00:00-04:00</th>\n",
       "      <td>-0.108507</td>\n",
       "      <td>0.023444</td>\n",
       "      <td>-0.223627</td>\n",
       "      <td>0.041146</td>\n",
       "      <td>-0.091241</td>\n",
       "    </tr>\n",
       "    <tr>\n",
       "      <th>2018-05-01 00:00:00-04:00</th>\n",
       "      <td>0.023444</td>\n",
       "      <td>-0.010214</td>\n",
       "      <td>-0.016592</td>\n",
       "      <td>0.081962</td>\n",
       "      <td>0.032685</td>\n",
       "    </tr>\n",
       "    <tr>\n",
       "      <th>...</th>\n",
       "      <td>...</td>\n",
       "      <td>...</td>\n",
       "      <td>...</td>\n",
       "      <td>...</td>\n",
       "      <td>...</td>\n",
       "    </tr>\n",
       "    <tr>\n",
       "      <th>2023-08-01 00:00:00-04:00</th>\n",
       "      <td>-0.029011</td>\n",
       "      <td>-0.127493</td>\n",
       "      <td>-0.004399</td>\n",
       "      <td>0.075048</td>\n",
       "      <td>0.035325</td>\n",
       "    </tr>\n",
       "    <tr>\n",
       "      <th>2023-09-01 00:00:00-04:00</th>\n",
       "      <td>-0.127493</td>\n",
       "      <td>-0.018349</td>\n",
       "      <td>-0.073703</td>\n",
       "      <td>-0.089584</td>\n",
       "      <td>-0.081644</td>\n",
       "    </tr>\n",
       "    <tr>\n",
       "      <th>2023-10-02 00:00:00-04:00</th>\n",
       "      <td>-0.018349</td>\n",
       "      <td>0.103872</td>\n",
       "      <td>-0.040261</td>\n",
       "      <td>-0.045462</td>\n",
       "      <td>-0.042861</td>\n",
       "    </tr>\n",
       "    <tr>\n",
       "      <th>2023-11-01 00:00:00-04:00</th>\n",
       "      <td>0.103872</td>\n",
       "      <td>0.106030</td>\n",
       "      <td>0.188320</td>\n",
       "      <td>0.176138</td>\n",
       "      <td>0.182229</td>\n",
       "    </tr>\n",
       "    <tr>\n",
       "      <th>2023-12-01 00:00:00-05:00</th>\n",
       "      <td>0.106030</td>\n",
       "      <td>NaN</td>\n",
       "      <td>0.028506</td>\n",
       "      <td>0.083800</td>\n",
       "      <td>0.056153</td>\n",
       "    </tr>\n",
       "  </tbody>\n",
       "</table>\n",
       "<p>72 rows × 5 columns</p>\n",
       "</div>"
      ],
      "text/plain": [
       "                           intra_month_return  next_intra_month_return  \\\n",
       "date                                                                     \n",
       "2018-01-02 00:00:00-05:00            0.062431                -0.042601   \n",
       "2018-02-01 00:00:00-05:00           -0.042601                -0.070421   \n",
       "2018-03-01 00:00:00-05:00           -0.070421                -0.108507   \n",
       "2018-04-02 00:00:00-04:00           -0.108507                 0.023444   \n",
       "2018-05-01 00:00:00-04:00            0.023444                -0.010214   \n",
       "...                                       ...                      ...   \n",
       "2023-08-01 00:00:00-04:00           -0.029011                -0.127493   \n",
       "2023-09-01 00:00:00-04:00           -0.127493                -0.018349   \n",
       "2023-10-02 00:00:00-04:00           -0.018349                 0.103872   \n",
       "2023-11-01 00:00:00-04:00            0.103872                 0.106030   \n",
       "2023-12-01 00:00:00-05:00            0.106030                      NaN   \n",
       "\n",
       "                           intra_month_returnHWM  intra_month_returnIR  \\\n",
       "date                                                                     \n",
       "2018-01-02 00:00:00-05:00               0.100696              0.011407   \n",
       "2018-02-01 00:00:00-05:00              -0.180168             -0.088034   \n",
       "2018-03-01 00:00:00-05:00              -0.058054             -0.042148   \n",
       "2018-04-02 00:00:00-04:00              -0.223627              0.041146   \n",
       "2018-05-01 00:00:00-04:00              -0.016592              0.081962   \n",
       "...                                          ...                   ...   \n",
       "2023-08-01 00:00:00-04:00              -0.004399              0.075048   \n",
       "2023-09-01 00:00:00-04:00              -0.073703             -0.089584   \n",
       "2023-10-02 00:00:00-04:00              -0.040261             -0.045462   \n",
       "2023-11-01 00:00:00-04:00               0.188320              0.176138   \n",
       "2023-12-01 00:00:00-05:00               0.028506              0.083800   \n",
       "\n",
       "                           predicted_next_month_return  \n",
       "date                                                    \n",
       "2018-01-02 00:00:00-05:00                     0.056051  \n",
       "2018-02-01 00:00:00-05:00                    -0.134101  \n",
       "2018-03-01 00:00:00-05:00                    -0.050101  \n",
       "2018-04-02 00:00:00-04:00                    -0.091241  \n",
       "2018-05-01 00:00:00-04:00                     0.032685  \n",
       "...                                                ...  \n",
       "2023-08-01 00:00:00-04:00                     0.035325  \n",
       "2023-09-01 00:00:00-04:00                    -0.081644  \n",
       "2023-10-02 00:00:00-04:00                    -0.042861  \n",
       "2023-11-01 00:00:00-04:00                     0.182229  \n",
       "2023-12-01 00:00:00-05:00                     0.056153  \n",
       "\n",
       "[72 rows x 5 columns]"
      ]
     },
     "execution_count": 32,
     "metadata": {},
     "output_type": "execute_result"
    }
   ],
   "source": [
    "prediction_matrix_2018_2023_holder[0]"
   ]
  },
  {
   "cell_type": "markdown",
   "metadata": {},
   "source": [
    "## Long & Short Strategy"
   ]
  },
  {
   "cell_type": "code",
   "execution_count": 34,
   "metadata": {},
   "outputs": [],
   "source": [
    "for df in prediction_matrix_2018_2023_holder:\n",
    "    # Build the trading signal based on the predicted_next_month_return\n",
    "    df['signal'] = np.where(df['predicted_next_month_return'] > 0, 1, -1)\n",
    "    # Build the trading return\n",
    "    df['trading_return'] = df['signal'] * df['next_intra_month_return']\n",
    "\n",
    "# Convert the trading return to dataframe \n",
    "trading_return_holder = []\n",
    "for ticker, df in zip(tickers,prediction_matrix_2018_2023_holder):\n",
    "    trading_return = df['trading_return'].copy()\n",
    "    trading_return.name = ticker\n",
    "    trading_return_holder.append(trading_return)\n",
    "\n",
    "trading_return_df = pd.concat(trading_return_holder, axis=1)\n",
    "\n",
    "# Build an equal weighted portfolio\n",
    "portfolio = trading_return_df.mean(axis=1)\n",
    "portfolio_cumulative_return = (1 + portfolio).cumprod()\n"
   ]
  },
  {
   "cell_type": "code",
   "execution_count": 39,
   "metadata": {},
   "outputs": [
    {
     "data": {
      "text/plain": [
       "date\n",
       "2018-01-02 00:00:00-05:00    0.971511\n",
       "2018-02-01 00:00:00-05:00    0.973092\n",
       "2018-03-01 00:00:00-05:00    0.976938\n",
       "2018-04-02 00:00:00-04:00    0.975294\n",
       "2018-05-01 00:00:00-04:00    0.987296\n",
       "                               ...   \n",
       "2023-08-01 00:00:00-04:00    0.660283\n",
       "2023-09-01 00:00:00-04:00    0.680224\n",
       "2023-10-02 00:00:00-04:00    0.616443\n",
       "2023-11-01 00:00:00-04:00    0.660401\n",
       "2023-12-01 00:00:00-05:00         NaN\n",
       "Length: 72, dtype: float64"
      ]
     },
     "execution_count": 39,
     "metadata": {},
     "output_type": "execute_result"
    }
   ],
   "source": [
    "portfolio_cumulative_return"
   ]
  },
  {
   "cell_type": "code",
   "execution_count": 55,
   "metadata": {},
   "outputs": [],
   "source": [
    "# Get the cumulative return of each stocks from 2018-2023 and store it to a list\n",
    "cumulative_return_2018_2023 = []\n",
    "for df in prediction_matrix_2018_2023_holder:\n",
    "    df['cumulative_return'] = (1 + df['trading_return']).cumprod()\n",
    "    #print(df['cumulative_return'].iloc[-2])\n",
    "    cumulative_return_2018_2023.append(df['cumulative_return'].iloc[-2])"
   ]
  },
  {
   "cell_type": "markdown",
   "metadata": {},
   "source": [
    "## Long-Only"
   ]
  },
  {
   "cell_type": "code",
   "execution_count": 48,
   "metadata": {},
   "outputs": [],
   "source": [
    "for df in prediction_matrix_2018_2023_holder:\n",
    "    # Build the trading signal based on the predicted_next_month_return\n",
    "    df['signal_long_only'] = np.where(df['predicted_next_month_return'] > 0, 1, 0)\n",
    "    # Build the trading return\n",
    "    df['trading_return_long_only'] = df['signal_long_only'] * df['next_intra_month_return']\n",
    "\n",
    "# Convert the trading return to dataframe \n",
    "long_only_trading_return_holder = []\n",
    "for ticker, df in zip(tickers, prediction_matrix_2018_2023_holder):\n",
    "    long_only_trading_return = df['trading_return_long_only']\n",
    "    long_only_trading_return.name = ticker\n",
    "    long_only_trading_return_holder.append(long_only_trading_return)\n",
    "\n",
    "long_only_trading_return_df = pd.concat(long_only_trading_return_holder, axis=1)\n",
    "\n",
    "# Build an equal weighted portfolio\n",
    "portfolio_long_only = long_only_trading_return_df.mean(axis=1)\n",
    "portfolio_cumulative_return_long_only = (1 + portfolio_long_only).cumprod()\n"
   ]
  },
  {
   "cell_type": "code",
   "execution_count": 53,
   "metadata": {},
   "outputs": [],
   "source": [
    "# Calculate the cumulative return of each stocks from 2018-2023\n",
    "cumulative_return_2018_2023_long_only = []\n",
    "for df in prediction_matrix_2018_2023_holder:\n",
    "    df['cumulative_return_long_only'] = (1 + df['trading_return_long_only']).cumprod()\n",
    "    cumulative_return_2018_2023_long_only.append(df['cumulative_return_long_only'].iloc[-2])"
   ]
  },
  {
   "cell_type": "markdown",
   "metadata": {},
   "source": [
    "# Result"
   ]
  },
  {
   "cell_type": "code",
   "execution_count": 51,
   "metadata": {},
   "outputs": [
    {
     "name": "stdout",
     "output_type": "stream",
     "text": [
      "Sharpe ratio of the portfolio is -0.3327207899167109 ;  Sharpe ratio of the long only portfolio is 0.3753774395775242\n",
      "VaR of the portfolio is -0.09033691418709533 ;  VaR of the long only portfolio is -0.05035388010189022\n",
      "Annualized Return of the portfolio is -0.055734054835622826 ;  Annualized Return of the long only portfolio is 0.03570048681606856\n"
     ]
    }
   ],
   "source": [
    "# Calculate the sharpe ratio of these 2 portfolios\n",
    "sharpe_ratio = portfolio.mean() / portfolio.std() * np.sqrt(12)\n",
    "sharpe_ratio_long_only = portfolio_long_only.mean() / portfolio_long_only.std() * np.sqrt(12)\n",
    "print(f'Sharpe ratio of the portfolio is {sharpe_ratio}', '; ',f'Sharpe ratio of the long only portfolio is {sharpe_ratio_long_only}')\n",
    "\n",
    "# Calculate the VaR of these 2 portfolios\n",
    "VaR_95 = portfolio.quantile(0.05)\n",
    "VaR_95_long_only = portfolio_long_only.quantile(0.05)\n",
    "print(f'VaR of the portfolio is {VaR_95}', '; ' ,f'VaR of the long only portfolio is {VaR_95_long_only}')\n",
    "\n",
    "# Calculate the Annualized Return of these 2 portfolios\n",
    "Annualized_Return = portfolio.mean() * 12\n",
    "Annualized_Return_long_only = portfolio_long_only.mean() * 12\n",
    "print(f'Annualized Return of the portfolio is {Annualized_Return}', '; ' ,f'Annualized Return of the long only portfolio is {Annualized_Return_long_only}')\n",
    "\n"
   ]
  },
  {
   "cell_type": "code",
   "execution_count": 58,
   "metadata": {},
   "outputs": [
    {
     "data": {
      "image/png": "[encoded data removed]",
      "text/plain": [
       "<Figure size 1000x600 with 1 Axes>"
      ]
     },
     "metadata": {},
     "output_type": "display_data"
    }
   ],
   "source": [
    "# Draw the line chart of the cumulative return of the portfolio and the long only portfolio\n",
    "import matplotlib.pyplot as plt\n",
    "plt.figure(figsize=(10, 6))\n",
    "plt.plot(portfolio_cumulative_return, label='Portfolio')\n",
    "plt.plot(portfolio_cumulative_return_long_only, label='Long Only Portfolio')\n",
    "plt.legend()\n",
    "plt.title('Cumulative Return of the Portfolio and Long Only Portfolio')\n",
    "plt.show()"
   ]
  },
  {
   "cell_type": "code",
   "execution_count": null,
   "metadata": {},
   "outputs": [],
   "source": []
  }
 ],
 "metadata": {
  "kernelspec": {
   "display_name": "Python 3",
   "language": "python",
   "name": "python3"
  },
  "language_info": {
   "codemirror_mode": {
    "name": "ipython",
    "version": 3
   },
   "file_extension": ".py",
   "mimetype": "text/x-python",
   "name": "python",
   "nbconvert_exporter": "python",
   "pygments_lexer": "ipython3",
   "version": "3.10.7"
  }
 },
 "nbformat": 4,
 "nbformat_minor": 2
}
