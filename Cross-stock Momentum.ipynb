{
 "cells": [
  {
   "cell_type": "markdown",
   "metadata": {},
   "source": [
    "# Strategy Details"
   ]
  },
  {
   "cell_type": "markdown",
   "metadata": {},
   "source": [
    "Cross-stock momentum builds on the asymmetry in lead-lag linkages and the difference between long-run and short-run contemporaneous co-movements. The asymmetry distinguishes cross-stock momentum from factor momentum, and industry momentum is not subsumed by factor momentum. Factor momentum profit is mostly due to the high cross-stock links.\n",
    "\n",
    "However, the method implemented in the paper is relatively complex. We wonder if just utilizing the lead-lag linkage can generate good profit."
   ]
  },
  {
   "cell_type": "code",
   "execution_count": 1,
   "metadata": {},
   "outputs": [],
   "source": [
    "# Collect the list of the S&P 500 companies from Wikipedia and save it to a file\n",
    "import os\n",
    "import requests\n",
    "import pandas as pd\n",
    "\n",
    "# ignore warnings\n",
    "import warnings\n",
    "warnings.filterwarnings(\"ignore\")\n",
    "\n",
    "# Get the list of S&P 500 companies from Wikipedia\n",
    "url = 'https://en.wikipedia.org/wiki/List_of_S%26P_500_companies'\n",
    "response = requests.get(url)\n",
    "html = response.content\n",
    "df = pd.read_html(html, header=0)[0]\n",
    "\n",
    "tickers = df['Symbol'].tolist()"
   ]
  },
  {
   "cell_type": "code",
   "execution_count": 2,
   "metadata": {},
   "outputs": [
    {
     "name": "stderr",
     "output_type": "stream",
     "text": [
      "BRK.B: No timezone found, symbol may be delisted\n",
      "BF.B: No price data found, symbol may be delisted (1d 2005-01-01 -> 2023-12-31)\n",
      "GEV: Data doesn't exist for startDate = 1104555600, endDate = 1703998800\n",
      "SOLV: Data doesn't exist for startDate = 1104555600, endDate = 1703998800\n"
     ]
    },
    {
     "name": "stdout",
     "output_type": "stream",
     "text": [
      "Loaded data for 498 companies\n"
     ]
    }
   ],
   "source": [
    "# Load the data from yahoo finance\n",
    "import os\n",
    "import yfinance as yf\n",
    "\n",
    "def load_data(symbol):\n",
    "\n",
    "    direc = 'data/'\n",
    "    os.makedirs(direc, exist_ok=True)\n",
    "\n",
    "    file_name = os.path.join(direc, symbol + '.csv')\n",
    "\n",
    "    if not os.path.exists(file_name):\n",
    "\n",
    "        ticker = yf.Ticker(symbol)\n",
    "        df = ticker.history(start='2005-01-01', end='2023-12-31')\n",
    "\n",
    "        df.to_csv(file_name)\n",
    "\n",
    "    df = pd.read_csv(file_name, index_col=0)\n",
    "    df.index = pd.to_datetime(df.index, utc=True).tz_convert('US/Eastern')\n",
    "    df['date'] = df.index\n",
    "\n",
    "    if len(df) == 0:\n",
    "        os.remove(file_name)\n",
    "        return None\n",
    "\n",
    "    return df\n",
    "\n",
    "holder = []\n",
    "ticker_with_data = []\n",
    "for symbol in tickers:\n",
    "    df = load_data(symbol)\n",
    "    if df is not None:\n",
    "        holder.append(df)\n",
    "        ticker_with_data.append(symbol)\n",
    "\n",
    "tickers = ticker_with_data[:]\n",
    "\n",
    "print (f'Loaded data for {len(tickers)} companies')\n"
   ]
  },
  {
   "cell_type": "markdown",
   "metadata": {},
   "source": [
    "### Adding the factor and monthly return\n",
    "Assuming the we will open at the monthly open price and will close at the monthly close"
   ]
  },
  {
   "cell_type": "code",
   "execution_count": 3,
   "metadata": {},
   "outputs": [],
   "source": [
    "# We only need the monthly data, so we will resample the data,\n",
    "# Open should be the first day of the month, Close should be the last day of the month\n",
    "# High should be the maximum value of the month, Low should be the minimum value of the month\n",
    "monthly_data = []\n",
    "for data in holder:\n",
    "    df = data.resample('M').agg({\n",
    "        'date': 'first',\n",
    "        'Open': 'first',\n",
    "        'High': 'max',\n",
    "        'Low': 'min',\n",
    "        'Close': 'last',\n",
    "        'Volume': 'sum'\n",
    "    })\n",
    "\n",
    "    df.set_index('date', inplace=True)\n",
    "\n",
    "    monthly_data.append(df)\n",
    "\n",
    "del holder"
   ]
  },
  {
   "cell_type": "code",
   "execution_count": 4,
   "metadata": {},
   "outputs": [],
   "source": [
    "temp = []\n",
    "for df in monthly_data:\n",
    "    # Compute the monthly return   \n",
    "    df['monthly_return'] = df['Close'].pct_change()\n",
    "    df['intra_month_return'] = (df['Close'] - df['Open']) / df['Open']\n",
    "    df['next_intra_month_return'] = df['intra_month_return'].shift(-1)\n",
    "    # Compute the cumulative return\n",
    "    df['last_1_month_cumulative_return'] = (1 + df['monthly_return']).cumprod() - 1\n",
    "    df['last_1_month_cumulative_return'] = df['last_1_month_cumulative_return'].shift(1)    \n",
    "    df['last_2_month_cumulative_return'] = df['last_1_month_cumulative_return'].shift(1)\n",
    "    temp.append(df)\n",
    "\n",
    "monthly_data = temp\n",
    "    "
   ]
  },
  {
   "cell_type": "code",
   "execution_count": 5,
   "metadata": {},
   "outputs": [
    {
     "data": {
      "text/html": [
       "<div>\n",
       "<style scoped>\n",
       "    .dataframe tbody tr th:only-of-type {\n",
       "        vertical-align: middle;\n",
       "    }\n",
       "\n",
       "    .dataframe tbody tr th {\n",
       "        vertical-align: top;\n",
       "    }\n",
       "\n",
       "    .dataframe thead th {\n",
       "        text-align: right;\n",
       "    }\n",
       "</style>\n",
       "<table border=\"1\" class=\"dataframe\">\n",
       "  <thead>\n",
       "    <tr style=\"text-align: right;\">\n",
       "      <th></th>\n",
       "      <th>Open</th>\n",
       "      <th>High</th>\n",
       "      <th>Low</th>\n",
       "      <th>Close</th>\n",
       "      <th>Volume</th>\n",
       "      <th>monthly_return</th>\n",
       "      <th>intra_month_return</th>\n",
       "      <th>next_intra_month_return</th>\n",
       "      <th>last_1_month_cumulative_return</th>\n",
       "      <th>last_2_month_cumulative_return</th>\n",
       "    </tr>\n",
       "    <tr>\n",
       "      <th>date</th>\n",
       "      <th></th>\n",
       "      <th></th>\n",
       "      <th></th>\n",
       "      <th></th>\n",
       "      <th></th>\n",
       "      <th></th>\n",
       "      <th></th>\n",
       "      <th></th>\n",
       "      <th></th>\n",
       "      <th></th>\n",
       "    </tr>\n",
       "  </thead>\n",
       "  <tbody>\n",
       "    <tr>\n",
       "      <th>2005-01-03 00:00:00-05:00</th>\n",
       "      <td>38.470299</td>\n",
       "      <td>40.029338</td>\n",
       "      <td>37.796124</td>\n",
       "      <td>39.495613</td>\n",
       "      <td>88466685</td>\n",
       "      <td>NaN</td>\n",
       "      <td>0.026652</td>\n",
       "      <td>0.000136</td>\n",
       "      <td>NaN</td>\n",
       "      <td>NaN</td>\n",
       "    </tr>\n",
       "    <tr>\n",
       "      <th>2005-02-01 00:00:00-05:00</th>\n",
       "      <td>39.490930</td>\n",
       "      <td>40.722240</td>\n",
       "      <td>38.835480</td>\n",
       "      <td>39.496315</td>\n",
       "      <td>57967609</td>\n",
       "      <td>0.000018</td>\n",
       "      <td>0.000136</td>\n",
       "      <td>0.020727</td>\n",
       "      <td>NaN</td>\n",
       "      <td>NaN</td>\n",
       "    </tr>\n",
       "    <tr>\n",
       "      <th>2005-03-01 00:00:00-05:00</th>\n",
       "      <td>39.501024</td>\n",
       "      <td>41.147871</td>\n",
       "      <td>39.298689</td>\n",
       "      <td>40.319744</td>\n",
       "      <td>66145137</td>\n",
       "      <td>0.020848</td>\n",
       "      <td>0.020727</td>\n",
       "      <td>-0.110814</td>\n",
       "      <td>0.000018</td>\n",
       "      <td>NaN</td>\n",
       "    </tr>\n",
       "  </tbody>\n",
       "</table>\n",
       "</div>"
      ],
      "text/plain": [
       "                                Open       High        Low      Close  \\\n",
       "date                                                                    \n",
       "2005-01-03 00:00:00-05:00  38.470299  40.029338  37.796124  39.495613   \n",
       "2005-02-01 00:00:00-05:00  39.490930  40.722240  38.835480  39.496315   \n",
       "2005-03-01 00:00:00-05:00  39.501024  41.147871  39.298689  40.319744   \n",
       "\n",
       "                             Volume  monthly_return  intra_month_return  \\\n",
       "date                                                                      \n",
       "2005-01-03 00:00:00-05:00  88466685             NaN            0.026652   \n",
       "2005-02-01 00:00:00-05:00  57967609        0.000018            0.000136   \n",
       "2005-03-01 00:00:00-05:00  66145137        0.020848            0.020727   \n",
       "\n",
       "                           next_intra_month_return  \\\n",
       "date                                                 \n",
       "2005-01-03 00:00:00-05:00                 0.000136   \n",
       "2005-02-01 00:00:00-05:00                 0.020727   \n",
       "2005-03-01 00:00:00-05:00                -0.110814   \n",
       "\n",
       "                           last_1_month_cumulative_return  \\\n",
       "date                                                        \n",
       "2005-01-03 00:00:00-05:00                             NaN   \n",
       "2005-02-01 00:00:00-05:00                             NaN   \n",
       "2005-03-01 00:00:00-05:00                        0.000018   \n",
       "\n",
       "                           last_2_month_cumulative_return  \n",
       "date                                                       \n",
       "2005-01-03 00:00:00-05:00                             NaN  \n",
       "2005-02-01 00:00:00-05:00                             NaN  \n",
       "2005-03-01 00:00:00-05:00                             NaN  "
      ]
     },
     "execution_count": 5,
     "metadata": {},
     "output_type": "execute_result"
    }
   ],
   "source": [
    "monthly_data[0].head(3)"
   ]
  },
  {
   "cell_type": "markdown",
   "metadata": {},
   "source": [
    "# Regression Analysis"
   ]
  },
  {
   "cell_type": "markdown",
   "metadata": {},
   "source": [
    "According to the research paper, we use the cumulative returns to calculate the cross-stock momentum. The cross-stock momentum is calculated by the correlation of the last 1 month cumulative return of stock1 and the last 2 month cumulative return of stock2."
   ]
  },
  {
   "cell_type": "code",
   "execution_count": 6,
   "metadata": {},
   "outputs": [
    {
     "name": "stdout",
     "output_type": "stream",
     "text": [
      "                                MMM       AOS       ABT\n",
      "date                                                   \n",
      "2005-03-01 00:00:00-05:00  0.000018 -0.030615  0.021546\n",
      "2005-04-01 00:00:00-05:00  0.020866  0.064921  0.035539\n",
      "2005-05-02 00:00:00-04:00 -0.088976  0.057225  0.098264\n",
      "                                MMM       AOS       ABT\n",
      "date                                                   \n",
      "2005-04-01 00:00:00-05:00  0.000018 -0.030615  0.021546\n",
      "2005-05-02 00:00:00-04:00  0.020866  0.064921  0.035539\n",
      "2005-06-01 00:00:00-04:00 -0.088976  0.057225  0.098264\n"
     ]
    }
   ],
   "source": [
    "# Transfer all the data to a single dataframe\n",
    "last_1_month_cumulative_return_holder = []\n",
    "last_2_month_cumulative_return_holder = []\n",
    "for symbol, df in zip(tickers, monthly_data):\n",
    "    last_1_month_cumulative_return_series = df['last_1_month_cumulative_return'].copy().dropna()\n",
    "    last_2_month_cumulative_return_series = df['last_2_month_cumulative_return'].copy().dropna()\n",
    "\n",
    "    last_1_month_cumulative_return_series.name = symbol\n",
    "    last_2_month_cumulative_return_series.name = symbol\n",
    "\n",
    "    last_1_month_cumulative_return_holder.append(last_1_month_cumulative_return_series)\n",
    "    last_2_month_cumulative_return_holder.append(last_2_month_cumulative_return_series)\n",
    "\n",
    "last_1_month_cumulative_return_df = pd.concat(last_1_month_cumulative_return_holder, axis=1)\n",
    "last_2_month_cumulative_return_df = pd.concat(last_2_month_cumulative_return_holder, axis=1)\n",
    "\n",
    "print(last_1_month_cumulative_return_df.iloc[0:3, 0:3])\n",
    "print(last_2_month_cumulative_return_df.iloc[0:3, 0:3])\n",
    "\n"
   ]
  },
  {
   "cell_type": "markdown",
   "metadata": {},
   "source": [
    "## Build the correlation matrix"
   ]
  },
  {
   "cell_type": "markdown",
   "metadata": {},
   "source": [
    "To find out the lead-lag linkage, we need to first calculate the correlation. \n",
    "\n",
    "We define the cumulative return until month(t-1) of stock i as r_t-1_i, and the cumulative return until month(t) of stock j as r_t_j. We calulate the correlation of r_t-1_i, r_t_j, and the correlation of r_t_i, r_t-1_j. \n",
    "\n",
    "If Corr(r_t_i, r_t-1_j) > Corr(r_t-1_i, r_t_j), stock j leads stock i, vice versa. "
   ]
  },
  {
   "cell_type": "code",
   "execution_count": 7,
   "metadata": {},
   "outputs": [],
   "source": [
    "correlation_holder = []\n",
    "\n",
    "for ticker in tickers:\n",
    "    temp_df = pd.DataFrame()\n",
    "    temp_df[ticker] = last_1_month_cumulative_return_df[ticker]\n",
    "\n",
    "    # duplicate the column to the number of tickers so that we can use corrwith later on\n",
    "    temp_df = pd.concat([temp_df] * len(tickers), axis=1)\n",
    "    # Change the name of the column to the ticker\n",
    "    temp_df.columns = tickers\n",
    "\n",
    "    # Calculate the correlation using corrwith\n",
    "    correlation_series = temp_df.corrwith(last_2_month_cumulative_return_df, axis=0)\n",
    "    # Set the correlation_series to the correlation_df as the column\n",
    "    correlation_holder.append(correlation_series)"
   ]
  },
  {
   "cell_type": "code",
   "execution_count": 8,
   "metadata": {},
   "outputs": [],
   "source": [
    "correlation_df = pd.concat(correlation_holder, axis=1)\n",
    "correlation_df.columns = tickers\n",
    "\n",
    "# Transpose the correlation_df\n",
    "correlation_df_T = correlation_df.T"
   ]
  },
  {
   "cell_type": "markdown",
   "metadata": {},
   "source": [
    "Now we have the correlation_df and correlation_df_T\n",
    "\n",
    "In correlation_df:\n",
    "- column AAPL, row MMM means the correlation between AAPL and MMM using the last 1 month cumulative return of AAPL and last 2 month cumulative return of MMM\n",
    "- (MMM, AAPL) = Correlation(AAPL_last_1_month_cumulative_return, MMM_last_2_month_cumulative_return)\n",
    "\n",
    "\n",
    "In correlation_df_T:\n",
    "- column AAPL, row MMM means the correlation between AAPL and MMM using the last 2 month cumulative return of AAPL and last 1 month cumulative return of MMM\n",
    "- (MMM, AAPL) = Correlation(MMM_last_1_month_cumulative_return, AAPL_last_2_month_cumulative_return)"
   ]
  },
  {
   "cell_type": "code",
   "execution_count": 9,
   "metadata": {},
   "outputs": [],
   "source": [
    "# Get the difference between the correlation_df and correlation_df_T, so that we can know the lead-lag linkage betwe\n",
    "correlation_diff =  correlation_df_T - correlation_df"
   ]
  },
  {
   "cell_type": "markdown",
   "metadata": {},
   "source": [
    "Now, in the correlation_diff: \n",
    "- If (MMM, AAPL) > 0,  MMM is following AAPL\n",
    "- If (MMM, AAPL) < 0,  AAPL is following MMM"
   ]
  },
  {
   "cell_type": "code",
   "execution_count": 10,
   "metadata": {},
   "outputs": [],
   "source": [
    "# Get the pair of stocks that have the highest correlation difference\n",
    "correlation_diff_selected_pairs = correlation_diff.stack()\n",
    "correlation_diff_selected_pairs = correlation_diff_selected_pairs[correlation_diff_selected_pairs > 0.1]\n",
    "#print(correlation_diff_selected_pairs)\n",
    "# Save the pairs and the correlation into a holder \n",
    "pairs = {}\n",
    "for symbol in tickers:\n",
    "    pairs[symbol] = []\n",
    "    \n",
    "for pair in correlation_diff_selected_pairs.index:\n",
    "    # Get the left and right pair\n",
    "    left, right = pair\n",
    "    pairs[left].append([right, correlation_diff_selected_pairs[pair]])"
   ]
  },
  {
   "cell_type": "markdown",
   "metadata": {},
   "source": [
    "As one stock may have multiple leader stocks, we perform the regression analysis based on the leader stock that has the highest correlation difference, which means the stock has the strongest cross-stock momentum"
   ]
  },
  {
   "cell_type": "code",
   "execution_count": 11,
   "metadata": {},
   "outputs": [],
   "source": [
    "# Sort the pairs based on the correlation difference so that we can select the stock with the highest correlation difference\n",
    "for symbol in tickers:\n",
    "    pairs[symbol] = sorted(pairs[symbol], key=lambda x: x[1], reverse=True)\n",
    "\n",
    "# Add the intra_month_return for the leader stocks to the monthly_data of the lagged stocks\n",
    "for ticker in tickers:\n",
    "    if len(pairs[ticker]) > 0:\n",
    "        monthly_data[tickers.index(ticker)]['intra_month_return' + pairs[ticker][0][0]] = monthly_data[tickers.index(pairs[ticker][0][0])]['intra_month_return']"
   ]
  },
  {
   "cell_type": "code",
   "execution_count": 12,
   "metadata": {},
   "outputs": [],
   "source": [
    "# Build the regression analysis\n",
    "regression_data = []\n",
    "for ticker in tickers:\n",
    "    if len(pairs[ticker]) > 0:\n",
    "            \n",
    "        df = pd.DataFrame()\n",
    "        df['y'] = monthly_data[tickers.index(ticker)]['next_intra_month_return']\n",
    "        df['intra_month_retrun'+pairs[ticker][0][0]] = monthly_data[tickers.index(ticker)]['intra_month_return'+pairs[ticker][0][0]]\n",
    "    \n",
    "        regression_data.append(df)\n",
    "            "
   ]
  },
  {
   "cell_type": "code",
   "execution_count": 13,
   "metadata": {},
   "outputs": [
    {
     "name": "stdout",
     "output_type": "stream",
     "text": [
      "                            OLS Regression Results                            \n",
      "==============================================================================\n",
      "Dep. Variable:                      y   R-squared:                       0.000\n",
      "Model:                            OLS   Adj. R-squared:                 -0.000\n",
      "Method:                 Least Squares   F-statistic:                    0.5691\n",
      "Date:                Tue, 09 Jul 2024   Prob (F-statistic):              0.451\n",
      "Time:                        22:19:53   Log-Likelihood:                 7123.9\n",
      "No. Observations:                7082   AIC:                        -1.424e+04\n",
      "Df Residuals:                    7080   BIC:                        -1.423e+04\n",
      "Df Model:                           1                                         \n",
      "Covariance Type:            nonrobust                                         \n",
      "===================================================================================================\n",
      "                                      coef    std err          t      P>|t|      [0.025      0.975]\n",
      "---------------------------------------------------------------------------------------------------\n",
      "const                               0.0103      0.001      9.744      0.000       0.008       0.012\n",
      "Leader Stock Intra Month Return     0.0074      0.010      0.754      0.451      -0.012       0.027\n",
      "==============================================================================\n",
      "Omnibus:                      308.413   Durbin-Watson:                   2.020\n",
      "Prob(Omnibus):                  0.000   Jarque-Bera (JB):              960.045\n",
      "Skew:                           0.123   Prob(JB):                    3.38e-209\n",
      "Kurtosis:                       4.787   Cond. No.                         9.37\n",
      "==============================================================================\n",
      "\n",
      "Notes:\n",
      "[1] Standard Errors assume that the covariance matrix of the errors is correctly specified.\n"
     ]
    }
   ],
   "source": [
    "import statsmodels.api as sm\n",
    "from statsmodels.regression.linear_model import OLS\n",
    "import numpy as np\n",
    "\n",
    "regression_holder_leader_stock = []\n",
    "regression_holder_y = []\n",
    "\n",
    "for df in regression_data:\n",
    "    df.dropna(inplace=True)\n",
    "    # X is the second column\n",
    "    X_leader_stock = df.iloc[:, 1:2]\n",
    "    # Set the index of X to be the number of the row\n",
    "    X_leader_stock.index = np.arange(len(X_leader_stock))\n",
    "    # Set the column name to be \"CORR\"\n",
    "    X_leader_stock.columns = ['Leader Stock Intra Month Return']     \n",
    "    y = df['y']\n",
    "    # Set the index of y to be the number of the row\n",
    "    y.index = np.arange(len(y))\n",
    "    \n",
    "    regression_holder_leader_stock.append(X_leader_stock)\n",
    "    \n",
    "    regression_holder_y.append(y)\n",
    "\n",
    "regression_df = pd.DataFrame()\n",
    "# Concatenate all the X and y vertically\n",
    "regression_df_leader_stock = pd.concat(regression_holder_leader_stock,ignore_index=True)\n",
    "regression_df_y = pd.concat(regression_holder_y,ignore_index=True)\n",
    "\n",
    "regression_df = pd.concat([regression_df_leader_stock, regression_df_y], axis=1)\n",
    "\n",
    "# Fit the regression model for y and CORR\n",
    "X = sm.add_constant(regression_df['Leader Stock Intra Month Return'])\n",
    "model = OLS(regression_df['y'], X)\n",
    "result_corr = model.fit()\n",
    "print(result_corr.summary())\n",
    "\n",
    "    "
   ]
  },
  {
   "cell_type": "markdown",
   "metadata": {},
   "source": [
    "## Analysis on the regression results"
   ]
  },
  {
   "cell_type": "markdown",
   "metadata": {},
   "source": [
    "- The coefficient of the leader stock intra-month return is 0.074 with a p-value of 0.451. This suggests that nearly half of the lagged stocks do not generally follow the trends of their leader stocks. This indicates that the lead-lag relationships may not be as strong as expected based on the cross-stock momentum hypothesis. However, we may still derive a regression model for each lagged stocks to predict their future returns based on their leader stocks.\n",
    "\n",
    "- There are a few potential reasons for this:\n",
    "    - Smaller sample size: We only used the historical monthly data from 2005 - 2020. The whole sample size may be relatively smaller, which may have limited the ability to reliably detect and quantify the cross-stock momentum effects\n",
    "    - Data-driven approach limitations: As we used the data-driven methods to identify lead-lag linkages, the approach may be deviated from the definition of cross-stock momentum which is due to some factors like same industry, same supply chain, same location, etc.. \n",
    "    - There may be some problems in the code. Please let us know if you find any mistakes. "
   ]
  },
  {
   "cell_type": "markdown",
   "metadata": {},
   "source": [
    "### Next Step"
   ]
  },
  {
   "cell_type": "markdown",
   "metadata": {},
   "source": [
    "Although the p-value is not that satisfactory, it is still worthwile to build a simple trading strategy based on lead-lag linkages."
   ]
  },
  {
   "cell_type": "markdown",
   "metadata": {},
   "source": [
    "# Cross-stock Momentum Strategy using data-driven linkages"
   ]
  },
  {
   "cell_type": "markdown",
   "metadata": {},
   "source": [
    "We first used the stock data from 2005-2017 to identify the leader stocks and the laggard stocks. After determining the leader stocks for each laggard stock, we used the data from 2005-2017 to build multi-variable regression models. The independent variables in these models were the intra-month returns of the leader stocks, and the dependent variable was the next intra-month return of the corresponding laggard stock.\n",
    "\n",
    "Next, we used these regression models to predict the next intra-month returns of the laggard stocks based on the intra-month returns of the leader stocks from 2018 - 2023.\n",
    "\n",
    "Based on the predicted next intra-month returns, we then implemented two trading strategies:\n",
    "\n",
    "- Long-and-short strategy: We took long positions when the predicted next intra-month return was positive, and short positions when the predicted next intra-month return was negative.\n",
    "- Long-only strategy: We only took long positions when the predicted next intra-month returns were positive.\n",
    "    \n",
    "The key steps in this process were:\n",
    "\n",
    "1. Identifying leader and laggard stocks using 2005-2017 data\n",
    "2. Building regression models to predict laggard stock returns using leader stock returns\n",
    "3. Applying the regression models to 2018-2023 data to generate predicted returns\n",
    "4. Implementing long-and-short and long-only trading strategies based on the predicted returns"
   ]
  },
  {
   "cell_type": "code",
   "execution_count": 14,
   "metadata": {},
   "outputs": [],
   "source": [
    "# Get the stock price from 2005-2017 and stock price from 2018-2023\n",
    "last_1_month_cumulative_return_df_2005_2017 = last_1_month_cumulative_return_df.loc['2005-01-01':'2017-12-31']\n",
    "last_1_month_cumulative_return_df_2018_2023 = last_1_month_cumulative_return_df.loc['2018-01-01':'2023-12-31']\n",
    "\n",
    "last_2_month_cumulative_return_df_2005_2017 = last_2_month_cumulative_return_df.loc['2005-01-01':'2017-12-31']\n",
    "last_2_month_cumulative_return_df_2018_2023 = last_2_month_cumulative_return_df.loc['2018-01-01':'2023-12-31']\n",
    "\n",
    "# Get the dataframe containing the next month return from 2005-2017 and 2018-2023\n",
    "next_intra_month_return_holder = []\n",
    "intra_month_return_holder = []\n",
    "for symbol,df in zip(tickers, monthly_data):\n",
    "    next_intra_month_return_series = df['next_intra_month_return'].copy().dropna()\n",
    "    next_intra_month_return_series.name = symbol\n",
    "    intra_month_return_series = df['intra_month_return'].copy().dropna()\n",
    "    intra_month_return_series.name = symbol\n",
    "\n",
    "    next_intra_month_return_holder.append(next_intra_month_return_series)\n",
    "    intra_month_return_holder.append(intra_month_return_series)\n",
    "\n",
    "next_intra_month_return_df = pd.concat(next_intra_month_return_holder, axis=1)\n",
    "intra_month_return_df = pd.concat(intra_month_return_holder, axis=1)\n",
    "\n",
    "next_intra_month_return_df_2005_2017 = next_intra_month_return_df.loc['2005-01-01':'2017-12-31']\n",
    "next_intra_month_return_df_2018_2023 = next_intra_month_return_df.loc['2018-01-01':'2023-12-31']\n",
    "\n",
    "intra_month_return_df_2005_2017 = intra_month_return_df.loc['2005-01-01':'2017-12-31']\n",
    "intra_month_return_df_2018_2023 = intra_month_return_df.loc['2018-01-01':'2023-12-31']\n"
   ]
  },
  {
   "cell_type": "code",
   "execution_count": 15,
   "metadata": {},
   "outputs": [],
   "source": [
    "# Build the correlation matrix for the stock price from 2005-2017\n",
    "correlation_holder_2005_2017 = []\n",
    "for ticker in tickers:\n",
    "    temp_df = pd.DataFrame()\n",
    "    temp_df[ticker] = last_1_month_cumulative_return_df_2005_2017[ticker]\n",
    "\n",
    "    # duplicate the column to the number of tickers\n",
    "    temp_df = pd.concat([temp_df] * len(tickers), axis=1)\n",
    "    # Change the name of the column to the ticker\n",
    "    #print(ticker)\n",
    "    temp_df.columns = tickers\n",
    "\n",
    "    # Calculate the correlation\n",
    "    correlation_series = temp_df.corrwith(last_2_month_cumulative_return_df_2005_2017, axis=0)\n",
    "    # Set the correlation_series to the correlation_df as the column\n",
    "    correlation_holder_2005_2017.append(correlation_series)\n",
    "\n",
    "correlation_df_2005_2017 = pd.concat(correlation_holder_2005_2017, axis=1)\n",
    "correlation_df_2005_2017.columns = tickers\n",
    "\n",
    "# Transpose the correlation_df\n",
    "correlation_df_T_2005_2017 = correlation_df_2005_2017.T\n",
    "\n",
    "# Get the difference between the correlation_df and correlation_df_T, so that we can know the lead-lag linkage betwe\n",
    "correlation_diff_2005_2017 =  correlation_df_T_2005_2017 - correlation_df_2005_2017"
   ]
  },
  {
   "cell_type": "code",
   "execution_count": 16,
   "metadata": {},
   "outputs": [],
   "source": [
    "# Get the pair of stocks that have lead-lag linkage and store the paris into a holder\n",
    "# Get the pair of stocks that have the highest correlation difference\n",
    "correlation_diff_selected_pairs_2005_2017 = correlation_diff_2005_2017.stack()\n",
    "correlation_diff_selected_pairs_2005_2017 = correlation_diff_selected_pairs_2005_2017[correlation_diff_selected_pairs_2005_2017 > 0.1]\n",
    "\n",
    "linkage_2005_2017 = {}\n",
    "for symbol in tickers:\n",
    "    linkage_2005_2017[symbol] = []\n",
    "\n",
    "for pair in correlation_diff_selected_pairs_2005_2017.index:\n",
    "    # Get the left and right pair\n",
    "    left, right = pair\n",
    "    #print(left, right, correlation_diff_selected_pairs_2005_2017[pair])\n",
    "    linkage_2005_2017[left].append([right, correlation_diff_selected_pairs_2005_2017[pair]])\n",
    "\n",
    "# Sort the pairs based on the correlation difference\n",
    "for symbol in tickers:\n",
    "    linkage_2005_2017[symbol] = sorted(linkage_2005_2017[symbol], key=lambda x: x[1], reverse=True)"
   ]
  },
  {
   "cell_type": "code",
   "execution_count": 17,
   "metadata": {},
   "outputs": [],
   "source": [
    "# Build the multi-regression model for each lagged stock and get the coefficients\n",
    "regression_model_2005_2017 = {}\n",
    "for ticker in tickers:\n",
    "    if len(linkage_2005_2017[ticker]) > 0:\n",
    "        df = pd.DataFrame()\n",
    "        df['y'] = next_intra_month_return_df_2005_2017[ticker]\n",
    "        for i in range(len(linkage_2005_2017[ticker])):\n",
    "            df['intra_month_return '+linkage_2005_2017[ticker][i][0]] = intra_month_return_df_2005_2017[linkage_2005_2017[ticker][i][0]]\n",
    "\n",
    "        df.dropna(inplace=True)\n",
    "        X = sm.add_constant(df.iloc[:, 1:])\n",
    "        model = OLS(df['y'], X)\n",
    "        result = model.fit()\n",
    "        regression_model_2005_2017[ticker] = result.params\n"
   ]
  },
  {
   "cell_type": "code",
   "execution_count": 18,
   "metadata": {},
   "outputs": [],
   "source": [
    "# Create a new dataframe that stores the returns from 2018-2023 of the laggard stocks and the returns of the leader stocks \n",
    "prediction_matrix_2018_2023_holder = []\n",
    "\n",
    "for data in monthly_data:\n",
    "    df = data.loc['2018-01-01':'2023-12-31'].copy()\n",
    "    # keep the intra_month_return and next_intra_month_return only\n",
    "    df = df[['intra_month_return', 'next_intra_month_return']]\n",
    "    prediction_matrix_2018_2023_holder.append(df)\n",
    "\n",
    "temp = []\n",
    "for ticker in tickers:\n",
    "    if len(linkage_2005_2017[ticker]) > 0:\n",
    "        df = prediction_matrix_2018_2023_holder[tickers.index(ticker)].copy()\n",
    "        for leader_stock in linkage_2005_2017[ticker]:\n",
    "            df['intra_month_return' + leader_stock[0]] = prediction_matrix_2018_2023_holder[tickers.index(leader_stock[0])]['intra_month_return']\n",
    "        \n",
    "        #df['predicted_next_month_return'] = sum([df['intra_month_return' + pair[0]] for pair in linkage_2005_2017[ticker]]) / len(linkage_2005_2017[ticker])\n",
    "        \n",
    "        # Based on the regression model, we can predict the next month return\n",
    "        df['predicted_next_month_return'] = sum([df['intra_month_return' + pair[0]] * regression_model_2005_2017[ticker]['intra_month_return '+pair[0]] for pair in linkage_2005_2017[ticker]]) + regression_model_2005_2017[ticker]['const']\n",
    "        temp.append(df)\n",
    "    \n",
    "prediction_matrix_2018_2023_holder = temp\n"
   ]
  },
  {
   "cell_type": "markdown",
   "metadata": {},
   "source": [
    "## Long & Short Strategy"
   ]
  },
  {
   "cell_type": "code",
   "execution_count": 20,
   "metadata": {},
   "outputs": [],
   "source": [
    "for df in prediction_matrix_2018_2023_holder:\n",
    "    # Build the trading signal based on the predicted_next_month_return\n",
    "    df['signal'] = np.where(df['predicted_next_month_return'] > 0, 1, -1)\n",
    "    # Build the trading return\n",
    "    df['next_intra_month_trading_return'] = df['signal'] * df['next_intra_month_return']\n",
    "\n",
    "# Convert the trading return to dataframe \n",
    "trading_return_holder = []\n",
    "for ticker, df in zip(tickers,prediction_matrix_2018_2023_holder):\n",
    "    trading_return = df['next_intra_month_trading_return'].copy()\n",
    "    trading_return.name = ticker\n",
    "    trading_return_holder.append(trading_return)\n",
    "\n",
    "trading_return_df = pd.concat(trading_return_holder, axis=1)\n",
    "\n",
    "# Build an equal weighted portfolio\n",
    "portfolio = trading_return_df.mean(axis=1)\n",
    "portfolio_cumulative_return = (1 + portfolio).cumprod()\n"
   ]
  },
  {
   "cell_type": "code",
   "execution_count": 21,
   "metadata": {},
   "outputs": [],
   "source": [
    "# Get the cumulative return of each stocks from 2018-2023 and store it to a list\n",
    "cumulative_return_2018_2023 = []\n",
    "for df in prediction_matrix_2018_2023_holder:\n",
    "    df['cumulative_return'] = (1 + df['next_intra_month_trading_return']).cumprod()\n",
    "    cumulative_return_2018_2023.append(df['cumulative_return'].iloc[-2])"
   ]
  },
  {
   "cell_type": "markdown",
   "metadata": {},
   "source": [
    "## Long-Only"
   ]
  },
  {
   "cell_type": "code",
   "execution_count": 22,
   "metadata": {},
   "outputs": [],
   "source": [
    "for df in prediction_matrix_2018_2023_holder:\n",
    "    # Build the trading signal based on the predicted_next_month_return\n",
    "    df['signal_long_only'] = np.where(df['predicted_next_month_return'] > 0, 1, 0)\n",
    "    # Build the trading return\n",
    "    df['trading_return_long_only'] = df['signal_long_only'] * df['next_intra_month_return']\n",
    "\n",
    "# Convert the trading return to dataframe \n",
    "long_only_trading_return_holder = []\n",
    "for ticker, df in zip(tickers, prediction_matrix_2018_2023_holder):\n",
    "    long_only_trading_return = df['trading_return_long_only']\n",
    "    long_only_trading_return.name = ticker\n",
    "    long_only_trading_return_holder.append(long_only_trading_return)\n",
    "\n",
    "long_only_trading_return_df = pd.concat(long_only_trading_return_holder, axis=1)\n",
    "\n",
    "# Build an equal weighted portfolio\n",
    "portfolio_long_only = long_only_trading_return_df.mean(axis=1)\n",
    "portfolio_cumulative_return_long_only = (1 + portfolio_long_only).cumprod()\n"
   ]
  },
  {
   "cell_type": "code",
   "execution_count": 23,
   "metadata": {},
   "outputs": [],
   "source": [
    "# Calculate the cumulative return of each stocks from 2018-2023\n",
    "cumulative_return_2018_2023_long_only = []\n",
    "for df in prediction_matrix_2018_2023_holder:\n",
    "    df['cumulative_return_long_only'] = (1 + df['trading_return_long_only']).cumprod()\n",
    "    cumulative_return_2018_2023_long_only.append(df['cumulative_return_long_only'].iloc[-2])"
   ]
  },
  {
   "cell_type": "markdown",
   "metadata": {},
   "source": [
    "# Result"
   ]
  },
  {
   "cell_type": "code",
   "execution_count": 24,
   "metadata": {},
   "outputs": [
    {
     "name": "stdout",
     "output_type": "stream",
     "text": [
      "Sharpe ratio of the portfolio is 0.10484400453989033\n",
      "Sharpe ratio of the long only portfolio is 0.573625899873408\n",
      "VaR of the portfolio is -0.024983647138103682\n",
      "VaR of the long only portfolio is -0.054251632821182796\n",
      "Annualized Return of the portfolio is 0.00587687337655636\n",
      "Annualized Return of the long only portfolio is 0.06665934610787501\n",
      "Total Return of the portfolio is 1.025868234612324\n",
      "Total Return of the long only portfolio is 1.4247354462256334\n"
     ]
    }
   ],
   "source": [
    "# Calculate the sharpe ratio of these 2 portfolios\n",
    "# change a new row to print the sharpe ratio of the long only portfolio\n",
    "sharpe_ratio = portfolio.mean() / portfolio.std() * np.sqrt(12)\n",
    "sharpe_ratio_long_only = portfolio_long_only.mean() / portfolio_long_only.std() * np.sqrt(12)\n",
    "print(f'Sharpe ratio of the portfolio is {sharpe_ratio}')\n",
    "print(f'Sharpe ratio of the long only portfolio is {sharpe_ratio_long_only}')\n",
    "\n",
    "# Calculate the VaR of these 2 portfolios\n",
    "VaR_95 = portfolio.quantile(0.05)\n",
    "VaR_95_long_only = portfolio_long_only.quantile(0.05)\n",
    "print(f'VaR of the portfolio is {VaR_95}')\n",
    "print(f'VaR of the long only portfolio is {VaR_95_long_only}')\n",
    "\n",
    "# Calculate the Annualized Return of these 2 portfolios\n",
    "Annualized_Return = portfolio.mean() * 12\n",
    "Annualized_Return_long_only = portfolio_long_only.mean() * 12\n",
    "print(f'Annualized Return of the portfolio is {Annualized_Return}')\n",
    "print(f'Annualized Return of the long only portfolio is {Annualized_Return_long_only}')\n",
    "\n",
    "# Calculate the total return of these 2 portfolios\n",
    "Total_Return = portfolio_cumulative_return.iloc[-2]\n",
    "Total_Return_long_only = portfolio_cumulative_return_long_only.iloc[-2]\n",
    "print(f'Total Return of the portfolio is {Total_Return}')\n",
    "print(f'Total Return of the long only portfolio is {Total_Return_long_only}')\n",
    "\n",
    "\n"
   ]
  },
  {
   "cell_type": "code",
   "execution_count": 25,
   "metadata": {},
   "outputs": [
    {
     "data": {
      "image/png": "[encoded data removed]",
      "text/plain": [
       "<Figure size 1000x600 with 1 Axes>"
      ]
     },
     "metadata": {},
     "output_type": "display_data"
    }
   ],
   "source": [
    "# Draw the line chart of the cumulative return of the portfolio and the long only portfolio\n",
    "import matplotlib.pyplot as plt\n",
    "plt.figure(figsize=(10, 6))\n",
    "plt.plot(portfolio_cumulative_return, label='Portfolio')\n",
    "plt.plot(portfolio_cumulative_return_long_only, label='Long Only Portfolio')\n",
    "plt.legend()\n",
    "plt.title('Cumulative Return of the Portfolio and Long Only Portfolio')\n",
    "plt.show()"
   ]
  },
  {
   "cell_type": "markdown",
   "metadata": {},
   "source": [
    "From the result we can see that the long-only portfolio gernerates much better annual returns and total return than the long-and-short strategy. The reasons may be:\n",
    "1.  The stock market tends to have an upward bias over time, with stocks exhibiting more upside potential than downside risk.\n",
    "2. The regression models used to predict laggard stock returns may have had more difficulty accurately forecasting negative returns compared to positive returns."
   ]
  },
  {
   "cell_type": "markdown",
   "metadata": {},
   "source": [
    "## Limiations and Further Improvement"
   ]
  },
  {
   "cell_type": "markdown",
   "metadata": {},
   "source": [
    "1. To enhance the model, we could explore more sophisticated regression techniques, such as non-linear models (e.g., polynomial regression, decision trees, neural networks) or ensemble methods (e.g., random forests, boosting).\n",
    "2. Based on the regression analysis above, we can see there are some leader stocks actually cannot predict the trends of the laggard stocks. We could work on how to improve the selection of the leader stocks.\n",
    "3. As we only used the tickers from S&P500, one potential enhancement could be to explore the linkages between large-cap and small-cap stocks, as the larger-cap stocks may have stronger informational or behavioral influences on the smaller-cap names."
   ]
  }
 ],
 "metadata": {
  "kernelspec": {
   "display_name": "Python 3",
   "language": "python",
   "name": "python3"
  },
  "language_info": {
   "codemirror_mode": {
    "name": "ipython",
    "version": 3
   },
   "file_extension": ".py",
   "mimetype": "text/x-python",
   "name": "python",
   "nbconvert_exporter": "python",
   "pygments_lexer": "ipython3",
   "version": "3.10.7"
  }
 },
 "nbformat": 4,
 "nbformat_minor": 2
}
